{
 "cells": [
  {
   "cell_type": "code",
   "execution_count": 1,
   "metadata": {},
   "outputs": [],
   "source": [
    "import os\n",
    "os.getcwd()\n",
    "import os\n",
    "import pandas as pd\n",
    "import seaborn as sns\n",
    "from datetime import datetime\n",
    "import matplotlib.pyplot as plt\n",
    "#from scripts import graphs\n",
    "import warnings\n",
    "warnings.filterwarnings('ignore')\n",
    "%matplotlib inline\n",
    "pd.options.display.max_colwidth = 100\n",
    "import requests\n",
    "import csv\n",
    "import datetime\n",
    "import matplotlib as mpl\n",
    "import numpy as np\n",
    "import math\n",
    "\n",
    "from matplotlib import pyplot as plt\n",
    "from sklearn.model_selection import train_test_split\n",
    "from sklearn.preprocessing import PolynomialFeatures\n",
    "from sklearn.linear_model import LinearRegression\n",
    "from sklearn.metrics import r2_score, mean_squared_error"
   ]
  },
  {
   "cell_type": "markdown",
   "metadata": {},
   "source": [
    "# The Data:"
   ]
  },
  {
   "cell_type": "code",
   "execution_count": 2,
   "metadata": {},
   "outputs": [],
   "source": [
    "confirmed= pd.read_csv('provincial_cumulative_timeline_confirmed.csv')\n",
    "recovered=pd.read_csv('covid19za_provincial_cumulative_timeline_recoveries.csv')\n",
    "death=pd.read_csv('covid19za_provincial_cumulative_timeline_deaths.csv')\n",
    "vacc=pd.read_csv('covid19za_provincial_cumulative_timeline_vaccination.csv')\n",
    "testing= pd.read_csv('covid19za_provincial_cumulative_timeline_testing.csv')"
   ]
  },
  {
   "cell_type": "code",
   "execution_count": 3,
   "metadata": {},
   "outputs": [
    {
     "data": {
      "text/html": [
       "<div>\n",
       "<style scoped>\n",
       "    .dataframe tbody tr th:only-of-type {\n",
       "        vertical-align: middle;\n",
       "    }\n",
       "\n",
       "    .dataframe tbody tr th {\n",
       "        vertical-align: top;\n",
       "    }\n",
       "\n",
       "    .dataframe thead th {\n",
       "        text-align: right;\n",
       "    }\n",
       "</style>\n",
       "<table border=\"1\" class=\"dataframe\">\n",
       "  <thead>\n",
       "    <tr style=\"text-align: right;\">\n",
       "      <th></th>\n",
       "      <th>date</th>\n",
       "      <th>YYYYMMDD</th>\n",
       "      <th>EC</th>\n",
       "      <th>FS</th>\n",
       "      <th>GP</th>\n",
       "      <th>KZN</th>\n",
       "      <th>LP</th>\n",
       "      <th>MP</th>\n",
       "      <th>NC</th>\n",
       "      <th>NW</th>\n",
       "      <th>WC</th>\n",
       "      <th>UNKNOWN</th>\n",
       "      <th>total</th>\n",
       "      <th>source</th>\n",
       "    </tr>\n",
       "  </thead>\n",
       "  <tbody>\n",
       "    <tr>\n",
       "      <th>0</th>\n",
       "      <td>5/3/20</td>\n",
       "      <td>20200305</td>\n",
       "      <td>0.0</td>\n",
       "      <td>0.0</td>\n",
       "      <td>0.0</td>\n",
       "      <td>1.0</td>\n",
       "      <td>0.0</td>\n",
       "      <td>0.0</td>\n",
       "      <td>0.0</td>\n",
       "      <td>0.0</td>\n",
       "      <td>0.0</td>\n",
       "      <td>0.0</td>\n",
       "      <td>1</td>\n",
       "      <td>NaN</td>\n",
       "    </tr>\n",
       "    <tr>\n",
       "      <th>1</th>\n",
       "      <td>7/3/20</td>\n",
       "      <td>20200307</td>\n",
       "      <td>0.0</td>\n",
       "      <td>0.0</td>\n",
       "      <td>1.0</td>\n",
       "      <td>1.0</td>\n",
       "      <td>0.0</td>\n",
       "      <td>0.0</td>\n",
       "      <td>0.0</td>\n",
       "      <td>0.0</td>\n",
       "      <td>0.0</td>\n",
       "      <td>0.0</td>\n",
       "      <td>2</td>\n",
       "      <td>NaN</td>\n",
       "    </tr>\n",
       "    <tr>\n",
       "      <th>2</th>\n",
       "      <td>8/3/20</td>\n",
       "      <td>20200308</td>\n",
       "      <td>0.0</td>\n",
       "      <td>0.0</td>\n",
       "      <td>1.0</td>\n",
       "      <td>2.0</td>\n",
       "      <td>0.0</td>\n",
       "      <td>0.0</td>\n",
       "      <td>0.0</td>\n",
       "      <td>0.0</td>\n",
       "      <td>0.0</td>\n",
       "      <td>0.0</td>\n",
       "      <td>3</td>\n",
       "      <td>NaN</td>\n",
       "    </tr>\n",
       "    <tr>\n",
       "      <th>3</th>\n",
       "      <td>9/3/20</td>\n",
       "      <td>20200309</td>\n",
       "      <td>0.0</td>\n",
       "      <td>0.0</td>\n",
       "      <td>1.0</td>\n",
       "      <td>6.0</td>\n",
       "      <td>0.0</td>\n",
       "      <td>0.0</td>\n",
       "      <td>0.0</td>\n",
       "      <td>0.0</td>\n",
       "      <td>0.0</td>\n",
       "      <td>0.0</td>\n",
       "      <td>7</td>\n",
       "      <td>NaN</td>\n",
       "    </tr>\n",
       "    <tr>\n",
       "      <th>4</th>\n",
       "      <td>11/3/20</td>\n",
       "      <td>20200311</td>\n",
       "      <td>0.0</td>\n",
       "      <td>0.0</td>\n",
       "      <td>5.0</td>\n",
       "      <td>7.0</td>\n",
       "      <td>0.0</td>\n",
       "      <td>0.0</td>\n",
       "      <td>0.0</td>\n",
       "      <td>0.0</td>\n",
       "      <td>1.0</td>\n",
       "      <td>0.0</td>\n",
       "      <td>13</td>\n",
       "      <td>NaN</td>\n",
       "    </tr>\n",
       "  </tbody>\n",
       "</table>\n",
       "</div>"
      ],
      "text/plain": [
       "      date  YYYYMMDD   EC   FS   GP  KZN   LP   MP   NC   NW   WC  UNKNOWN  \\\n",
       "0   5/3/20  20200305  0.0  0.0  0.0  1.0  0.0  0.0  0.0  0.0  0.0      0.0   \n",
       "1   7/3/20  20200307  0.0  0.0  1.0  1.0  0.0  0.0  0.0  0.0  0.0      0.0   \n",
       "2   8/3/20  20200308  0.0  0.0  1.0  2.0  0.0  0.0  0.0  0.0  0.0      0.0   \n",
       "3   9/3/20  20200309  0.0  0.0  1.0  6.0  0.0  0.0  0.0  0.0  0.0      0.0   \n",
       "4  11/3/20  20200311  0.0  0.0  5.0  7.0  0.0  0.0  0.0  0.0  1.0      0.0   \n",
       "\n",
       "   total source  \n",
       "0      1    NaN  \n",
       "1      2    NaN  \n",
       "2      3    NaN  \n",
       "3      7    NaN  \n",
       "4     13    NaN  "
      ]
     },
     "execution_count": 3,
     "metadata": {},
     "output_type": "execute_result"
    }
   ],
   "source": [
    "confirmed.head()"
   ]
  },
  {
   "cell_type": "code",
   "execution_count": 4,
   "metadata": {},
   "outputs": [
    {
     "data": {
      "text/html": [
       "<div>\n",
       "<style scoped>\n",
       "    .dataframe tbody tr th:only-of-type {\n",
       "        vertical-align: middle;\n",
       "    }\n",
       "\n",
       "    .dataframe tbody tr th {\n",
       "        vertical-align: top;\n",
       "    }\n",
       "\n",
       "    .dataframe thead th {\n",
       "        text-align: right;\n",
       "    }\n",
       "</style>\n",
       "<table border=\"1\" class=\"dataframe\">\n",
       "  <thead>\n",
       "    <tr style=\"text-align: right;\">\n",
       "      <th></th>\n",
       "      <th>date</th>\n",
       "      <th>YYYYMMDD</th>\n",
       "      <th>EC</th>\n",
       "      <th>FS</th>\n",
       "      <th>GP</th>\n",
       "      <th>KZN</th>\n",
       "      <th>LP</th>\n",
       "      <th>MP</th>\n",
       "      <th>NC</th>\n",
       "      <th>NW</th>\n",
       "      <th>WC</th>\n",
       "      <th>UNKNOWN</th>\n",
       "      <th>total</th>\n",
       "      <th>source</th>\n",
       "    </tr>\n",
       "  </thead>\n",
       "  <tbody>\n",
       "    <tr>\n",
       "      <th>0</th>\n",
       "      <td>17-04-2020</td>\n",
       "      <td>20200417</td>\n",
       "      <td>9</td>\n",
       "      <td>71</td>\n",
       "      <td>479.0</td>\n",
       "      <td>96</td>\n",
       "      <td>18</td>\n",
       "      <td>9</td>\n",
       "      <td>10</td>\n",
       "      <td>6</td>\n",
       "      <td>205</td>\n",
       "      <td>0</td>\n",
       "      <td>903.0</td>\n",
       "      <td>https://twitter.com/nicd_sa/status/1251215194765832194/photo/1</td>\n",
       "    </tr>\n",
       "    <tr>\n",
       "      <th>1</th>\n",
       "      <td>18-04-2020</td>\n",
       "      <td>20200418</td>\n",
       "      <td>9</td>\n",
       "      <td>71</td>\n",
       "      <td>479.0</td>\n",
       "      <td>96</td>\n",
       "      <td>18</td>\n",
       "      <td>9</td>\n",
       "      <td>10</td>\n",
       "      <td>6</td>\n",
       "      <td>205</td>\n",
       "      <td>0</td>\n",
       "      <td>903.0</td>\n",
       "      <td>https://twitter.com/nicd_sa/status/1251595223534362625/photo/1</td>\n",
       "    </tr>\n",
       "    <tr>\n",
       "      <th>2</th>\n",
       "      <td>19-04-2020</td>\n",
       "      <td>20200419</td>\n",
       "      <td>9</td>\n",
       "      <td>71</td>\n",
       "      <td>479.0</td>\n",
       "      <td>96</td>\n",
       "      <td>18</td>\n",
       "      <td>9</td>\n",
       "      <td>10</td>\n",
       "      <td>6</td>\n",
       "      <td>205</td>\n",
       "      <td>0</td>\n",
       "      <td>903.0</td>\n",
       "      <td>https://twitter.com/nicd_sa/status/1251927055224143875/photo/1</td>\n",
       "    </tr>\n",
       "    <tr>\n",
       "      <th>3</th>\n",
       "      <td>20-04-2020</td>\n",
       "      <td>20200420</td>\n",
       "      <td>15</td>\n",
       "      <td>74</td>\n",
       "      <td>545.0</td>\n",
       "      <td>151</td>\n",
       "      <td>21</td>\n",
       "      <td>14</td>\n",
       "      <td>13</td>\n",
       "      <td>6</td>\n",
       "      <td>216</td>\n",
       "      <td>0</td>\n",
       "      <td>1055.0</td>\n",
       "      <td>https://twitter.com/nicd_sa/status/1252309824412561408/photo/1</td>\n",
       "    </tr>\n",
       "    <tr>\n",
       "      <th>4</th>\n",
       "      <td>21-04-2020</td>\n",
       "      <td>20200421</td>\n",
       "      <td>15</td>\n",
       "      <td>74</td>\n",
       "      <td>545.0</td>\n",
       "      <td>151</td>\n",
       "      <td>21</td>\n",
       "      <td>14</td>\n",
       "      <td>13</td>\n",
       "      <td>6</td>\n",
       "      <td>216</td>\n",
       "      <td>0</td>\n",
       "      <td>1055.0</td>\n",
       "      <td>https://twitter.com/nicd_sa/status/1252643555690061824/photo/1</td>\n",
       "    </tr>\n",
       "  </tbody>\n",
       "</table>\n",
       "</div>"
      ],
      "text/plain": [
       "         date  YYYYMMDD  EC  FS     GP  KZN  LP  MP  NC  NW   WC  UNKNOWN  \\\n",
       "0  17-04-2020  20200417   9  71  479.0   96  18   9  10   6  205        0   \n",
       "1  18-04-2020  20200418   9  71  479.0   96  18   9  10   6  205        0   \n",
       "2  19-04-2020  20200419   9  71  479.0   96  18   9  10   6  205        0   \n",
       "3  20-04-2020  20200420  15  74  545.0  151  21  14  13   6  216        0   \n",
       "4  21-04-2020  20200421  15  74  545.0  151  21  14  13   6  216        0   \n",
       "\n",
       "    total                                                          source  \n",
       "0   903.0  https://twitter.com/nicd_sa/status/1251215194765832194/photo/1  \n",
       "1   903.0  https://twitter.com/nicd_sa/status/1251595223534362625/photo/1  \n",
       "2   903.0  https://twitter.com/nicd_sa/status/1251927055224143875/photo/1  \n",
       "3  1055.0  https://twitter.com/nicd_sa/status/1252309824412561408/photo/1  \n",
       "4  1055.0  https://twitter.com/nicd_sa/status/1252643555690061824/photo/1  "
      ]
     },
     "execution_count": 4,
     "metadata": {},
     "output_type": "execute_result"
    }
   ],
   "source": [
    "recovered.head()"
   ]
  },
  {
   "cell_type": "code",
   "execution_count": 5,
   "metadata": {},
   "outputs": [
    {
     "data": {
      "text/html": [
       "<div>\n",
       "<style scoped>\n",
       "    .dataframe tbody tr th:only-of-type {\n",
       "        vertical-align: middle;\n",
       "    }\n",
       "\n",
       "    .dataframe tbody tr th {\n",
       "        vertical-align: top;\n",
       "    }\n",
       "\n",
       "    .dataframe thead th {\n",
       "        text-align: right;\n",
       "    }\n",
       "</style>\n",
       "<table border=\"1\" class=\"dataframe\">\n",
       "  <thead>\n",
       "    <tr style=\"text-align: right;\">\n",
       "      <th></th>\n",
       "      <th>date</th>\n",
       "      <th>YYYYMMDD</th>\n",
       "      <th>EC</th>\n",
       "      <th>FS</th>\n",
       "      <th>GP</th>\n",
       "      <th>KZN</th>\n",
       "      <th>LP</th>\n",
       "      <th>MP</th>\n",
       "      <th>NC</th>\n",
       "      <th>NW</th>\n",
       "      <th>WC</th>\n",
       "      <th>UNKNOWN</th>\n",
       "      <th>total</th>\n",
       "      <th>source</th>\n",
       "    </tr>\n",
       "  </thead>\n",
       "  <tbody>\n",
       "    <tr>\n",
       "      <th>0</th>\n",
       "      <td>27-03-2020</td>\n",
       "      <td>20200327</td>\n",
       "      <td>0</td>\n",
       "      <td>0</td>\n",
       "      <td>0</td>\n",
       "      <td>0</td>\n",
       "      <td>0</td>\n",
       "      <td>0</td>\n",
       "      <td>0</td>\n",
       "      <td>0</td>\n",
       "      <td>1</td>\n",
       "      <td>0</td>\n",
       "      <td>1</td>\n",
       "      <td>https://sacoronavirus.co.za/2020/03/27/latest-confirmed-cases-of-covid-19-27th-march-2020/</td>\n",
       "    </tr>\n",
       "    <tr>\n",
       "      <th>1</th>\n",
       "      <td>28-03-2020</td>\n",
       "      <td>20200328</td>\n",
       "      <td>0</td>\n",
       "      <td>0</td>\n",
       "      <td>0</td>\n",
       "      <td>1</td>\n",
       "      <td>0</td>\n",
       "      <td>0</td>\n",
       "      <td>0</td>\n",
       "      <td>0</td>\n",
       "      <td>1</td>\n",
       "      <td>0</td>\n",
       "      <td>2</td>\n",
       "      <td>NaN</td>\n",
       "    </tr>\n",
       "    <tr>\n",
       "      <th>2</th>\n",
       "      <td>30-03-2020</td>\n",
       "      <td>20200330</td>\n",
       "      <td>0</td>\n",
       "      <td>1</td>\n",
       "      <td>0</td>\n",
       "      <td>1</td>\n",
       "      <td>0</td>\n",
       "      <td>0</td>\n",
       "      <td>0</td>\n",
       "      <td>0</td>\n",
       "      <td>1</td>\n",
       "      <td>0</td>\n",
       "      <td>3</td>\n",
       "      <td>NaN</td>\n",
       "    </tr>\n",
       "    <tr>\n",
       "      <th>3</th>\n",
       "      <td>31-03-2020</td>\n",
       "      <td>20200331</td>\n",
       "      <td>0</td>\n",
       "      <td>1</td>\n",
       "      <td>1</td>\n",
       "      <td>2</td>\n",
       "      <td>0</td>\n",
       "      <td>0</td>\n",
       "      <td>0</td>\n",
       "      <td>0</td>\n",
       "      <td>1</td>\n",
       "      <td>0</td>\n",
       "      <td>5</td>\n",
       "      <td>NaN</td>\n",
       "    </tr>\n",
       "    <tr>\n",
       "      <th>4</th>\n",
       "      <td>03-04-2020</td>\n",
       "      <td>20200403</td>\n",
       "      <td>0</td>\n",
       "      <td>1</td>\n",
       "      <td>1</td>\n",
       "      <td>6</td>\n",
       "      <td>0</td>\n",
       "      <td>0</td>\n",
       "      <td>0</td>\n",
       "      <td>0</td>\n",
       "      <td>1</td>\n",
       "      <td>0</td>\n",
       "      <td>9</td>\n",
       "      <td>NaN</td>\n",
       "    </tr>\n",
       "  </tbody>\n",
       "</table>\n",
       "</div>"
      ],
      "text/plain": [
       "         date  YYYYMMDD  EC  FS  GP  KZN  LP  MP  NC  NW  WC  UNKNOWN  total  \\\n",
       "0  27-03-2020  20200327   0   0   0    0   0   0   0   0   1        0      1   \n",
       "1  28-03-2020  20200328   0   0   0    1   0   0   0   0   1        0      2   \n",
       "2  30-03-2020  20200330   0   1   0    1   0   0   0   0   1        0      3   \n",
       "3  31-03-2020  20200331   0   1   1    2   0   0   0   0   1        0      5   \n",
       "4  03-04-2020  20200403   0   1   1    6   0   0   0   0   1        0      9   \n",
       "\n",
       "                                                                                       source  \n",
       "0  https://sacoronavirus.co.za/2020/03/27/latest-confirmed-cases-of-covid-19-27th-march-2020/  \n",
       "1                                                                                         NaN  \n",
       "2                                                                                         NaN  \n",
       "3                                                                                         NaN  \n",
       "4                                                                                         NaN  "
      ]
     },
     "execution_count": 5,
     "metadata": {},
     "output_type": "execute_result"
    }
   ],
   "source": [
    "death.head()"
   ]
  },
  {
   "cell_type": "code",
   "execution_count": 6,
   "metadata": {},
   "outputs": [
    {
     "data": {
      "text/html": [
       "<div>\n",
       "<style scoped>\n",
       "    .dataframe tbody tr th:only-of-type {\n",
       "        vertical-align: middle;\n",
       "    }\n",
       "\n",
       "    .dataframe tbody tr th {\n",
       "        vertical-align: top;\n",
       "    }\n",
       "\n",
       "    .dataframe thead th {\n",
       "        text-align: right;\n",
       "    }\n",
       "</style>\n",
       "<table border=\"1\" class=\"dataframe\">\n",
       "  <thead>\n",
       "    <tr style=\"text-align: right;\">\n",
       "      <th></th>\n",
       "      <th>date</th>\n",
       "      <th>YYYYMMDD</th>\n",
       "      <th>EC</th>\n",
       "      <th>FS</th>\n",
       "      <th>GP</th>\n",
       "      <th>KZN</th>\n",
       "      <th>LP</th>\n",
       "      <th>MP</th>\n",
       "      <th>NC</th>\n",
       "      <th>NW</th>\n",
       "      <th>WC</th>\n",
       "      <th>total</th>\n",
       "      <th>source</th>\n",
       "    </tr>\n",
       "  </thead>\n",
       "  <tbody>\n",
       "    <tr>\n",
       "      <th>0</th>\n",
       "      <td>2021-02-17</td>\n",
       "      <td>20210217</td>\n",
       "      <td>5.0</td>\n",
       "      <td>12.0</td>\n",
       "      <td>27.0</td>\n",
       "      <td>42.0</td>\n",
       "      <td>NaN</td>\n",
       "      <td>NaN</td>\n",
       "      <td>20.0</td>\n",
       "      <td>NaN</td>\n",
       "      <td>58.0</td>\n",
       "      <td>164</td>\n",
       "      <td>https://sacoronavirus.co.za/latest-vaccine-statistics/</td>\n",
       "    </tr>\n",
       "    <tr>\n",
       "      <th>1</th>\n",
       "      <td>2021-02-18</td>\n",
       "      <td>20210218</td>\n",
       "      <td>96.0</td>\n",
       "      <td>272.0</td>\n",
       "      <td>392.0</td>\n",
       "      <td>408.0</td>\n",
       "      <td>NaN</td>\n",
       "      <td>NaN</td>\n",
       "      <td>196.0</td>\n",
       "      <td>268.0</td>\n",
       "      <td>345.0</td>\n",
       "      <td>1977</td>\n",
       "      <td>https://sacoronavirus.co.za/latest-vaccine-statistics/</td>\n",
       "    </tr>\n",
       "    <tr>\n",
       "      <th>2</th>\n",
       "      <td>2021-02-19</td>\n",
       "      <td>20210219</td>\n",
       "      <td>326.0</td>\n",
       "      <td>559.0</td>\n",
       "      <td>1399.0</td>\n",
       "      <td>1287.0</td>\n",
       "      <td>74.0</td>\n",
       "      <td>526.0</td>\n",
       "      <td>490.0</td>\n",
       "      <td>960.0</td>\n",
       "      <td>902.0</td>\n",
       "      <td>6523</td>\n",
       "      <td>https://sacoronavirus.co.za/latest-vaccine-statistics/</td>\n",
       "    </tr>\n",
       "    <tr>\n",
       "      <th>3</th>\n",
       "      <td>2021-02-20</td>\n",
       "      <td>20210220</td>\n",
       "      <td>NaN</td>\n",
       "      <td>NaN</td>\n",
       "      <td>1793.0</td>\n",
       "      <td>NaN</td>\n",
       "      <td>502.0</td>\n",
       "      <td>1399.0</td>\n",
       "      <td>579.0</td>\n",
       "      <td>1501.0</td>\n",
       "      <td>1626.0</td>\n",
       "      <td>9572</td>\n",
       "      <td>https://sacoronavirus.co.za/latest-vaccine-statistics/</td>\n",
       "    </tr>\n",
       "    <tr>\n",
       "      <th>4</th>\n",
       "      <td>2021-02-21</td>\n",
       "      <td>20210221</td>\n",
       "      <td>564.0</td>\n",
       "      <td>NaN</td>\n",
       "      <td>2735.0</td>\n",
       "      <td>NaN</td>\n",
       "      <td>1210.0</td>\n",
       "      <td>2576.0</td>\n",
       "      <td>830.0</td>\n",
       "      <td>2225.0</td>\n",
       "      <td>2455.0</td>\n",
       "      <td>14441</td>\n",
       "      <td>https://sacoronavirus.co.za/latest-vaccine-statistics/</td>\n",
       "    </tr>\n",
       "  </tbody>\n",
       "</table>\n",
       "</div>"
      ],
      "text/plain": [
       "         date  YYYYMMDD     EC     FS      GP     KZN      LP      MP     NC  \\\n",
       "0  2021-02-17  20210217    5.0   12.0    27.0    42.0     NaN     NaN   20.0   \n",
       "1  2021-02-18  20210218   96.0  272.0   392.0   408.0     NaN     NaN  196.0   \n",
       "2  2021-02-19  20210219  326.0  559.0  1399.0  1287.0    74.0   526.0  490.0   \n",
       "3  2021-02-20  20210220    NaN    NaN  1793.0     NaN   502.0  1399.0  579.0   \n",
       "4  2021-02-21  20210221  564.0    NaN  2735.0     NaN  1210.0  2576.0  830.0   \n",
       "\n",
       "       NW      WC  total  \\\n",
       "0     NaN    58.0    164   \n",
       "1   268.0   345.0   1977   \n",
       "2   960.0   902.0   6523   \n",
       "3  1501.0  1626.0   9572   \n",
       "4  2225.0  2455.0  14441   \n",
       "\n",
       "                                                   source  \n",
       "0  https://sacoronavirus.co.za/latest-vaccine-statistics/  \n",
       "1  https://sacoronavirus.co.za/latest-vaccine-statistics/  \n",
       "2  https://sacoronavirus.co.za/latest-vaccine-statistics/  \n",
       "3  https://sacoronavirus.co.za/latest-vaccine-statistics/  \n",
       "4  https://sacoronavirus.co.za/latest-vaccine-statistics/  "
      ]
     },
     "execution_count": 6,
     "metadata": {},
     "output_type": "execute_result"
    }
   ],
   "source": [
    "vacc.head()"
   ]
  },
  {
   "cell_type": "code",
   "execution_count": 7,
   "metadata": {},
   "outputs": [
    {
     "data": {
      "text/html": [
       "<div>\n",
       "<style scoped>\n",
       "    .dataframe tbody tr th:only-of-type {\n",
       "        vertical-align: middle;\n",
       "    }\n",
       "\n",
       "    .dataframe tbody tr th {\n",
       "        vertical-align: top;\n",
       "    }\n",
       "\n",
       "    .dataframe thead th {\n",
       "        text-align: right;\n",
       "    }\n",
       "</style>\n",
       "<table border=\"1\" class=\"dataframe\">\n",
       "  <thead>\n",
       "    <tr style=\"text-align: right;\">\n",
       "      <th></th>\n",
       "      <th>date</th>\n",
       "      <th>YYYYMMDD</th>\n",
       "      <th>EC</th>\n",
       "      <th>FS</th>\n",
       "      <th>GP</th>\n",
       "      <th>KZN</th>\n",
       "      <th>LP</th>\n",
       "      <th>MP</th>\n",
       "      <th>NC</th>\n",
       "      <th>NW</th>\n",
       "      <th>WC</th>\n",
       "      <th>UNKNOWN</th>\n",
       "      <th>total</th>\n",
       "      <th>source</th>\n",
       "    </tr>\n",
       "  </thead>\n",
       "  <tbody>\n",
       "    <tr>\n",
       "      <th>0</th>\n",
       "      <td>27-04-2020</td>\n",
       "      <td>20200427</td>\n",
       "      <td>14054</td>\n",
       "      <td>6317</td>\n",
       "      <td>61830</td>\n",
       "      <td>28265</td>\n",
       "      <td>3691</td>\n",
       "      <td>4385</td>\n",
       "      <td>1314</td>\n",
       "      <td>2544</td>\n",
       "      <td>33335</td>\n",
       "      <td>12908</td>\n",
       "      <td>168643</td>\n",
       "      <td>ministerial briefing 26-04-2020</td>\n",
       "    </tr>\n",
       "    <tr>\n",
       "      <th>1</th>\n",
       "      <td>03-05-2020</td>\n",
       "      <td>20200503</td>\n",
       "      <td>24835</td>\n",
       "      <td>12634</td>\n",
       "      <td>85134</td>\n",
       "      <td>45955</td>\n",
       "      <td>5626</td>\n",
       "      <td>6691</td>\n",
       "      <td>1951</td>\n",
       "      <td>3565</td>\n",
       "      <td>53967</td>\n",
       "      <td>17183</td>\n",
       "      <td>257541</td>\n",
       "      <td>https://www.nicd.ac.za/wp-content/uploads/2020/05/Week-18-Weekly-Epidemiology-Brief-Template-V8.pdf</td>\n",
       "    </tr>\n",
       "    <tr>\n",
       "      <th>2</th>\n",
       "      <td>09-05-2020</td>\n",
       "      <td>20200509</td>\n",
       "      <td>34032</td>\n",
       "      <td>17231</td>\n",
       "      <td>111630</td>\n",
       "      <td>61801</td>\n",
       "      <td>7783</td>\n",
       "      <td>9823</td>\n",
       "      <td>3092</td>\n",
       "      <td>5213</td>\n",
       "      <td>70038</td>\n",
       "      <td>20693</td>\n",
       "      <td>341336</td>\n",
       "      <td>https://www.nicd.ac.za/wp-content/uploads/2020/05/NICD-Weekly-Epidemiological-Brief_-Week-ending...</td>\n",
       "    </tr>\n",
       "    <tr>\n",
       "      <th>3</th>\n",
       "      <td>13-05-2020</td>\n",
       "      <td>20200513</td>\n",
       "      <td>38122</td>\n",
       "      <td>19265</td>\n",
       "      <td>127030</td>\n",
       "      <td>67853</td>\n",
       "      <td>8239</td>\n",
       "      <td>11414</td>\n",
       "      <td>3683</td>\n",
       "      <td>5812</td>\n",
       "      <td>82865</td>\n",
       "      <td>22069</td>\n",
       "      <td>386352</td>\n",
       "      <td>https://twitter.com/bandilemasuku/status/1260910377493299201?s=20</td>\n",
       "    </tr>\n",
       "    <tr>\n",
       "      <th>4</th>\n",
       "      <td>20-05-2020</td>\n",
       "      <td>20200520</td>\n",
       "      <td>51888</td>\n",
       "      <td>24415</td>\n",
       "      <td>166394</td>\n",
       "      <td>86448</td>\n",
       "      <td>10579</td>\n",
       "      <td>14964</td>\n",
       "      <td>4776</td>\n",
       "      <td>8830</td>\n",
       "      <td>112612</td>\n",
       "      <td>25955</td>\n",
       "      <td>506681</td>\n",
       "      <td>https://twitter.com/GautengProvince/status/1263423900165246977/photo/1</td>\n",
       "    </tr>\n",
       "  </tbody>\n",
       "</table>\n",
       "</div>"
      ],
      "text/plain": [
       "         date  YYYYMMDD     EC     FS      GP    KZN     LP     MP    NC  \\\n",
       "0  27-04-2020  20200427  14054   6317   61830  28265   3691   4385  1314   \n",
       "1  03-05-2020  20200503  24835  12634   85134  45955   5626   6691  1951   \n",
       "2  09-05-2020  20200509  34032  17231  111630  61801   7783   9823  3092   \n",
       "3  13-05-2020  20200513  38122  19265  127030  67853   8239  11414  3683   \n",
       "4  20-05-2020  20200520  51888  24415  166394  86448  10579  14964  4776   \n",
       "\n",
       "     NW      WC  UNKNOWN   total  \\\n",
       "0  2544   33335    12908  168643   \n",
       "1  3565   53967    17183  257541   \n",
       "2  5213   70038    20693  341336   \n",
       "3  5812   82865    22069  386352   \n",
       "4  8830  112612    25955  506681   \n",
       "\n",
       "                                                                                                source  \n",
       "0                                                                      ministerial briefing 26-04-2020  \n",
       "1  https://www.nicd.ac.za/wp-content/uploads/2020/05/Week-18-Weekly-Epidemiology-Brief-Template-V8.pdf  \n",
       "2  https://www.nicd.ac.za/wp-content/uploads/2020/05/NICD-Weekly-Epidemiological-Brief_-Week-ending...  \n",
       "3                                    https://twitter.com/bandilemasuku/status/1260910377493299201?s=20  \n",
       "4                               https://twitter.com/GautengProvince/status/1263423900165246977/photo/1  "
      ]
     },
     "execution_count": 7,
     "metadata": {},
     "output_type": "execute_result"
    }
   ],
   "source": [
    "testing.head()"
   ]
  },
  {
   "cell_type": "markdown",
   "metadata": {},
   "source": [
    "# Cleaning the Data"
   ]
  },
  {
   "cell_type": "code",
   "execution_count": 8,
   "metadata": {},
   "outputs": [],
   "source": [
    "confirmed.drop(['source'], axis='columns', inplace=True)\n",
    "recovered.drop(['source'], axis='columns', inplace=True)\n",
    "death.drop(['source'], axis='columns', inplace=True)\n",
    "vacc.drop(['source'], axis='columns', inplace=True)\n",
    "testing.drop(['source'], axis='columns', inplace=True)"
   ]
  },
  {
   "cell_type": "code",
   "execution_count": 9,
   "metadata": {},
   "outputs": [
    {
     "data": {
      "text/html": [
       "<div>\n",
       "<style scoped>\n",
       "    .dataframe tbody tr th:only-of-type {\n",
       "        vertical-align: middle;\n",
       "    }\n",
       "\n",
       "    .dataframe tbody tr th {\n",
       "        vertical-align: top;\n",
       "    }\n",
       "\n",
       "    .dataframe thead th {\n",
       "        text-align: right;\n",
       "    }\n",
       "</style>\n",
       "<table border=\"1\" class=\"dataframe\">\n",
       "  <thead>\n",
       "    <tr style=\"text-align: right;\">\n",
       "      <th></th>\n",
       "      <th>date</th>\n",
       "      <th>YYYYMMDD</th>\n",
       "      <th>EC</th>\n",
       "      <th>FS</th>\n",
       "      <th>GP</th>\n",
       "      <th>KZN</th>\n",
       "      <th>LP</th>\n",
       "      <th>MP</th>\n",
       "      <th>NC</th>\n",
       "      <th>NW</th>\n",
       "      <th>WC</th>\n",
       "      <th>UNKNOWN</th>\n",
       "      <th>total</th>\n",
       "    </tr>\n",
       "  </thead>\n",
       "  <tbody>\n",
       "    <tr>\n",
       "      <th>0</th>\n",
       "      <td>5/3/20</td>\n",
       "      <td>20200305</td>\n",
       "      <td>0.0</td>\n",
       "      <td>0.0</td>\n",
       "      <td>0.0</td>\n",
       "      <td>1.0</td>\n",
       "      <td>0.0</td>\n",
       "      <td>0.0</td>\n",
       "      <td>0.0</td>\n",
       "      <td>0.0</td>\n",
       "      <td>0.0</td>\n",
       "      <td>0.0</td>\n",
       "      <td>1</td>\n",
       "    </tr>\n",
       "    <tr>\n",
       "      <th>1</th>\n",
       "      <td>7/3/20</td>\n",
       "      <td>20200307</td>\n",
       "      <td>0.0</td>\n",
       "      <td>0.0</td>\n",
       "      <td>1.0</td>\n",
       "      <td>1.0</td>\n",
       "      <td>0.0</td>\n",
       "      <td>0.0</td>\n",
       "      <td>0.0</td>\n",
       "      <td>0.0</td>\n",
       "      <td>0.0</td>\n",
       "      <td>0.0</td>\n",
       "      <td>2</td>\n",
       "    </tr>\n",
       "    <tr>\n",
       "      <th>2</th>\n",
       "      <td>8/3/20</td>\n",
       "      <td>20200308</td>\n",
       "      <td>0.0</td>\n",
       "      <td>0.0</td>\n",
       "      <td>1.0</td>\n",
       "      <td>2.0</td>\n",
       "      <td>0.0</td>\n",
       "      <td>0.0</td>\n",
       "      <td>0.0</td>\n",
       "      <td>0.0</td>\n",
       "      <td>0.0</td>\n",
       "      <td>0.0</td>\n",
       "      <td>3</td>\n",
       "    </tr>\n",
       "    <tr>\n",
       "      <th>3</th>\n",
       "      <td>9/3/20</td>\n",
       "      <td>20200309</td>\n",
       "      <td>0.0</td>\n",
       "      <td>0.0</td>\n",
       "      <td>1.0</td>\n",
       "      <td>6.0</td>\n",
       "      <td>0.0</td>\n",
       "      <td>0.0</td>\n",
       "      <td>0.0</td>\n",
       "      <td>0.0</td>\n",
       "      <td>0.0</td>\n",
       "      <td>0.0</td>\n",
       "      <td>7</td>\n",
       "    </tr>\n",
       "    <tr>\n",
       "      <th>4</th>\n",
       "      <td>11/3/20</td>\n",
       "      <td>20200311</td>\n",
       "      <td>0.0</td>\n",
       "      <td>0.0</td>\n",
       "      <td>5.0</td>\n",
       "      <td>7.0</td>\n",
       "      <td>0.0</td>\n",
       "      <td>0.0</td>\n",
       "      <td>0.0</td>\n",
       "      <td>0.0</td>\n",
       "      <td>1.0</td>\n",
       "      <td>0.0</td>\n",
       "      <td>13</td>\n",
       "    </tr>\n",
       "  </tbody>\n",
       "</table>\n",
       "</div>"
      ],
      "text/plain": [
       "      date  YYYYMMDD   EC   FS   GP  KZN   LP   MP   NC   NW   WC  UNKNOWN  \\\n",
       "0   5/3/20  20200305  0.0  0.0  0.0  1.0  0.0  0.0  0.0  0.0  0.0      0.0   \n",
       "1   7/3/20  20200307  0.0  0.0  1.0  1.0  0.0  0.0  0.0  0.0  0.0      0.0   \n",
       "2   8/3/20  20200308  0.0  0.0  1.0  2.0  0.0  0.0  0.0  0.0  0.0      0.0   \n",
       "3   9/3/20  20200309  0.0  0.0  1.0  6.0  0.0  0.0  0.0  0.0  0.0      0.0   \n",
       "4  11/3/20  20200311  0.0  0.0  5.0  7.0  0.0  0.0  0.0  0.0  1.0      0.0   \n",
       "\n",
       "   total  \n",
       "0      1  \n",
       "1      2  \n",
       "2      3  \n",
       "3      7  \n",
       "4     13  "
      ]
     },
     "execution_count": 9,
     "metadata": {},
     "output_type": "execute_result"
    }
   ],
   "source": [
    "confirmed.head()"
   ]
  },
  {
   "cell_type": "code",
   "execution_count": 10,
   "metadata": {},
   "outputs": [
    {
     "data": {
      "text/plain": [
       "date        0\n",
       "YYYYMMDD    0\n",
       "EC          2\n",
       "FS          2\n",
       "GP          2\n",
       "KZN         2\n",
       "LP          2\n",
       "MP          2\n",
       "NC          2\n",
       "NW          2\n",
       "WC          2\n",
       "UNKNOWN     2\n",
       "total       0\n",
       "dtype: int64"
      ]
     },
     "execution_count": 10,
     "metadata": {},
     "output_type": "execute_result"
    }
   ],
   "source": [
    "confirmed.isnull().sum(axis = 0)"
   ]
  },
  {
   "cell_type": "code",
   "execution_count": 11,
   "metadata": {},
   "outputs": [
    {
     "data": {
      "text/plain": [
       "date        0\n",
       "YYYYMMDD    0\n",
       "EC          0\n",
       "FS          0\n",
       "GP          2\n",
       "KZN         0\n",
       "LP          0\n",
       "MP          0\n",
       "NC          0\n",
       "NW          0\n",
       "WC          0\n",
       "UNKNOWN     0\n",
       "total       3\n",
       "dtype: int64"
      ]
     },
     "execution_count": 11,
     "metadata": {},
     "output_type": "execute_result"
    }
   ],
   "source": [
    "recovered.isnull().sum(axis = 0)"
   ]
  },
  {
   "cell_type": "code",
   "execution_count": 12,
   "metadata": {},
   "outputs": [
    {
     "data": {
      "text/plain": [
       "date        0\n",
       "YYYYMMDD    0\n",
       "EC          0\n",
       "FS          0\n",
       "GP          0\n",
       "KZN         0\n",
       "LP          0\n",
       "MP          0\n",
       "NC          0\n",
       "NW          0\n",
       "WC          0\n",
       "UNKNOWN     0\n",
       "total       0\n",
       "dtype: int64"
      ]
     },
     "execution_count": 12,
     "metadata": {},
     "output_type": "execute_result"
    }
   ],
   "source": [
    "death.isnull().sum(axis = 0)"
   ]
  },
  {
   "cell_type": "code",
   "execution_count": 13,
   "metadata": {},
   "outputs": [
    {
     "data": {
      "text/plain": [
       "date        0\n",
       "YYYYMMDD    0\n",
       "EC          0\n",
       "FS          0\n",
       "GP          0\n",
       "KZN         0\n",
       "LP          0\n",
       "MP          0\n",
       "NC          0\n",
       "NW          0\n",
       "WC          0\n",
       "UNKNOWN     0\n",
       "total       0\n",
       "dtype: int64"
      ]
     },
     "execution_count": 13,
     "metadata": {},
     "output_type": "execute_result"
    }
   ],
   "source": [
    "testing.isnull().sum(axis = 0)"
   ]
  },
  {
   "cell_type": "code",
   "execution_count": 14,
   "metadata": {},
   "outputs": [
    {
     "data": {
      "text/plain": [
       "date         0\n",
       "YYYYMMDD     0\n",
       "EC          19\n",
       "FS          25\n",
       "GP          12\n",
       "KZN         22\n",
       "LP          23\n",
       "MP          22\n",
       "NC          26\n",
       "NW          18\n",
       "WC          17\n",
       "total        0\n",
       "dtype: int64"
      ]
     },
     "execution_count": 14,
     "metadata": {},
     "output_type": "execute_result"
    }
   ],
   "source": [
    "vacc.isnull().sum(axis = 0)"
   ]
  },
  {
   "cell_type": "code",
   "execution_count": 15,
   "metadata": {},
   "outputs": [
    {
     "data": {
      "text/plain": [
       "date        0\n",
       "YYYYMMDD    0\n",
       "EC          0\n",
       "FS          0\n",
       "GP          0\n",
       "KZN         0\n",
       "LP          0\n",
       "MP          0\n",
       "NC          0\n",
       "NW          0\n",
       "WC          0\n",
       "UNKNOWN     0\n",
       "total       0\n",
       "dtype: int64"
      ]
     },
     "execution_count": 15,
     "metadata": {},
     "output_type": "execute_result"
    }
   ],
   "source": [
    "confirmed2= confirmed.dropna()\n",
    "confirmed2.isnull().sum(axis=0)"
   ]
  },
  {
   "cell_type": "code",
   "execution_count": 16,
   "metadata": {},
   "outputs": [
    {
     "data": {
      "text/plain": [
       "date        0\n",
       "YYYYMMDD    0\n",
       "EC          0\n",
       "FS          0\n",
       "GP          0\n",
       "KZN         0\n",
       "LP          0\n",
       "MP          0\n",
       "NC          0\n",
       "NW          0\n",
       "WC          0\n",
       "UNKNOWN     0\n",
       "total       0\n",
       "dtype: int64"
      ]
     },
     "execution_count": 16,
     "metadata": {},
     "output_type": "execute_result"
    }
   ],
   "source": [
    "recovered2= recovered.dropna()\n",
    "recovered2.isnull().sum(axis=0)"
   ]
  },
  {
   "cell_type": "code",
   "execution_count": 17,
   "metadata": {},
   "outputs": [
    {
     "data": {
      "text/plain": [
       "date        0\n",
       "YYYYMMDD    0\n",
       "EC          0\n",
       "FS          0\n",
       "GP          0\n",
       "KZN         0\n",
       "LP          0\n",
       "MP          0\n",
       "NC          0\n",
       "NW          0\n",
       "WC          0\n",
       "total       0\n",
       "dtype: int64"
      ]
     },
     "execution_count": 17,
     "metadata": {},
     "output_type": "execute_result"
    }
   ],
   "source": [
    "#vacc?missing value\n",
    "vacc2= vacc.dropna()\n",
    "vacc2.isnull().sum(axis=0)"
   ]
  },
  {
   "cell_type": "code",
   "execution_count": 18,
   "metadata": {},
   "outputs": [
    {
     "data": {
      "text/plain": [
       "(156, 12)"
      ]
     },
     "execution_count": 18,
     "metadata": {},
     "output_type": "execute_result"
    }
   ],
   "source": [
    "vacc2.shape\n"
   ]
  },
  {
   "cell_type": "code",
   "execution_count": 19,
   "metadata": {},
   "outputs": [
    {
     "data": {
      "text/plain": [
       "(547, 13)"
      ]
     },
     "execution_count": 19,
     "metadata": {},
     "output_type": "execute_result"
    }
   ],
   "source": [
    "death.shape"
   ]
  },
  {
   "cell_type": "markdown",
   "metadata": {},
   "source": [
    "# Data visualization\n"
   ]
  },
  {
   "cell_type": "code",
   "execution_count": 20,
   "metadata": {},
   "outputs": [
    {
     "data": {
      "text/plain": [
       "(array([0, 1, 2, 3, 4, 5, 6, 7, 8]),\n",
       " [Text(0, 0, 'EC'),\n",
       "  Text(1, 0, 'FS'),\n",
       "  Text(2, 0, 'GP'),\n",
       "  Text(3, 0, 'KZN'),\n",
       "  Text(4, 0, 'LP'),\n",
       "  Text(5, 0, 'MP'),\n",
       "  Text(6, 0, 'NC'),\n",
       "  Text(7, 0, 'NW'),\n",
       "  Text(8, 0, 'WC')])"
      ]
     },
     "execution_count": 20,
     "metadata": {},
     "output_type": "execute_result"
    },
    {
     "data": {
      "image/png": "[encoded data removed]",
      "text/plain": [
       "<Figure size 432x288 with 1 Axes>"
      ]
     },
     "metadata": {
      "needs_background": "light"
     },
     "output_type": "display_data"
    }
   ],
   "source": [
    "confirmed2[['EC','FS','GP','KZN','LP','MP','NC','NW','WC']].sum().plot.bar()\n",
    "plt.title(\"provinc total cases\")\n",
    "plt.xlabel('province')\n",
    "plt.ylabel('total Count')\n",
    "plt.xticks(color='red', rotation=50)\n",
    "#plt.grid()"
   ]
  },
  {
   "cell_type": "code",
   "execution_count": 21,
   "metadata": {},
   "outputs": [
    {
     "data": {
      "text/plain": [
       "EC      75751677.0\n",
       "FS      35903893.0\n",
       "GP     192853997.0\n",
       "KZN    118124983.0\n",
       "LP      23619632.0\n",
       "MP      29476420.0\n",
       "NC      16549414.0\n",
       "NW      28833845.0\n",
       "WC     112783047.0\n",
       "dtype: float64"
      ]
     },
     "execution_count": 21,
     "metadata": {},
     "output_type": "execute_result"
    }
   ],
   "source": [
    "confirmed2[['EC','FS','GP','KZN','LP','MP','NC','NW','WC']].sum()"
   ]
  },
  {
   "cell_type": "code",
   "execution_count": 22,
   "metadata": {},
   "outputs": [
    {
     "data": {
      "text/html": [
       "<style  type=\"text/css\" >\n",
       "    #T_858d2e2e_3bfd_11ec_925b_357a79d0ed73row0_col0 {\n",
       "            background-color:  #b40426;\n",
       "            color:  #f1f1f1;\n",
       "        }    #T_858d2e2e_3bfd_11ec_925b_357a79d0ed73row0_col1 {\n",
       "            background-color:  #cf453c;\n",
       "            color:  #f1f1f1;\n",
       "        }    #T_858d2e2e_3bfd_11ec_925b_357a79d0ed73row0_col2 {\n",
       "            background-color:  #d65244;\n",
       "            color:  #000000;\n",
       "        }    #T_858d2e2e_3bfd_11ec_925b_357a79d0ed73row0_col3 {\n",
       "            background-color:  #df634e;\n",
       "            color:  #000000;\n",
       "        }    #T_858d2e2e_3bfd_11ec_925b_357a79d0ed73row0_col4 {\n",
       "            background-color:  #c43032;\n",
       "            color:  #f1f1f1;\n",
       "        }    #T_858d2e2e_3bfd_11ec_925b_357a79d0ed73row0_col5 {\n",
       "            background-color:  #cf453c;\n",
       "            color:  #f1f1f1;\n",
       "        }    #T_858d2e2e_3bfd_11ec_925b_357a79d0ed73row0_col6 {\n",
       "            background-color:  #d24b40;\n",
       "            color:  #f1f1f1;\n",
       "        }    #T_858d2e2e_3bfd_11ec_925b_357a79d0ed73row0_col7 {\n",
       "            background-color:  #d95847;\n",
       "            color:  #000000;\n",
       "        }    #T_858d2e2e_3bfd_11ec_925b_357a79d0ed73row0_col8 {\n",
       "            background-color:  #dc5d4a;\n",
       "            color:  #000000;\n",
       "        }    #T_858d2e2e_3bfd_11ec_925b_357a79d0ed73row0_col9 {\n",
       "            background-color:  #cd423b;\n",
       "            color:  #f1f1f1;\n",
       "        }    #T_858d2e2e_3bfd_11ec_925b_357a79d0ed73row0_col10 {\n",
       "            background-color:  #4257c9;\n",
       "            color:  #f1f1f1;\n",
       "        }    #T_858d2e2e_3bfd_11ec_925b_357a79d0ed73row0_col11 {\n",
       "            background-color:  #d1493f;\n",
       "            color:  #f1f1f1;\n",
       "        }    #T_858d2e2e_3bfd_11ec_925b_357a79d0ed73row1_col0 {\n",
       "            background-color:  #cf453c;\n",
       "            color:  #f1f1f1;\n",
       "        }    #T_858d2e2e_3bfd_11ec_925b_357a79d0ed73row1_col1 {\n",
       "            background-color:  #b40426;\n",
       "            color:  #f1f1f1;\n",
       "        }    #T_858d2e2e_3bfd_11ec_925b_357a79d0ed73row1_col2 {\n",
       "            background-color:  #bb1b2c;\n",
       "            color:  #f1f1f1;\n",
       "        }    #T_858d2e2e_3bfd_11ec_925b_357a79d0ed73row1_col3 {\n",
       "            background-color:  #c83836;\n",
       "            color:  #f1f1f1;\n",
       "        }    #T_858d2e2e_3bfd_11ec_925b_357a79d0ed73row1_col4 {\n",
       "            background-color:  #b8122a;\n",
       "            color:  #f1f1f1;\n",
       "        }    #T_858d2e2e_3bfd_11ec_925b_357a79d0ed73row1_col5 {\n",
       "            background-color:  #c73635;\n",
       "            color:  #f1f1f1;\n",
       "        }    #T_858d2e2e_3bfd_11ec_925b_357a79d0ed73row1_col6 {\n",
       "            background-color:  #c32e31;\n",
       "            color:  #f1f1f1;\n",
       "        }    #T_858d2e2e_3bfd_11ec_925b_357a79d0ed73row1_col7 {\n",
       "            background-color:  #c53334;\n",
       "            color:  #f1f1f1;\n",
       "        }    #T_858d2e2e_3bfd_11ec_925b_357a79d0ed73row1_col8 {\n",
       "            background-color:  #c73635;\n",
       "            color:  #f1f1f1;\n",
       "        }    #T_858d2e2e_3bfd_11ec_925b_357a79d0ed73row1_col9 {\n",
       "            background-color:  #ba162b;\n",
       "            color:  #f1f1f1;\n",
       "        }    #T_858d2e2e_3bfd_11ec_925b_357a79d0ed73row1_col10 {\n",
       "            background-color:  #3d50c3;\n",
       "            color:  #f1f1f1;\n",
       "        }    #T_858d2e2e_3bfd_11ec_925b_357a79d0ed73row1_col11 {\n",
       "            background-color:  #bb1b2c;\n",
       "            color:  #f1f1f1;\n",
       "        }    #T_858d2e2e_3bfd_11ec_925b_357a79d0ed73row2_col0 {\n",
       "            background-color:  #d75445;\n",
       "            color:  #000000;\n",
       "        }    #T_858d2e2e_3bfd_11ec_925b_357a79d0ed73row2_col1 {\n",
       "            background-color:  #bb1b2c;\n",
       "            color:  #f1f1f1;\n",
       "        }    #T_858d2e2e_3bfd_11ec_925b_357a79d0ed73row2_col2 {\n",
       "            background-color:  #b40426;\n",
       "            color:  #f1f1f1;\n",
       "        }    #T_858d2e2e_3bfd_11ec_925b_357a79d0ed73row2_col3 {\n",
       "            background-color:  #bb1b2c;\n",
       "            color:  #f1f1f1;\n",
       "        }    #T_858d2e2e_3bfd_11ec_925b_357a79d0ed73row2_col4 {\n",
       "            background-color:  #ba162b;\n",
       "            color:  #f1f1f1;\n",
       "        }    #T_858d2e2e_3bfd_11ec_925b_357a79d0ed73row2_col5 {\n",
       "            background-color:  #be242e;\n",
       "            color:  #f1f1f1;\n",
       "        }    #T_858d2e2e_3bfd_11ec_925b_357a79d0ed73row2_col6 {\n",
       "            background-color:  #b8122a;\n",
       "            color:  #f1f1f1;\n",
       "        }    #T_858d2e2e_3bfd_11ec_925b_357a79d0ed73row2_col7 {\n",
       "            background-color:  #b70d28;\n",
       "            color:  #f1f1f1;\n",
       "        }    #T_858d2e2e_3bfd_11ec_925b_357a79d0ed73row2_col8 {\n",
       "            background-color:  #ba162b;\n",
       "            color:  #f1f1f1;\n",
       "        }    #T_858d2e2e_3bfd_11ec_925b_357a79d0ed73row2_col9 {\n",
       "            background-color:  #ba162b;\n",
       "            color:  #f1f1f1;\n",
       "        }    #T_858d2e2e_3bfd_11ec_925b_357a79d0ed73row2_col10 {\n",
       "            background-color:  #3b4cc0;\n",
       "            color:  #f1f1f1;\n",
       "        }    #T_858d2e2e_3bfd_11ec_925b_357a79d0ed73row2_col11 {\n",
       "            background-color:  #b70d28;\n",
       "            color:  #f1f1f1;\n",
       "        }    #T_858d2e2e_3bfd_11ec_925b_357a79d0ed73row3_col0 {\n",
       "            background-color:  #de614d;\n",
       "            color:  #000000;\n",
       "        }    #T_858d2e2e_3bfd_11ec_925b_357a79d0ed73row3_col1 {\n",
       "            background-color:  #c73635;\n",
       "            color:  #f1f1f1;\n",
       "        }    #T_858d2e2e_3bfd_11ec_925b_357a79d0ed73row3_col2 {\n",
       "            background-color:  #ba162b;\n",
       "            color:  #f1f1f1;\n",
       "        }    #T_858d2e2e_3bfd_11ec_925b_357a79d0ed73row3_col3 {\n",
       "            background-color:  #b40426;\n",
       "            color:  #f1f1f1;\n",
       "        }    #T_858d2e2e_3bfd_11ec_925b_357a79d0ed73row3_col4 {\n",
       "            background-color:  #c32e31;\n",
       "            color:  #f1f1f1;\n",
       "        }    #T_858d2e2e_3bfd_11ec_925b_357a79d0ed73row3_col5 {\n",
       "            background-color:  #b8122a;\n",
       "            color:  #f1f1f1;\n",
       "        }    #T_858d2e2e_3bfd_11ec_925b_357a79d0ed73row3_col6 {\n",
       "            background-color:  #b70d28;\n",
       "            color:  #f1f1f1;\n",
       "        }    #T_858d2e2e_3bfd_11ec_925b_357a79d0ed73row3_col7 {\n",
       "            background-color:  #b8122a;\n",
       "            color:  #f1f1f1;\n",
       "        }    #T_858d2e2e_3bfd_11ec_925b_357a79d0ed73row3_col8 {\n",
       "            background-color:  #b40426;\n",
       "            color:  #f1f1f1;\n",
       "        }    #T_858d2e2e_3bfd_11ec_925b_357a79d0ed73row3_col9 {\n",
       "            background-color:  #bb1b2c;\n",
       "            color:  #f1f1f1;\n",
       "        }    #T_858d2e2e_3bfd_11ec_925b_357a79d0ed73row3_col10 {\n",
       "            background-color:  #4a63d3;\n",
       "            color:  #f1f1f1;\n",
       "        }    #T_858d2e2e_3bfd_11ec_925b_357a79d0ed73row3_col11 {\n",
       "            background-color:  #b70d28;\n",
       "            color:  #f1f1f1;\n",
       "        }    #T_858d2e2e_3bfd_11ec_925b_357a79d0ed73row4_col0 {\n",
       "            background-color:  #c43032;\n",
       "            color:  #f1f1f1;\n",
       "        }    #T_858d2e2e_3bfd_11ec_925b_357a79d0ed73row4_col1 {\n",
       "            background-color:  #b8122a;\n",
       "            color:  #f1f1f1;\n",
       "        }    #T_858d2e2e_3bfd_11ec_925b_357a79d0ed73row4_col2 {\n",
       "            background-color:  #ba162b;\n",
       "            color:  #f1f1f1;\n",
       "        }    #T_858d2e2e_3bfd_11ec_925b_357a79d0ed73row4_col3 {\n",
       "            background-color:  #c32e31;\n",
       "            color:  #f1f1f1;\n",
       "        }    #T_858d2e2e_3bfd_11ec_925b_357a79d0ed73row4_col4 {\n",
       "            background-color:  #b40426;\n",
       "            color:  #f1f1f1;\n",
       "        }    #T_858d2e2e_3bfd_11ec_925b_357a79d0ed73row4_col5 {\n",
       "            background-color:  #bb1b2c;\n",
       "            color:  #f1f1f1;\n",
       "        }    #T_858d2e2e_3bfd_11ec_925b_357a79d0ed73row4_col6 {\n",
       "            background-color:  #ba162b;\n",
       "            color:  #f1f1f1;\n",
       "        }    #T_858d2e2e_3bfd_11ec_925b_357a79d0ed73row4_col7 {\n",
       "            background-color:  #c0282f;\n",
       "            color:  #f1f1f1;\n",
       "        }    #T_858d2e2e_3bfd_11ec_925b_357a79d0ed73row4_col8 {\n",
       "            background-color:  #c12b30;\n",
       "            color:  #f1f1f1;\n",
       "        }    #T_858d2e2e_3bfd_11ec_925b_357a79d0ed73row4_col9 {\n",
       "            background-color:  #b70d28;\n",
       "            color:  #f1f1f1;\n",
       "        }    #T_858d2e2e_3bfd_11ec_925b_357a79d0ed73row4_col10 {\n",
       "            background-color:  #3e51c5;\n",
       "            color:  #f1f1f1;\n",
       "        }    #T_858d2e2e_3bfd_11ec_925b_357a79d0ed73row4_col11 {\n",
       "            background-color:  #b8122a;\n",
       "            color:  #f1f1f1;\n",
       "        }    #T_858d2e2e_3bfd_11ec_925b_357a79d0ed73row5_col0 {\n",
       "            background-color:  #cd423b;\n",
       "            color:  #f1f1f1;\n",
       "        }    #T_858d2e2e_3bfd_11ec_925b_357a79d0ed73row5_col1 {\n",
       "            background-color:  #c73635;\n",
       "            color:  #f1f1f1;\n",
       "        }    #T_858d2e2e_3bfd_11ec_925b_357a79d0ed73row5_col2 {\n",
       "            background-color:  #bd1f2d;\n",
       "            color:  #f1f1f1;\n",
       "        }    #T_858d2e2e_3bfd_11ec_925b_357a79d0ed73row5_col3 {\n",
       "            background-color:  #b8122a;\n",
       "            color:  #f1f1f1;\n",
       "        }    #T_858d2e2e_3bfd_11ec_925b_357a79d0ed73row5_col4 {\n",
       "            background-color:  #bb1b2c;\n",
       "            color:  #f1f1f1;\n",
       "        }    #T_858d2e2e_3bfd_11ec_925b_357a79d0ed73row5_col5 {\n",
       "            background-color:  #b40426;\n",
       "            color:  #f1f1f1;\n",
       "        }    #T_858d2e2e_3bfd_11ec_925b_357a79d0ed73row5_col6 {\n",
       "            background-color:  #b40426;\n",
       "            color:  #f1f1f1;\n",
       "        }    #T_858d2e2e_3bfd_11ec_925b_357a79d0ed73row5_col7 {\n",
       "            background-color:  #ba162b;\n",
       "            color:  #f1f1f1;\n",
       "        }    #T_858d2e2e_3bfd_11ec_925b_357a79d0ed73row5_col8 {\n",
       "            background-color:  #b70d28;\n",
       "            color:  #f1f1f1;\n",
       "        }    #T_858d2e2e_3bfd_11ec_925b_357a79d0ed73row5_col9 {\n",
       "            background-color:  #b8122a;\n",
       "            color:  #f1f1f1;\n",
       "        }    #T_858d2e2e_3bfd_11ec_925b_357a79d0ed73row5_col10 {\n",
       "            background-color:  #455cce;\n",
       "            color:  #f1f1f1;\n",
       "        }    #T_858d2e2e_3bfd_11ec_925b_357a79d0ed73row5_col11 {\n",
       "            background-color:  #b70d28;\n",
       "            color:  #f1f1f1;\n",
       "        }    #T_858d2e2e_3bfd_11ec_925b_357a79d0ed73row6_col0 {\n",
       "            background-color:  #d24b40;\n",
       "            color:  #f1f1f1;\n",
       "        }    #T_858d2e2e_3bfd_11ec_925b_357a79d0ed73row6_col1 {\n",
       "            background-color:  #c32e31;\n",
       "            color:  #f1f1f1;\n",
       "        }    #T_858d2e2e_3bfd_11ec_925b_357a79d0ed73row6_col2 {\n",
       "            background-color:  #b8122a;\n",
       "            color:  #f1f1f1;\n",
       "        }    #T_858d2e2e_3bfd_11ec_925b_357a79d0ed73row6_col3 {\n",
       "            background-color:  #b70d28;\n",
       "            color:  #f1f1f1;\n",
       "        }    #T_858d2e2e_3bfd_11ec_925b_357a79d0ed73row6_col4 {\n",
       "            background-color:  #ba162b;\n",
       "            color:  #f1f1f1;\n",
       "        }    #T_858d2e2e_3bfd_11ec_925b_357a79d0ed73row6_col5 {\n",
       "            background-color:  #b40426;\n",
       "            color:  #f1f1f1;\n",
       "        }    #T_858d2e2e_3bfd_11ec_925b_357a79d0ed73row6_col6 {\n",
       "            background-color:  #b40426;\n",
       "            color:  #f1f1f1;\n",
       "        }    #T_858d2e2e_3bfd_11ec_925b_357a79d0ed73row6_col7 {\n",
       "            background-color:  #b70d28;\n",
       "            color:  #f1f1f1;\n",
       "        }    #T_858d2e2e_3bfd_11ec_925b_357a79d0ed73row6_col8 {\n",
       "            background-color:  #b50927;\n",
       "            color:  #f1f1f1;\n",
       "        }    #T_858d2e2e_3bfd_11ec_925b_357a79d0ed73row6_col9 {\n",
       "            background-color:  #b70d28;\n",
       "            color:  #f1f1f1;\n",
       "        }    #T_858d2e2e_3bfd_11ec_925b_357a79d0ed73row6_col10 {\n",
       "            background-color:  #445acc;\n",
       "            color:  #f1f1f1;\n",
       "        }    #T_858d2e2e_3bfd_11ec_925b_357a79d0ed73row6_col11 {\n",
       "            background-color:  #b40426;\n",
       "            color:  #f1f1f1;\n",
       "        }    #T_858d2e2e_3bfd_11ec_925b_357a79d0ed73row7_col0 {\n",
       "            background-color:  #da5a49;\n",
       "            color:  #000000;\n",
       "        }    #T_858d2e2e_3bfd_11ec_925b_357a79d0ed73row7_col1 {\n",
       "            background-color:  #c53334;\n",
       "            color:  #f1f1f1;\n",
       "        }    #T_858d2e2e_3bfd_11ec_925b_357a79d0ed73row7_col2 {\n",
       "            background-color:  #b70d28;\n",
       "            color:  #f1f1f1;\n",
       "        }    #T_858d2e2e_3bfd_11ec_925b_357a79d0ed73row7_col3 {\n",
       "            background-color:  #b8122a;\n",
       "            color:  #f1f1f1;\n",
       "        }    #T_858d2e2e_3bfd_11ec_925b_357a79d0ed73row7_col4 {\n",
       "            background-color:  #c0282f;\n",
       "            color:  #f1f1f1;\n",
       "        }    #T_858d2e2e_3bfd_11ec_925b_357a79d0ed73row7_col5 {\n",
       "            background-color:  #ba162b;\n",
       "            color:  #f1f1f1;\n",
       "        }    #T_858d2e2e_3bfd_11ec_925b_357a79d0ed73row7_col6 {\n",
       "            background-color:  #b70d28;\n",
       "            color:  #f1f1f1;\n",
       "        }    #T_858d2e2e_3bfd_11ec_925b_357a79d0ed73row7_col7 {\n",
       "            background-color:  #b40426;\n",
       "            color:  #f1f1f1;\n",
       "        }    #T_858d2e2e_3bfd_11ec_925b_357a79d0ed73row7_col8 {\n",
       "            background-color:  #b50927;\n",
       "            color:  #f1f1f1;\n",
       "        }    #T_858d2e2e_3bfd_11ec_925b_357a79d0ed73row7_col9 {\n",
       "            background-color:  #ba162b;\n",
       "            color:  #f1f1f1;\n",
       "        }    #T_858d2e2e_3bfd_11ec_925b_357a79d0ed73row7_col10 {\n",
       "            background-color:  #3e51c5;\n",
       "            color:  #f1f1f1;\n",
       "        }    #T_858d2e2e_3bfd_11ec_925b_357a79d0ed73row7_col11 {\n",
       "            background-color:  #b70d28;\n",
       "            color:  #f1f1f1;\n",
       "        }    #T_858d2e2e_3bfd_11ec_925b_357a79d0ed73row8_col0 {\n",
       "            background-color:  #dc5d4a;\n",
       "            color:  #000000;\n",
       "        }    #T_858d2e2e_3bfd_11ec_925b_357a79d0ed73row8_col1 {\n",
       "            background-color:  #c73635;\n",
       "            color:  #f1f1f1;\n",
       "        }    #T_858d2e2e_3bfd_11ec_925b_357a79d0ed73row8_col2 {\n",
       "            background-color:  #b8122a;\n",
       "            color:  #f1f1f1;\n",
       "        }    #T_858d2e2e_3bfd_11ec_925b_357a79d0ed73row8_col3 {\n",
       "            background-color:  #b40426;\n",
       "            color:  #f1f1f1;\n",
       "        }    #T_858d2e2e_3bfd_11ec_925b_357a79d0ed73row8_col4 {\n",
       "            background-color:  #c0282f;\n",
       "            color:  #f1f1f1;\n",
       "        }    #T_858d2e2e_3bfd_11ec_925b_357a79d0ed73row8_col5 {\n",
       "            background-color:  #b70d28;\n",
       "            color:  #f1f1f1;\n",
       "        }    #T_858d2e2e_3bfd_11ec_925b_357a79d0ed73row8_col6 {\n",
       "            background-color:  #b50927;\n",
       "            color:  #f1f1f1;\n",
       "        }    #T_858d2e2e_3bfd_11ec_925b_357a79d0ed73row8_col7 {\n",
       "            background-color:  #b50927;\n",
       "            color:  #f1f1f1;\n",
       "        }    #T_858d2e2e_3bfd_11ec_925b_357a79d0ed73row8_col8 {\n",
       "            background-color:  #b40426;\n",
       "            color:  #f1f1f1;\n",
       "        }    #T_858d2e2e_3bfd_11ec_925b_357a79d0ed73row8_col9 {\n",
       "            background-color:  #ba162b;\n",
       "            color:  #f1f1f1;\n",
       "        }    #T_858d2e2e_3bfd_11ec_925b_357a79d0ed73row8_col10 {\n",
       "            background-color:  #485fd1;\n",
       "            color:  #f1f1f1;\n",
       "        }    #T_858d2e2e_3bfd_11ec_925b_357a79d0ed73row8_col11 {\n",
       "            background-color:  #b50927;\n",
       "            color:  #f1f1f1;\n",
       "        }    #T_858d2e2e_3bfd_11ec_925b_357a79d0ed73row9_col0 {\n",
       "            background-color:  #cd423b;\n",
       "            color:  #f1f1f1;\n",
       "        }    #T_858d2e2e_3bfd_11ec_925b_357a79d0ed73row9_col1 {\n",
       "            background-color:  #ba162b;\n",
       "            color:  #f1f1f1;\n",
       "        }    #T_858d2e2e_3bfd_11ec_925b_357a79d0ed73row9_col2 {\n",
       "            background-color:  #b8122a;\n",
       "            color:  #f1f1f1;\n",
       "        }    #T_858d2e2e_3bfd_11ec_925b_357a79d0ed73row9_col3 {\n",
       "            background-color:  #bb1b2c;\n",
       "            color:  #f1f1f1;\n",
       "        }    #T_858d2e2e_3bfd_11ec_925b_357a79d0ed73row9_col4 {\n",
       "            background-color:  #b70d28;\n",
       "            color:  #f1f1f1;\n",
       "        }    #T_858d2e2e_3bfd_11ec_925b_357a79d0ed73row9_col5 {\n",
       "            background-color:  #b8122a;\n",
       "            color:  #f1f1f1;\n",
       "        }    #T_858d2e2e_3bfd_11ec_925b_357a79d0ed73row9_col6 {\n",
       "            background-color:  #b70d28;\n",
       "            color:  #f1f1f1;\n",
       "        }    #T_858d2e2e_3bfd_11ec_925b_357a79d0ed73row9_col7 {\n",
       "            background-color:  #ba162b;\n",
       "            color:  #f1f1f1;\n",
       "        }    #T_858d2e2e_3bfd_11ec_925b_357a79d0ed73row9_col8 {\n",
       "            background-color:  #ba162b;\n",
       "            color:  #f1f1f1;\n",
       "        }    #T_858d2e2e_3bfd_11ec_925b_357a79d0ed73row9_col9 {\n",
       "            background-color:  #b40426;\n",
       "            color:  #f1f1f1;\n",
       "        }    #T_858d2e2e_3bfd_11ec_925b_357a79d0ed73row9_col10 {\n",
       "            background-color:  #4358cb;\n",
       "            color:  #f1f1f1;\n",
       "        }    #T_858d2e2e_3bfd_11ec_925b_357a79d0ed73row9_col11 {\n",
       "            background-color:  #b40426;\n",
       "            color:  #f1f1f1;\n",
       "        }    #T_858d2e2e_3bfd_11ec_925b_357a79d0ed73row10_col0 {\n",
       "            background-color:  #3b4cc0;\n",
       "            color:  #f1f1f1;\n",
       "        }    #T_858d2e2e_3bfd_11ec_925b_357a79d0ed73row10_col1 {\n",
       "            background-color:  #3b4cc0;\n",
       "            color:  #f1f1f1;\n",
       "        }    #T_858d2e2e_3bfd_11ec_925b_357a79d0ed73row10_col2 {\n",
       "            background-color:  #3b4cc0;\n",
       "            color:  #f1f1f1;\n",
       "        }    #T_858d2e2e_3bfd_11ec_925b_357a79d0ed73row10_col3 {\n",
       "            background-color:  #3b4cc0;\n",
       "            color:  #f1f1f1;\n",
       "        }    #T_858d2e2e_3bfd_11ec_925b_357a79d0ed73row10_col4 {\n",
       "            background-color:  #3b4cc0;\n",
       "            color:  #f1f1f1;\n",
       "        }    #T_858d2e2e_3bfd_11ec_925b_357a79d0ed73row10_col5 {\n",
       "            background-color:  #3b4cc0;\n",
       "            color:  #f1f1f1;\n",
       "        }    #T_858d2e2e_3bfd_11ec_925b_357a79d0ed73row10_col6 {\n",
       "            background-color:  #3b4cc0;\n",
       "            color:  #f1f1f1;\n",
       "        }    #T_858d2e2e_3bfd_11ec_925b_357a79d0ed73row10_col7 {\n",
       "            background-color:  #3b4cc0;\n",
       "            color:  #f1f1f1;\n",
       "        }    #T_858d2e2e_3bfd_11ec_925b_357a79d0ed73row10_col8 {\n",
       "            background-color:  #3b4cc0;\n",
       "            color:  #f1f1f1;\n",
       "        }    #T_858d2e2e_3bfd_11ec_925b_357a79d0ed73row10_col9 {\n",
       "            background-color:  #3b4cc0;\n",
       "            color:  #f1f1f1;\n",
       "        }    #T_858d2e2e_3bfd_11ec_925b_357a79d0ed73row10_col10 {\n",
       "            background-color:  #b40426;\n",
       "            color:  #f1f1f1;\n",
       "        }    #T_858d2e2e_3bfd_11ec_925b_357a79d0ed73row10_col11 {\n",
       "            background-color:  #3b4cc0;\n",
       "            color:  #f1f1f1;\n",
       "        }    #T_858d2e2e_3bfd_11ec_925b_357a79d0ed73row11_col0 {\n",
       "            background-color:  #d0473d;\n",
       "            color:  #f1f1f1;\n",
       "        }    #T_858d2e2e_3bfd_11ec_925b_357a79d0ed73row11_col1 {\n",
       "            background-color:  #bb1b2c;\n",
       "            color:  #f1f1f1;\n",
       "        }    #T_858d2e2e_3bfd_11ec_925b_357a79d0ed73row11_col2 {\n",
       "            background-color:  #b50927;\n",
       "            color:  #f1f1f1;\n",
       "        }    #T_858d2e2e_3bfd_11ec_925b_357a79d0ed73row11_col3 {\n",
       "            background-color:  #b70d28;\n",
       "            color:  #f1f1f1;\n",
       "        }    #T_858d2e2e_3bfd_11ec_925b_357a79d0ed73row11_col4 {\n",
       "            background-color:  #b8122a;\n",
       "            color:  #f1f1f1;\n",
       "        }    #T_858d2e2e_3bfd_11ec_925b_357a79d0ed73row11_col5 {\n",
       "            background-color:  #b70d28;\n",
       "            color:  #f1f1f1;\n",
       "        }    #T_858d2e2e_3bfd_11ec_925b_357a79d0ed73row11_col6 {\n",
       "            background-color:  #b40426;\n",
       "            color:  #f1f1f1;\n",
       "        }    #T_858d2e2e_3bfd_11ec_925b_357a79d0ed73row11_col7 {\n",
       "            background-color:  #b70d28;\n",
       "            color:  #f1f1f1;\n",
       "        }    #T_858d2e2e_3bfd_11ec_925b_357a79d0ed73row11_col8 {\n",
       "            background-color:  #b50927;\n",
       "            color:  #f1f1f1;\n",
       "        }    #T_858d2e2e_3bfd_11ec_925b_357a79d0ed73row11_col9 {\n",
       "            background-color:  #b40426;\n",
       "            color:  #f1f1f1;\n",
       "        }    #T_858d2e2e_3bfd_11ec_925b_357a79d0ed73row11_col10 {\n",
       "            background-color:  #4358cb;\n",
       "            color:  #f1f1f1;\n",
       "        }    #T_858d2e2e_3bfd_11ec_925b_357a79d0ed73row11_col11 {\n",
       "            background-color:  #b40426;\n",
       "            color:  #f1f1f1;\n",
       "        }</style><table id=\"T_858d2e2e_3bfd_11ec_925b_357a79d0ed73\" ><thead>    <tr>        <th class=\"blank level0\" ></th>        <th class=\"col_heading level0 col0\" >YYYYMMDD</th>        <th class=\"col_heading level0 col1\" >EC</th>        <th class=\"col_heading level0 col2\" >FS</th>        <th class=\"col_heading level0 col3\" >GP</th>        <th class=\"col_heading level0 col4\" >KZN</th>        <th class=\"col_heading level0 col5\" >LP</th>        <th class=\"col_heading level0 col6\" >MP</th>        <th class=\"col_heading level0 col7\" >NC</th>        <th class=\"col_heading level0 col8\" >NW</th>        <th class=\"col_heading level0 col9\" >WC</th>        <th class=\"col_heading level0 col10\" >UNKNOWN</th>        <th class=\"col_heading level0 col11\" >total</th>    </tr></thead><tbody>\n",
       "                <tr>\n",
       "                        <th id=\"T_858d2e2e_3bfd_11ec_925b_357a79d0ed73level0_row0\" class=\"row_heading level0 row0\" >YYYYMMDD</th>\n",
       "                        <td id=\"T_858d2e2e_3bfd_11ec_925b_357a79d0ed73row0_col0\" class=\"data row0 col0\" >1.000000</td>\n",
       "                        <td id=\"T_858d2e2e_3bfd_11ec_925b_357a79d0ed73row0_col1\" class=\"data row0 col1\" >0.893354</td>\n",
       "                        <td id=\"T_858d2e2e_3bfd_11ec_925b_357a79d0ed73row0_col2\" class=\"data row0 col2\" >0.854657</td>\n",
       "                        <td id=\"T_858d2e2e_3bfd_11ec_925b_357a79d0ed73row0_col3\" class=\"data row0 col3\" >0.824287</td>\n",
       "                        <td id=\"T_858d2e2e_3bfd_11ec_925b_357a79d0ed73row0_col4\" class=\"data row0 col4\" >0.937635</td>\n",
       "                        <td id=\"T_858d2e2e_3bfd_11ec_925b_357a79d0ed73row0_col5\" class=\"data row0 col5\" >0.896274</td>\n",
       "                        <td id=\"T_858d2e2e_3bfd_11ec_925b_357a79d0ed73row0_col6\" class=\"data row0 col6\" >0.878291</td>\n",
       "                        <td id=\"T_858d2e2e_3bfd_11ec_925b_357a79d0ed73row0_col7\" class=\"data row0 col7\" >0.840822</td>\n",
       "                        <td id=\"T_858d2e2e_3bfd_11ec_925b_357a79d0ed73row0_col8\" class=\"data row0 col8\" >0.834806</td>\n",
       "                        <td id=\"T_858d2e2e_3bfd_11ec_925b_357a79d0ed73row0_col9\" class=\"data row0 col9\" >0.900530</td>\n",
       "                        <td id=\"T_858d2e2e_3bfd_11ec_925b_357a79d0ed73row0_col10\" class=\"data row0 col10\" >-0.400131</td>\n",
       "                        <td id=\"T_858d2e2e_3bfd_11ec_925b_357a79d0ed73row0_col11\" class=\"data row0 col11\" >0.885511</td>\n",
       "            </tr>\n",
       "            <tr>\n",
       "                        <th id=\"T_858d2e2e_3bfd_11ec_925b_357a79d0ed73level0_row1\" class=\"row_heading level0 row1\" >EC</th>\n",
       "                        <td id=\"T_858d2e2e_3bfd_11ec_925b_357a79d0ed73row1_col0\" class=\"data row1 col0\" >0.893354</td>\n",
       "                        <td id=\"T_858d2e2e_3bfd_11ec_925b_357a79d0ed73row1_col1\" class=\"data row1 col1\" >1.000000</td>\n",
       "                        <td id=\"T_858d2e2e_3bfd_11ec_925b_357a79d0ed73row1_col2\" class=\"data row1 col2\" >0.968904</td>\n",
       "                        <td id=\"T_858d2e2e_3bfd_11ec_925b_357a79d0ed73row1_col3\" class=\"data row1 col3\" >0.925169</td>\n",
       "                        <td id=\"T_858d2e2e_3bfd_11ec_925b_357a79d0ed73row1_col4\" class=\"data row1 col4\" >0.980621</td>\n",
       "                        <td id=\"T_858d2e2e_3bfd_11ec_925b_357a79d0ed73row1_col5\" class=\"data row1 col5\" >0.927479</td>\n",
       "                        <td id=\"T_858d2e2e_3bfd_11ec_925b_357a79d0ed73row1_col6\" class=\"data row1 col6\" >0.942307</td>\n",
       "                        <td id=\"T_858d2e2e_3bfd_11ec_925b_357a79d0ed73row1_col7\" class=\"data row1 col7\" >0.932591</td>\n",
       "                        <td id=\"T_858d2e2e_3bfd_11ec_925b_357a79d0ed73row1_col8\" class=\"data row1 col8\" >0.926729</td>\n",
       "                        <td id=\"T_858d2e2e_3bfd_11ec_925b_357a79d0ed73row1_col9\" class=\"data row1 col9\" >0.973989</td>\n",
       "                        <td id=\"T_858d2e2e_3bfd_11ec_925b_357a79d0ed73row1_col10\" class=\"data row1 col10\" >-0.423396</td>\n",
       "                        <td id=\"T_858d2e2e_3bfd_11ec_925b_357a79d0ed73row1_col11\" class=\"data row1 col11\" >0.967819</td>\n",
       "            </tr>\n",
       "            <tr>\n",
       "                        <th id=\"T_858d2e2e_3bfd_11ec_925b_357a79d0ed73level0_row2\" class=\"row_heading level0 row2\" >FS</th>\n",
       "                        <td id=\"T_858d2e2e_3bfd_11ec_925b_357a79d0ed73row2_col0\" class=\"data row2 col0\" >0.854657</td>\n",
       "                        <td id=\"T_858d2e2e_3bfd_11ec_925b_357a79d0ed73row2_col1\" class=\"data row2 col1\" >0.968904</td>\n",
       "                        <td id=\"T_858d2e2e_3bfd_11ec_925b_357a79d0ed73row2_col2\" class=\"data row2 col2\" >1.000000</td>\n",
       "                        <td id=\"T_858d2e2e_3bfd_11ec_925b_357a79d0ed73row2_col3\" class=\"data row2 col3\" >0.973178</td>\n",
       "                        <td id=\"T_858d2e2e_3bfd_11ec_925b_357a79d0ed73row2_col4\" class=\"data row2 col4\" >0.972389</td>\n",
       "                        <td id=\"T_858d2e2e_3bfd_11ec_925b_357a79d0ed73row2_col5\" class=\"data row2 col5\" >0.962017</td>\n",
       "                        <td id=\"T_858d2e2e_3bfd_11ec_925b_357a79d0ed73row2_col6\" class=\"data row2 col6\" >0.980647</td>\n",
       "                        <td id=\"T_858d2e2e_3bfd_11ec_925b_357a79d0ed73row2_col7\" class=\"data row2 col7\" >0.986886</td>\n",
       "                        <td id=\"T_858d2e2e_3bfd_11ec_925b_357a79d0ed73row2_col8\" class=\"data row2 col8\" >0.978241</td>\n",
       "                        <td id=\"T_858d2e2e_3bfd_11ec_925b_357a79d0ed73row2_col9\" class=\"data row2 col9\" >0.977698</td>\n",
       "                        <td id=\"T_858d2e2e_3bfd_11ec_925b_357a79d0ed73row2_col10\" class=\"data row2 col10\" >-0.435648</td>\n",
       "                        <td id=\"T_858d2e2e_3bfd_11ec_925b_357a79d0ed73row2_col11\" class=\"data row2 col11\" >0.988822</td>\n",
       "            </tr>\n",
       "            <tr>\n",
       "                        <th id=\"T_858d2e2e_3bfd_11ec_925b_357a79d0ed73level0_row3\" class=\"row_heading level0 row3\" >GP</th>\n",
       "                        <td id=\"T_858d2e2e_3bfd_11ec_925b_357a79d0ed73row3_col0\" class=\"data row3 col0\" >0.824287</td>\n",
       "                        <td id=\"T_858d2e2e_3bfd_11ec_925b_357a79d0ed73row3_col1\" class=\"data row3 col1\" >0.925169</td>\n",
       "                        <td id=\"T_858d2e2e_3bfd_11ec_925b_357a79d0ed73row3_col2\" class=\"data row3 col2\" >0.973178</td>\n",
       "                        <td id=\"T_858d2e2e_3bfd_11ec_925b_357a79d0ed73row3_col3\" class=\"data row3 col3\" >1.000000</td>\n",
       "                        <td id=\"T_858d2e2e_3bfd_11ec_925b_357a79d0ed73row3_col4\" class=\"data row3 col4\" >0.943170</td>\n",
       "                        <td id=\"T_858d2e2e_3bfd_11ec_925b_357a79d0ed73row3_col5\" class=\"data row3 col5\" >0.979336</td>\n",
       "                        <td id=\"T_858d2e2e_3bfd_11ec_925b_357a79d0ed73row3_col6\" class=\"data row3 col6\" >0.986081</td>\n",
       "                        <td id=\"T_858d2e2e_3bfd_11ec_925b_357a79d0ed73row3_col7\" class=\"data row3 col7\" >0.981574</td>\n",
       "                        <td id=\"T_858d2e2e_3bfd_11ec_925b_357a79d0ed73row3_col8\" class=\"data row3 col8\" >0.996465</td>\n",
       "                        <td id=\"T_858d2e2e_3bfd_11ec_925b_357a79d0ed73row3_col9\" class=\"data row3 col9\" >0.972430</td>\n",
       "                        <td id=\"T_858d2e2e_3bfd_11ec_925b_357a79d0ed73row3_col10\" class=\"data row3 col10\" >-0.357228</td>\n",
       "                        <td id=\"T_858d2e2e_3bfd_11ec_925b_357a79d0ed73row3_col11\" class=\"data row3 col11\" >0.987104</td>\n",
       "            </tr>\n",
       "            <tr>\n",
       "                        <th id=\"T_858d2e2e_3bfd_11ec_925b_357a79d0ed73level0_row4\" class=\"row_heading level0 row4\" >KZN</th>\n",
       "                        <td id=\"T_858d2e2e_3bfd_11ec_925b_357a79d0ed73row4_col0\" class=\"data row4 col0\" >0.937635</td>\n",
       "                        <td id=\"T_858d2e2e_3bfd_11ec_925b_357a79d0ed73row4_col1\" class=\"data row4 col1\" >0.980621</td>\n",
       "                        <td id=\"T_858d2e2e_3bfd_11ec_925b_357a79d0ed73row4_col2\" class=\"data row4 col2\" >0.972389</td>\n",
       "                        <td id=\"T_858d2e2e_3bfd_11ec_925b_357a79d0ed73row4_col3\" class=\"data row4 col3\" >0.943170</td>\n",
       "                        <td id=\"T_858d2e2e_3bfd_11ec_925b_357a79d0ed73row4_col4\" class=\"data row4 col4\" >1.000000</td>\n",
       "                        <td id=\"T_858d2e2e_3bfd_11ec_925b_357a79d0ed73row4_col5\" class=\"data row4 col5\" >0.969196</td>\n",
       "                        <td id=\"T_858d2e2e_3bfd_11ec_925b_357a79d0ed73row4_col6\" class=\"data row4 col6\" >0.974397</td>\n",
       "                        <td id=\"T_858d2e2e_3bfd_11ec_925b_357a79d0ed73row4_col7\" class=\"data row4 col7\" >0.954079</td>\n",
       "                        <td id=\"T_858d2e2e_3bfd_11ec_925b_357a79d0ed73row4_col8\" class=\"data row4 col8\" >0.950916</td>\n",
       "                        <td id=\"T_858d2e2e_3bfd_11ec_925b_357a79d0ed73row4_col9\" class=\"data row4 col9\" >0.986847</td>\n",
       "                        <td id=\"T_858d2e2e_3bfd_11ec_925b_357a79d0ed73row4_col10\" class=\"data row4 col10\" >-0.416713</td>\n",
       "                        <td id=\"T_858d2e2e_3bfd_11ec_925b_357a79d0ed73row4_col11\" class=\"data row4 col11\" >0.983122</td>\n",
       "            </tr>\n",
       "            <tr>\n",
       "                        <th id=\"T_858d2e2e_3bfd_11ec_925b_357a79d0ed73level0_row5\" class=\"row_heading level0 row5\" >LP</th>\n",
       "                        <td id=\"T_858d2e2e_3bfd_11ec_925b_357a79d0ed73row5_col0\" class=\"data row5 col0\" >0.896274</td>\n",
       "                        <td id=\"T_858d2e2e_3bfd_11ec_925b_357a79d0ed73row5_col1\" class=\"data row5 col1\" >0.927479</td>\n",
       "                        <td id=\"T_858d2e2e_3bfd_11ec_925b_357a79d0ed73row5_col2\" class=\"data row5 col2\" >0.962017</td>\n",
       "                        <td id=\"T_858d2e2e_3bfd_11ec_925b_357a79d0ed73row5_col3\" class=\"data row5 col3\" >0.979336</td>\n",
       "                        <td id=\"T_858d2e2e_3bfd_11ec_925b_357a79d0ed73row5_col4\" class=\"data row5 col4\" >0.969196</td>\n",
       "                        <td id=\"T_858d2e2e_3bfd_11ec_925b_357a79d0ed73row5_col5\" class=\"data row5 col5\" >1.000000</td>\n",
       "                        <td id=\"T_858d2e2e_3bfd_11ec_925b_357a79d0ed73row5_col6\" class=\"data row5 col6\" >0.995257</td>\n",
       "                        <td id=\"T_858d2e2e_3bfd_11ec_925b_357a79d0ed73row5_col7\" class=\"data row5 col7\" >0.975678</td>\n",
       "                        <td id=\"T_858d2e2e_3bfd_11ec_925b_357a79d0ed73row5_col8\" class=\"data row5 col8\" >0.986223</td>\n",
       "                        <td id=\"T_858d2e2e_3bfd_11ec_925b_357a79d0ed73row5_col9\" class=\"data row5 col9\" >0.981908</td>\n",
       "                        <td id=\"T_858d2e2e_3bfd_11ec_925b_357a79d0ed73row5_col10\" class=\"data row5 col10\" >-0.380350</td>\n",
       "                        <td id=\"T_858d2e2e_3bfd_11ec_925b_357a79d0ed73row5_col11\" class=\"data row5 col11\" >0.987235</td>\n",
       "            </tr>\n",
       "            <tr>\n",
       "                        <th id=\"T_858d2e2e_3bfd_11ec_925b_357a79d0ed73level0_row6\" class=\"row_heading level0 row6\" >MP</th>\n",
       "                        <td id=\"T_858d2e2e_3bfd_11ec_925b_357a79d0ed73row6_col0\" class=\"data row6 col0\" >0.878291</td>\n",
       "                        <td id=\"T_858d2e2e_3bfd_11ec_925b_357a79d0ed73row6_col1\" class=\"data row6 col1\" >0.942307</td>\n",
       "                        <td id=\"T_858d2e2e_3bfd_11ec_925b_357a79d0ed73row6_col2\" class=\"data row6 col2\" >0.980647</td>\n",
       "                        <td id=\"T_858d2e2e_3bfd_11ec_925b_357a79d0ed73row6_col3\" class=\"data row6 col3\" >0.986081</td>\n",
       "                        <td id=\"T_858d2e2e_3bfd_11ec_925b_357a79d0ed73row6_col4\" class=\"data row6 col4\" >0.974397</td>\n",
       "                        <td id=\"T_858d2e2e_3bfd_11ec_925b_357a79d0ed73row6_col5\" class=\"data row6 col5\" >0.995257</td>\n",
       "                        <td id=\"T_858d2e2e_3bfd_11ec_925b_357a79d0ed73row6_col6\" class=\"data row6 col6\" >1.000000</td>\n",
       "                        <td id=\"T_858d2e2e_3bfd_11ec_925b_357a79d0ed73row6_col7\" class=\"data row6 col7\" >0.988928</td>\n",
       "                        <td id=\"T_858d2e2e_3bfd_11ec_925b_357a79d0ed73row6_col8\" class=\"data row6 col8\" >0.993825</td>\n",
       "                        <td id=\"T_858d2e2e_3bfd_11ec_925b_357a79d0ed73row6_col9\" class=\"data row6 col9\" >0.987431</td>\n",
       "                        <td id=\"T_858d2e2e_3bfd_11ec_925b_357a79d0ed73row6_col10\" class=\"data row6 col10\" >-0.389359</td>\n",
       "                        <td id=\"T_858d2e2e_3bfd_11ec_925b_357a79d0ed73row6_col11\" class=\"data row6 col11\" >0.994656</td>\n",
       "            </tr>\n",
       "            <tr>\n",
       "                        <th id=\"T_858d2e2e_3bfd_11ec_925b_357a79d0ed73level0_row7\" class=\"row_heading level0 row7\" >NC</th>\n",
       "                        <td id=\"T_858d2e2e_3bfd_11ec_925b_357a79d0ed73row7_col0\" class=\"data row7 col0\" >0.840822</td>\n",
       "                        <td id=\"T_858d2e2e_3bfd_11ec_925b_357a79d0ed73row7_col1\" class=\"data row7 col1\" >0.932591</td>\n",
       "                        <td id=\"T_858d2e2e_3bfd_11ec_925b_357a79d0ed73row7_col2\" class=\"data row7 col2\" >0.986886</td>\n",
       "                        <td id=\"T_858d2e2e_3bfd_11ec_925b_357a79d0ed73row7_col3\" class=\"data row7 col3\" >0.981574</td>\n",
       "                        <td id=\"T_858d2e2e_3bfd_11ec_925b_357a79d0ed73row7_col4\" class=\"data row7 col4\" >0.954079</td>\n",
       "                        <td id=\"T_858d2e2e_3bfd_11ec_925b_357a79d0ed73row7_col5\" class=\"data row7 col5\" >0.975678</td>\n",
       "                        <td id=\"T_858d2e2e_3bfd_11ec_925b_357a79d0ed73row7_col6\" class=\"data row7 col6\" >0.988928</td>\n",
       "                        <td id=\"T_858d2e2e_3bfd_11ec_925b_357a79d0ed73row7_col7\" class=\"data row7 col7\" >1.000000</td>\n",
       "                        <td id=\"T_858d2e2e_3bfd_11ec_925b_357a79d0ed73row7_col8\" class=\"data row7 col8\" >0.991926</td>\n",
       "                        <td id=\"T_858d2e2e_3bfd_11ec_925b_357a79d0ed73row7_col9\" class=\"data row7 col9\" >0.973661</td>\n",
       "                        <td id=\"T_858d2e2e_3bfd_11ec_925b_357a79d0ed73row7_col10\" class=\"data row7 col10\" >-0.413299</td>\n",
       "                        <td id=\"T_858d2e2e_3bfd_11ec_925b_357a79d0ed73row7_col11\" class=\"data row7 col11\" >0.985197</td>\n",
       "            </tr>\n",
       "            <tr>\n",
       "                        <th id=\"T_858d2e2e_3bfd_11ec_925b_357a79d0ed73level0_row8\" class=\"row_heading level0 row8\" >NW</th>\n",
       "                        <td id=\"T_858d2e2e_3bfd_11ec_925b_357a79d0ed73row8_col0\" class=\"data row8 col0\" >0.834806</td>\n",
       "                        <td id=\"T_858d2e2e_3bfd_11ec_925b_357a79d0ed73row8_col1\" class=\"data row8 col1\" >0.926729</td>\n",
       "                        <td id=\"T_858d2e2e_3bfd_11ec_925b_357a79d0ed73row8_col2\" class=\"data row8 col2\" >0.978241</td>\n",
       "                        <td id=\"T_858d2e2e_3bfd_11ec_925b_357a79d0ed73row8_col3\" class=\"data row8 col3\" >0.996465</td>\n",
       "                        <td id=\"T_858d2e2e_3bfd_11ec_925b_357a79d0ed73row8_col4\" class=\"data row8 col4\" >0.950916</td>\n",
       "                        <td id=\"T_858d2e2e_3bfd_11ec_925b_357a79d0ed73row8_col5\" class=\"data row8 col5\" >0.986223</td>\n",
       "                        <td id=\"T_858d2e2e_3bfd_11ec_925b_357a79d0ed73row8_col6\" class=\"data row8 col6\" >0.993825</td>\n",
       "                        <td id=\"T_858d2e2e_3bfd_11ec_925b_357a79d0ed73row8_col7\" class=\"data row8 col7\" >0.991926</td>\n",
       "                        <td id=\"T_858d2e2e_3bfd_11ec_925b_357a79d0ed73row8_col8\" class=\"data row8 col8\" >1.000000</td>\n",
       "                        <td id=\"T_858d2e2e_3bfd_11ec_925b_357a79d0ed73row8_col9\" class=\"data row8 col9\" >0.977938</td>\n",
       "                        <td id=\"T_858d2e2e_3bfd_11ec_925b_357a79d0ed73row8_col10\" class=\"data row8 col10\" >-0.371983</td>\n",
       "                        <td id=\"T_858d2e2e_3bfd_11ec_925b_357a79d0ed73row8_col11\" class=\"data row8 col11\" >0.989986</td>\n",
       "            </tr>\n",
       "            <tr>\n",
       "                        <th id=\"T_858d2e2e_3bfd_11ec_925b_357a79d0ed73level0_row9\" class=\"row_heading level0 row9\" >WC</th>\n",
       "                        <td id=\"T_858d2e2e_3bfd_11ec_925b_357a79d0ed73row9_col0\" class=\"data row9 col0\" >0.900530</td>\n",
       "                        <td id=\"T_858d2e2e_3bfd_11ec_925b_357a79d0ed73row9_col1\" class=\"data row9 col1\" >0.973989</td>\n",
       "                        <td id=\"T_858d2e2e_3bfd_11ec_925b_357a79d0ed73row9_col2\" class=\"data row9 col2\" >0.977698</td>\n",
       "                        <td id=\"T_858d2e2e_3bfd_11ec_925b_357a79d0ed73row9_col3\" class=\"data row9 col3\" >0.972430</td>\n",
       "                        <td id=\"T_858d2e2e_3bfd_11ec_925b_357a79d0ed73row9_col4\" class=\"data row9 col4\" >0.986847</td>\n",
       "                        <td id=\"T_858d2e2e_3bfd_11ec_925b_357a79d0ed73row9_col5\" class=\"data row9 col5\" >0.981908</td>\n",
       "                        <td id=\"T_858d2e2e_3bfd_11ec_925b_357a79d0ed73row9_col6\" class=\"data row9 col6\" >0.987431</td>\n",
       "                        <td id=\"T_858d2e2e_3bfd_11ec_925b_357a79d0ed73row9_col7\" class=\"data row9 col7\" >0.973661</td>\n",
       "                        <td id=\"T_858d2e2e_3bfd_11ec_925b_357a79d0ed73row9_col8\" class=\"data row9 col8\" >0.977938</td>\n",
       "                        <td id=\"T_858d2e2e_3bfd_11ec_925b_357a79d0ed73row9_col9\" class=\"data row9 col9\" >1.000000</td>\n",
       "                        <td id=\"T_858d2e2e_3bfd_11ec_925b_357a79d0ed73row9_col10\" class=\"data row9 col10\" >-0.391033</td>\n",
       "                        <td id=\"T_858d2e2e_3bfd_11ec_925b_357a79d0ed73row9_col11\" class=\"data row9 col11\" >0.995200</td>\n",
       "            </tr>\n",
       "            <tr>\n",
       "                        <th id=\"T_858d2e2e_3bfd_11ec_925b_357a79d0ed73level0_row10\" class=\"row_heading level0 row10\" >UNKNOWN</th>\n",
       "                        <td id=\"T_858d2e2e_3bfd_11ec_925b_357a79d0ed73row10_col0\" class=\"data row10 col0\" >-0.400131</td>\n",
       "                        <td id=\"T_858d2e2e_3bfd_11ec_925b_357a79d0ed73row10_col1\" class=\"data row10 col1\" >-0.423396</td>\n",
       "                        <td id=\"T_858d2e2e_3bfd_11ec_925b_357a79d0ed73row10_col2\" class=\"data row10 col2\" >-0.435648</td>\n",
       "                        <td id=\"T_858d2e2e_3bfd_11ec_925b_357a79d0ed73row10_col3\" class=\"data row10 col3\" >-0.357228</td>\n",
       "                        <td id=\"T_858d2e2e_3bfd_11ec_925b_357a79d0ed73row10_col4\" class=\"data row10 col4\" >-0.416713</td>\n",
       "                        <td id=\"T_858d2e2e_3bfd_11ec_925b_357a79d0ed73row10_col5\" class=\"data row10 col5\" >-0.380350</td>\n",
       "                        <td id=\"T_858d2e2e_3bfd_11ec_925b_357a79d0ed73row10_col6\" class=\"data row10 col6\" >-0.389359</td>\n",
       "                        <td id=\"T_858d2e2e_3bfd_11ec_925b_357a79d0ed73row10_col7\" class=\"data row10 col7\" >-0.413299</td>\n",
       "                        <td id=\"T_858d2e2e_3bfd_11ec_925b_357a79d0ed73row10_col8\" class=\"data row10 col8\" >-0.371983</td>\n",
       "                        <td id=\"T_858d2e2e_3bfd_11ec_925b_357a79d0ed73row10_col9\" class=\"data row10 col9\" >-0.391033</td>\n",
       "                        <td id=\"T_858d2e2e_3bfd_11ec_925b_357a79d0ed73row10_col10\" class=\"data row10 col10\" >1.000000</td>\n",
       "                        <td id=\"T_858d2e2e_3bfd_11ec_925b_357a79d0ed73row10_col11\" class=\"data row10 col11\" >-0.395117</td>\n",
       "            </tr>\n",
       "            <tr>\n",
       "                        <th id=\"T_858d2e2e_3bfd_11ec_925b_357a79d0ed73level0_row11\" class=\"row_heading level0 row11\" >total</th>\n",
       "                        <td id=\"T_858d2e2e_3bfd_11ec_925b_357a79d0ed73row11_col0\" class=\"data row11 col0\" >0.885511</td>\n",
       "                        <td id=\"T_858d2e2e_3bfd_11ec_925b_357a79d0ed73row11_col1\" class=\"data row11 col1\" >0.967819</td>\n",
       "                        <td id=\"T_858d2e2e_3bfd_11ec_925b_357a79d0ed73row11_col2\" class=\"data row11 col2\" >0.988822</td>\n",
       "                        <td id=\"T_858d2e2e_3bfd_11ec_925b_357a79d0ed73row11_col3\" class=\"data row11 col3\" >0.987104</td>\n",
       "                        <td id=\"T_858d2e2e_3bfd_11ec_925b_357a79d0ed73row11_col4\" class=\"data row11 col4\" >0.983122</td>\n",
       "                        <td id=\"T_858d2e2e_3bfd_11ec_925b_357a79d0ed73row11_col5\" class=\"data row11 col5\" >0.987235</td>\n",
       "                        <td id=\"T_858d2e2e_3bfd_11ec_925b_357a79d0ed73row11_col6\" class=\"data row11 col6\" >0.994656</td>\n",
       "                        <td id=\"T_858d2e2e_3bfd_11ec_925b_357a79d0ed73row11_col7\" class=\"data row11 col7\" >0.985197</td>\n",
       "                        <td id=\"T_858d2e2e_3bfd_11ec_925b_357a79d0ed73row11_col8\" class=\"data row11 col8\" >0.989986</td>\n",
       "                        <td id=\"T_858d2e2e_3bfd_11ec_925b_357a79d0ed73row11_col9\" class=\"data row11 col9\" >0.995200</td>\n",
       "                        <td id=\"T_858d2e2e_3bfd_11ec_925b_357a79d0ed73row11_col10\" class=\"data row11 col10\" >-0.395117</td>\n",
       "                        <td id=\"T_858d2e2e_3bfd_11ec_925b_357a79d0ed73row11_col11\" class=\"data row11 col11\" >1.000000</td>\n",
       "            </tr>\n",
       "    </tbody></table>"
      ],
      "text/plain": [
       "<pandas.io.formats.style.Styler at 0x7f452a73c810>"
      ]
     },
     "execution_count": 22,
     "metadata": {},
     "output_type": "execute_result"
    }
   ],
   "source": [
    "\n",
    "confirmed2.corr()\n",
    "corr = confirmed2.corr()\n",
    "corr.style.background_gradient(cmap='coolwarm')\n"
   ]
  },
  {
   "cell_type": "code",
   "execution_count": 23,
   "metadata": {},
   "outputs": [
    {
     "data": {
      "text/plain": [
       "(array([0, 1, 2, 3, 4, 5, 6, 7, 8]),\n",
       " [Text(0, 0, 'EC'),\n",
       "  Text(1, 0, 'FS'),\n",
       "  Text(2, 0, 'GP'),\n",
       "  Text(3, 0, 'KZN'),\n",
       "  Text(4, 0, 'LP'),\n",
       "  Text(5, 0, 'MP'),\n",
       "  Text(6, 0, 'NC'),\n",
       "  Text(7, 0, 'NW'),\n",
       "  Text(8, 0, 'WC')])"
      ]
     },
     "execution_count": 23,
     "metadata": {},
     "output_type": "execute_result"
    },
    {
     "data": {
      "image/png": "[encoded data removed]",
      "text/plain": [
       "<Figure size 432x288 with 1 Axes>"
      ]
     },
     "metadata": {
      "needs_background": "light"
     },
     "output_type": "display_data"
    }
   ],
   "source": [
    "death[['EC','FS','GP','KZN','LP','MP','NC','NW','WC']].sum().plot.bar()\n",
    "plt.title(\"provinc total deaths\")\n",
    "plt.xlabel('province')\n",
    "plt.ylabel('total Count')\n",
    "plt.xticks(color='red', rotation=50)"
   ]
  },
  {
   "cell_type": "code",
   "execution_count": 24,
   "metadata": {},
   "outputs": [
    {
     "data": {
      "text/plain": [
       "(array([0, 1, 2, 3, 4, 5, 6, 7, 8]),\n",
       " [Text(0, 0, 'EC'),\n",
       "  Text(1, 0, 'FS'),\n",
       "  Text(2, 0, 'GP'),\n",
       "  Text(3, 0, 'KZN'),\n",
       "  Text(4, 0, 'LP'),\n",
       "  Text(5, 0, 'MP'),\n",
       "  Text(6, 0, 'NC'),\n",
       "  Text(7, 0, 'NW'),\n",
       "  Text(8, 0, 'WC')])"
      ]
     },
     "execution_count": 24,
     "metadata": {},
     "output_type": "execute_result"
    },
    {
     "data": {
      "image/png": "[encoded data removed]",
      "text/plain": [
       "<Figure size 432x288 with 1 Axes>"
      ]
     },
     "metadata": {
      "needs_background": "light"
     },
     "output_type": "display_data"
    }
   ],
   "source": [
    "recovered2[['EC','FS','GP','KZN','LP','MP','NC','NW','WC']].sum().plot.bar()\n",
    "plt.title(\"provinc total recovry\")\n",
    "plt.xlabel('province')\n",
    "plt.ylabel('total Count')\n",
    "plt.xticks(color='red', rotation=50)"
   ]
  },
  {
   "cell_type": "code",
   "execution_count": 25,
   "metadata": {},
   "outputs": [
    {
     "data": {
      "text/plain": [
       "(array([0, 1, 2, 3, 4, 5, 6, 7, 8]),\n",
       " [Text(0, 0, 'EC'),\n",
       "  Text(1, 0, 'FS'),\n",
       "  Text(2, 0, 'GP'),\n",
       "  Text(3, 0, 'KZN'),\n",
       "  Text(4, 0, 'LP'),\n",
       "  Text(5, 0, 'MP'),\n",
       "  Text(6, 0, 'NC'),\n",
       "  Text(7, 0, 'NW'),\n",
       "  Text(8, 0, 'WC')])"
      ]
     },
     "execution_count": 25,
     "metadata": {},
     "output_type": "execute_result"
    },
    {
     "data": {
      "image/png": "[encoded data removed]",
      "text/plain": [
       "<Figure size 432x288 with 1 Axes>"
      ]
     },
     "metadata": {
      "needs_background": "light"
     },
     "output_type": "display_data"
    }
   ],
   "source": [
    "testing[['EC','FS','GP','KZN','LP','MP','NC','NW','WC']].sum().plot.bar()\n",
    "plt.title(\"provinc total testing\")\n",
    "plt.xlabel('province')\n",
    "plt.ylabel('total Count')\n",
    "plt.xticks(color='red', rotation=50)"
   ]
  },
  {
   "cell_type": "code",
   "execution_count": 26,
   "metadata": {},
   "outputs": [
    {
     "data": {
      "text/plain": [
       "(array([0, 1, 2, 3, 4, 5, 6, 7, 8]),\n",
       " [Text(0, 0, 'EC'),\n",
       "  Text(1, 0, 'FS'),\n",
       "  Text(2, 0, 'GP'),\n",
       "  Text(3, 0, 'KZN'),\n",
       "  Text(4, 0, 'LP'),\n",
       "  Text(5, 0, 'MP'),\n",
       "  Text(6, 0, 'NC'),\n",
       "  Text(7, 0, 'NW'),\n",
       "  Text(8, 0, 'WC')])"
      ]
     },
     "execution_count": 26,
     "metadata": {},
     "output_type": "execute_result"
    },
    {
     "data": {
      "image/png": "[encoded data removed]",
      "text/plain": [
       "<Figure size 432x288 with 1 Axes>"
      ]
     },
     "metadata": {
      "needs_background": "light"
     },
     "output_type": "display_data"
    }
   ],
   "source": [
    "vacc2[['EC','FS','GP','KZN','LP','MP','NC','NW','WC']].sum().plot.bar()\n",
    "plt.title(\"provinc total vacc\")\n",
    "plt.xlabel('province')\n",
    "plt.ylabel('total Count')\n",
    "plt.xticks(color='red', rotation=50)"
   ]
  },
  {
   "cell_type": "code",
   "execution_count": 27,
   "metadata": {},
   "outputs": [],
   "source": [
    "#fig = plt.figure(figsize=[15,8]);\n",
    "#cov_date = pd.Series(confirmed2.total.values, index=confirmed2.date)\n",
    "#plt.xlabel('Date')\n",
    "#plt.tick_params(axis='x', rotation=70)\n",
    "#plt.ylabel('Number of infections')\n",
    "#plt.title('Cumulative total infections', fontsize=20)\n",
    "#for index, row in confirmed2.iterrows():\n",
    "    #plt.annotate('{}'.format(row['total']), xy=(row['date'], row['total']), xytext=(-5, 5), ha='right',xycoords=, arrowprops=dict(arrowstyle='->', shrinkA=0))\n",
    "   # plt.text(row['date'],row['total'],row['total'])\n",
    "#plt.plot(cov_date, 'o-')"
   ]
  },
  {
   "cell_type": "code",
   "execution_count": 28,
   "metadata": {},
   "outputs": [
    {
     "data": {
      "image/png": "[encoded data removed]",
      "text/plain": [
       "<Figure size 1080x720 with 1 Axes>"
      ]
     },
     "metadata": {
      "needs_background": "light"
     },
     "output_type": "display_data"
    }
   ],
   "source": [
    "confirmed2.plot(x=\"date\", y=['EC','FS','GP','KZN','LP','MP','NC','NW','WC'],figsize=[15,10])\n",
    "plt.show()"
   ]
  },
  {
   "cell_type": "code",
   "execution_count": 29,
   "metadata": {},
   "outputs": [
    {
     "name": "stderr",
     "output_type": "stream",
     "text": [
      "findfont: Font family ['Graphik'] not found. Falling back to DejaVu Sans.\n",
      "findfont: Font family ['Graphik'] not found. Falling back to DejaVu Sans.\n",
      "findfont: Font family ['Graphik'] not found. Falling back to DejaVu Sans.\n"
     ]
    },
    {
     "data": {
      "image/png": "[encoded data removed]",
      "text/plain": [
       "<Figure size 1080x576 with 1 Axes>"
      ]
     },
     "metadata": {
      "needs_background": "light"
     },
     "output_type": "display_data"
    }
   ],
   "source": [
    "from collections import Counter\n",
    "\n",
    "fig = plt.figure(figsize=[15,8]);\n",
    "#Read in CSV and Group Data\n",
    "countAG= {                                                #dictionary to store the number of people per age group\n",
    "    \"0-9\": 0,\n",
    "    \"10-19\":0,\n",
    "    \"20-29\":0,\n",
    "    \"30-39\":0,\n",
    "    \"40-49\":0,\n",
    "    \"50-59\":0,\n",
    "    \"60-69\":0,\n",
    "    \"70-79\":0,\n",
    "    \"80+\":0\n",
    "}\n",
    "\n",
    "df= pd.read_csv('covid19za_timeline_confirmed.csv')        #read in csv file\n",
    "ageCount= Counter(df['age'])                               #count the number of people per age (who are positive)\n",
    "\n",
    "for i in ageCount:                                         #group each age into an age range and sum it\n",
    "    if (i in range(0,9)):\n",
    "        countAG[\"0-9\"]= ageCount[i]+ countAG[\"0-9\"]\n",
    "    elif (i in range(10,19)):\n",
    "        countAG[\"10-19\"]= ageCount[i]+ countAG[\"10-19\"]\n",
    "    elif (i in range(20,29)):\n",
    "        countAG[\"20-29\"]= ageCount[i]+ countAG[\"20-29\"]\n",
    "    elif (i in range(30,39)):\n",
    "        countAG[\"30-39\"]= ageCount[i]+ countAG[\"30-39\"]\n",
    "    elif (i in range(40,49)):\n",
    "        countAG[\"40-49\"]= ageCount[i]+ countAG[\"40-49\"]\n",
    "    elif (i in range(50,59)):\n",
    "        countAG[\"50-59\"]= ageCount[i]+ countAG[\"50-59\"]\n",
    "    elif (i in range(60,69)):\n",
    "        countAG[\"60-69\"]= ageCount[i]+ countAG[\"60-69\"]\n",
    "    elif (i in range(70,79)):\n",
    "        countAG[\"70-79\"]= ageCount[i]+ countAG[\"70-79\"]  \n",
    "    elif (i >= 80):\n",
    "        countAG[\"80+\"]= ageCount[i]+ countAG[\"80+\"]\n",
    "\n",
    "#Start With Graph Plotting\n",
    "\n",
    "plt.rcParams['font.family'] = 'Graphik'                        #Specify font \n",
    "plt.bar(range(len(countAG)), list(countAG.values()), color= [\"#3b0060\",\"#590090\",\"#af26ff\",\"#7600c0\",\"#7c1fff\",\"#cb6fff\" ,\"#a76aff\",\"#3b0060\",\"#590090\"], align='center')  #Accenture colours added\n",
    "plt.xticks(range(len(countAG)), list(countAG.keys()),fontweight='black')\n",
    "plt.yticks(fontweight='black')\n",
    "\n",
    "plt.xlabel('Age Groups', fontsize= 15,fontweight='black', color= \"#2e005c\")\n",
    "plt.ylabel('Number of Infected People',fontsize= 15,fontweight='black', color= \"#2e005c\")\n",
    "plt.title('Covid-19 cases by age groups - Plot 2',fontsize= 20,fontweight='black')\n",
    "plt.rcParams['axes.linewidth']=0.8\n",
    "#plt.grid(b=True, color='k', linestyle=':', lw=.5, zorder=1)   #Optional grid lines\n",
    "\n",
    "xs=[0,1,2,3,4,5,6,7,8]                                         #Necessary to form x,y pair\n",
    "\n",
    "for x,y in zip(xs,list(countAG.values())):\n",
    "\n",
    "    label = y\n",
    "\n",
    "    plt.annotate(label,                                        # this is the text\n",
    "                 (x,y),                                        # this is the point to label\n",
    "                 textcoords=\"offset points\",                   # how to position the text\n",
    "                 xytext=(0,2),                                 # distance from text to points (x,y)\n",
    "                 ha='center',                                  # horizontal alignment can be left, right or center\n",
    "                 fontweight='black')  "
   ]
  },
  {
   "cell_type": "code",
   "execution_count": 30,
   "metadata": {},
   "outputs": [],
   "source": [
    "confirmed_gender= pd.read_csv('covid19za_timeline_confirmed.csv')"
   ]
  },
  {
   "cell_type": "code",
   "execution_count": 31,
   "metadata": {},
   "outputs": [
    {
     "data": {
      "text/html": [
       "<div>\n",
       "<style scoped>\n",
       "    .dataframe tbody tr th:only-of-type {\n",
       "        vertical-align: middle;\n",
       "    }\n",
       "\n",
       "    .dataframe tbody tr th {\n",
       "        vertical-align: top;\n",
       "    }\n",
       "\n",
       "    .dataframe thead th {\n",
       "        text-align: right;\n",
       "    }\n",
       "</style>\n",
       "<table border=\"1\" class=\"dataframe\">\n",
       "  <thead>\n",
       "    <tr style=\"text-align: right;\">\n",
       "      <th></th>\n",
       "      <th>case_id</th>\n",
       "      <th>date</th>\n",
       "      <th>YYYYMMDD</th>\n",
       "      <th>country</th>\n",
       "      <th>province</th>\n",
       "      <th>geo_subdivision</th>\n",
       "      <th>age</th>\n",
       "      <th>gender</th>\n",
       "      <th>transmission_type</th>\n",
       "      <th>type</th>\n",
       "    </tr>\n",
       "  </thead>\n",
       "  <tbody>\n",
       "    <tr>\n",
       "      <th>0</th>\n",
       "      <td>1</td>\n",
       "      <td>5/3/20</td>\n",
       "      <td>20200305</td>\n",
       "      <td>South Africa</td>\n",
       "      <td>KZN</td>\n",
       "      <td>ZA-KZN</td>\n",
       "      <td>38.0</td>\n",
       "      <td>male</td>\n",
       "      <td>Travelled to Italy</td>\n",
       "      <td>travel</td>\n",
       "    </tr>\n",
       "    <tr>\n",
       "      <th>1</th>\n",
       "      <td>2</td>\n",
       "      <td>7/3/20</td>\n",
       "      <td>20200307</td>\n",
       "      <td>South Africa</td>\n",
       "      <td>GP</td>\n",
       "      <td>ZA-GP</td>\n",
       "      <td>39.0</td>\n",
       "      <td>female</td>\n",
       "      <td>Travelled to Italy</td>\n",
       "      <td>travel</td>\n",
       "    </tr>\n",
       "    <tr>\n",
       "      <th>2</th>\n",
       "      <td>3</td>\n",
       "      <td>8/3/20</td>\n",
       "      <td>20200308</td>\n",
       "      <td>South Africa</td>\n",
       "      <td>KZN</td>\n",
       "      <td>ZA-KZN</td>\n",
       "      <td>38.0</td>\n",
       "      <td>female</td>\n",
       "      <td>Travelled to Italy</td>\n",
       "      <td>travel</td>\n",
       "    </tr>\n",
       "    <tr>\n",
       "      <th>3</th>\n",
       "      <td>4</td>\n",
       "      <td>9/3/20</td>\n",
       "      <td>20200309</td>\n",
       "      <td>South Africa</td>\n",
       "      <td>KZN</td>\n",
       "      <td>ZA-KZN</td>\n",
       "      <td>38.0</td>\n",
       "      <td>male</td>\n",
       "      <td>Travelled to Italy</td>\n",
       "      <td>travel</td>\n",
       "    </tr>\n",
       "    <tr>\n",
       "      <th>4</th>\n",
       "      <td>5</td>\n",
       "      <td>9/3/20</td>\n",
       "      <td>20200309</td>\n",
       "      <td>South Africa</td>\n",
       "      <td>KZN</td>\n",
       "      <td>ZA-KZN</td>\n",
       "      <td>38.0</td>\n",
       "      <td>female</td>\n",
       "      <td>Travelled to Italy</td>\n",
       "      <td>travel</td>\n",
       "    </tr>\n",
       "  </tbody>\n",
       "</table>\n",
       "</div>"
      ],
      "text/plain": [
       "   case_id    date  YYYYMMDD       country province geo_subdivision   age  \\\n",
       "0        1  5/3/20  20200305  South Africa      KZN          ZA-KZN  38.0   \n",
       "1        2  7/3/20  20200307  South Africa       GP           ZA-GP  39.0   \n",
       "2        3  8/3/20  20200308  South Africa      KZN          ZA-KZN  38.0   \n",
       "3        4  9/3/20  20200309  South Africa      KZN          ZA-KZN  38.0   \n",
       "4        5  9/3/20  20200309  South Africa      KZN          ZA-KZN  38.0   \n",
       "\n",
       "   gender   transmission_type    type  \n",
       "0    male  Travelled to Italy  travel  \n",
       "1  female  Travelled to Italy  travel  \n",
       "2  female  Travelled to Italy  travel  \n",
       "3    male  Travelled to Italy  travel  \n",
       "4  female  Travelled to Italy  travel  "
      ]
     },
     "execution_count": 31,
     "metadata": {},
     "output_type": "execute_result"
    }
   ],
   "source": [
    "confirmed_gender.head()"
   ]
  },
  {
   "cell_type": "code",
   "execution_count": 32,
   "metadata": {},
   "outputs": [
    {
     "data": {
      "text/plain": [
       "case_id                0\n",
       "date                   0\n",
       "YYYYMMDD               0\n",
       "country                0\n",
       "province               0\n",
       "geo_subdivision        0\n",
       "age                  436\n",
       "gender                 0\n",
       "transmission_type    435\n",
       "type                   0\n",
       "dtype: int64"
      ]
     },
     "execution_count": 32,
     "metadata": {},
     "output_type": "execute_result"
    }
   ],
   "source": [
    "confirmed_gender.isnull().sum(axis = 0)"
   ]
  },
  {
   "cell_type": "code",
   "execution_count": 33,
   "metadata": {},
   "outputs": [
    {
     "data": {
      "text/plain": [
       "0               male\n",
       "1             female\n",
       "2             female\n",
       "3               male\n",
       "4             female\n",
       "           ...      \n",
       "704    not specified\n",
       "705    not specified\n",
       "706    not specified\n",
       "707    not specified\n",
       "708    not specified\n",
       "Name: gender, Length: 709, dtype: object"
      ]
     },
     "execution_count": 33,
     "metadata": {},
     "output_type": "execute_result"
    }
   ],
   "source": [
    "gender = confirmed_gender.gender\n",
    "gender"
   ]
  },
  {
   "cell_type": "code",
   "execution_count": 34,
   "metadata": {},
   "outputs": [
    {
     "data": {
      "text/html": [
       "<div>\n",
       "<style scoped>\n",
       "    .dataframe tbody tr th:only-of-type {\n",
       "        vertical-align: middle;\n",
       "    }\n",
       "\n",
       "    .dataframe tbody tr th {\n",
       "        vertical-align: top;\n",
       "    }\n",
       "\n",
       "    .dataframe thead th {\n",
       "        text-align: right;\n",
       "    }\n",
       "</style>\n",
       "<table border=\"1\" class=\"dataframe\">\n",
       "  <thead>\n",
       "    <tr style=\"text-align: right;\">\n",
       "      <th></th>\n",
       "      <th>index</th>\n",
       "      <th>gender</th>\n",
       "    </tr>\n",
       "  </thead>\n",
       "  <tbody>\n",
       "    <tr>\n",
       "      <th>0</th>\n",
       "      <td>not specified</td>\n",
       "      <td>440</td>\n",
       "    </tr>\n",
       "    <tr>\n",
       "      <th>1</th>\n",
       "      <td>male</td>\n",
       "      <td>169</td>\n",
       "    </tr>\n",
       "    <tr>\n",
       "      <th>2</th>\n",
       "      <td>female</td>\n",
       "      <td>100</td>\n",
       "    </tr>\n",
       "  </tbody>\n",
       "</table>\n",
       "</div>"
      ],
      "text/plain": [
       "           index  gender\n",
       "0  not specified     440\n",
       "1           male     169\n",
       "2         female     100"
      ]
     },
     "execution_count": 34,
     "metadata": {},
     "output_type": "execute_result"
    }
   ],
   "source": [
    "gender.value_counts().reset_index()"
   ]
  },
  {
   "cell_type": "code",
   "execution_count": 35,
   "metadata": {},
   "outputs": [
    {
     "name": "stderr",
     "output_type": "stream",
     "text": [
      "findfont: Font family ['Graphik'] not found. Falling back to DejaVu Sans.\n",
      "findfont: Font family ['Graphik'] not found. Falling back to DejaVu Sans.\n"
     ]
    },
    {
     "data": {
      "image/png": "[encoded data removed]",
      "text/plain": [
       "<Figure size 1080x576 with 1 Axes>"
      ]
     },
     "metadata": {},
     "output_type": "display_data"
    }
   ],
   "source": [
    "import matplotlib.font_manager\n",
    "from collections import Counter\n",
    "colors = ['lightgray', 'royalblue','crimson']\n",
    "confirmed_gender['gender'].value_counts().plot.pie(autopct='%1.1f%%',colors= colors,figsize=[15,8])\n",
    "plt.title('Gender In confirmed Cases')\n",
    "plt.axis('equal')\n",
    "plt.show()"
   ]
  },
  {
   "cell_type": "code",
   "execution_count": 36,
   "metadata": {},
   "outputs": [
    {
     "name": "stdout",
     "output_type": "stream",
     "text": [
      "   case_id    date  YYYYMMDD       country province geo_subdivision   age  \\\n",
      "0        1  5/3/20  20200305  South Africa      KZN          ZA-KZN  38.0   \n",
      "1        2  7/3/20  20200307  South Africa       GP           ZA-GP  39.0   \n",
      "2        3  8/3/20  20200308  South Africa      KZN          ZA-KZN  38.0   \n",
      "3        4  9/3/20  20200309  South Africa      KZN          ZA-KZN  38.0   \n",
      "4        5  9/3/20  20200309  South Africa      KZN          ZA-KZN  38.0   \n",
      "\n",
      "   gender   transmission_type    type  \n",
      "0    male  Travelled to Italy  travel  \n",
      "1  female  Travelled to Italy  travel  \n",
      "2  female  Travelled to Italy  travel  \n",
      "3    male  Travelled to Italy  travel  \n",
      "4  female  Travelled to Italy  travel  \n"
     ]
    }
   ],
   "source": [
    "def load_timeseries(name):\n",
    "    #base_url='https://github.com/dsfsi/covid19za/blob/master/data'\n",
    "    #url = f'{base_url}/covid19za_timeline_{name}.csv'\n",
    "    #csv = requests.get(url).text\n",
    "    #print(csv)\n",
    "    df = pd.read_csv(name)\n",
    "    print(df.head())\n",
    "    df = (df.set_index('date'))\n",
    "    df.index = pd.to_datetime(df.index,dayfirst=True)\n",
    "    \n",
    "    return df\n",
    "\n",
    "dff = load_timeseries('covid19za_timeline_confirmed.csv')\n"
   ]
  },
  {
   "cell_type": "code",
   "execution_count": 37,
   "metadata": {},
   "outputs": [
    {
     "data": {
      "text/html": [
       "<div>\n",
       "<style scoped>\n",
       "    .dataframe tbody tr th:only-of-type {\n",
       "        vertical-align: middle;\n",
       "    }\n",
       "\n",
       "    .dataframe tbody tr th {\n",
       "        vertical-align: top;\n",
       "    }\n",
       "\n",
       "    .dataframe thead th {\n",
       "        text-align: right;\n",
       "    }\n",
       "</style>\n",
       "<table border=\"1\" class=\"dataframe\">\n",
       "  <thead>\n",
       "    <tr style=\"text-align: right;\">\n",
       "      <th></th>\n",
       "      <th>case_id</th>\n",
       "      <th>YYYYMMDD</th>\n",
       "      <th>country</th>\n",
       "      <th>province</th>\n",
       "      <th>geo_subdivision</th>\n",
       "      <th>age</th>\n",
       "      <th>gender</th>\n",
       "      <th>transmission_type</th>\n",
       "      <th>type</th>\n",
       "    </tr>\n",
       "    <tr>\n",
       "      <th>date</th>\n",
       "      <th></th>\n",
       "      <th></th>\n",
       "      <th></th>\n",
       "      <th></th>\n",
       "      <th></th>\n",
       "      <th></th>\n",
       "      <th></th>\n",
       "      <th></th>\n",
       "      <th></th>\n",
       "    </tr>\n",
       "  </thead>\n",
       "  <tbody>\n",
       "    <tr>\n",
       "      <th>2020-03-05</th>\n",
       "      <td>1</td>\n",
       "      <td>20200305</td>\n",
       "      <td>South Africa</td>\n",
       "      <td>KZN</td>\n",
       "      <td>ZA-KZN</td>\n",
       "      <td>38.0</td>\n",
       "      <td>male</td>\n",
       "      <td>Travelled to Italy</td>\n",
       "      <td>travel</td>\n",
       "    </tr>\n",
       "    <tr>\n",
       "      <th>2020-03-07</th>\n",
       "      <td>2</td>\n",
       "      <td>20200307</td>\n",
       "      <td>South Africa</td>\n",
       "      <td>GP</td>\n",
       "      <td>ZA-GP</td>\n",
       "      <td>39.0</td>\n",
       "      <td>female</td>\n",
       "      <td>Travelled to Italy</td>\n",
       "      <td>travel</td>\n",
       "    </tr>\n",
       "    <tr>\n",
       "      <th>2020-03-08</th>\n",
       "      <td>3</td>\n",
       "      <td>20200308</td>\n",
       "      <td>South Africa</td>\n",
       "      <td>KZN</td>\n",
       "      <td>ZA-KZN</td>\n",
       "      <td>38.0</td>\n",
       "      <td>female</td>\n",
       "      <td>Travelled to Italy</td>\n",
       "      <td>travel</td>\n",
       "    </tr>\n",
       "    <tr>\n",
       "      <th>2020-03-09</th>\n",
       "      <td>4</td>\n",
       "      <td>20200309</td>\n",
       "      <td>South Africa</td>\n",
       "      <td>KZN</td>\n",
       "      <td>ZA-KZN</td>\n",
       "      <td>38.0</td>\n",
       "      <td>male</td>\n",
       "      <td>Travelled to Italy</td>\n",
       "      <td>travel</td>\n",
       "    </tr>\n",
       "    <tr>\n",
       "      <th>2020-03-09</th>\n",
       "      <td>5</td>\n",
       "      <td>20200309</td>\n",
       "      <td>South Africa</td>\n",
       "      <td>KZN</td>\n",
       "      <td>ZA-KZN</td>\n",
       "      <td>38.0</td>\n",
       "      <td>female</td>\n",
       "      <td>Travelled to Italy</td>\n",
       "      <td>travel</td>\n",
       "    </tr>\n",
       "  </tbody>\n",
       "</table>\n",
       "</div>"
      ],
      "text/plain": [
       "            case_id  YYYYMMDD       country province geo_subdivision   age  \\\n",
       "date                                                                         \n",
       "2020-03-05        1  20200305  South Africa      KZN          ZA-KZN  38.0   \n",
       "2020-03-07        2  20200307  South Africa       GP           ZA-GP  39.0   \n",
       "2020-03-08        3  20200308  South Africa      KZN          ZA-KZN  38.0   \n",
       "2020-03-09        4  20200309  South Africa      KZN          ZA-KZN  38.0   \n",
       "2020-03-09        5  20200309  South Africa      KZN          ZA-KZN  38.0   \n",
       "\n",
       "            gender   transmission_type    type  \n",
       "date                                            \n",
       "2020-03-05    male  Travelled to Italy  travel  \n",
       "2020-03-07  female  Travelled to Italy  travel  \n",
       "2020-03-08  female  Travelled to Italy  travel  \n",
       "2020-03-09    male  Travelled to Italy  travel  \n",
       "2020-03-09  female  Travelled to Italy  travel  "
      ]
     },
     "execution_count": 37,
     "metadata": {},
     "output_type": "execute_result"
    }
   ],
   "source": [
    "dff.head()"
   ]
  },
  {
   "cell_type": "code",
   "execution_count": 38,
   "metadata": {},
   "outputs": [],
   "source": [
    "def plot_confirmed(provinces, min_cases=100, ls='-'):\n",
    "    for province in provinces:\n",
    "        \n",
    "        df1 = dff.loc[(dff.province == province)].groupby(['date']).agg({'country': ['count']})\n",
    "        df1.columns = ['new cases']\n",
    "        df1['cummulative'] = df1['new cases'].cumsum()\n",
    "        (df1.reset_index()['cummulative']\n",
    "            .plot(label=province, ls=ls))\n",
    "        print('\\n' + province +\":\")\n",
    "        print(df1)"
   ]
  },
  {
   "cell_type": "code",
   "execution_count": 39,
   "metadata": {},
   "outputs": [],
   "source": [
    "c=pd.read_csv('covid19za_timeline_confirmed.csv')"
   ]
  },
  {
   "cell_type": "code",
   "execution_count": 40,
   "metadata": {},
   "outputs": [],
   "source": [
    "#c.head()\n",
    "#c.isnull().sum(axis = 0)\n"
   ]
  },
  {
   "cell_type": "code",
   "execution_count": 41,
   "metadata": {},
   "outputs": [],
   "source": [
    "from sklearn import preprocessing\n",
    "\n",
    "gender=preprocessing.LabelEncoder()\n",
    "gender.fit(c['gender'])\n",
    "c['newGender'] = gender.transform(c['gender'])"
   ]
  },
  {
   "cell_type": "code",
   "execution_count": 42,
   "metadata": {},
   "outputs": [
    {
     "data": {
      "text/html": [
       "<div>\n",
       "<style scoped>\n",
       "    .dataframe tbody tr th:only-of-type {\n",
       "        vertical-align: middle;\n",
       "    }\n",
       "\n",
       "    .dataframe tbody tr th {\n",
       "        vertical-align: top;\n",
       "    }\n",
       "\n",
       "    .dataframe thead th {\n",
       "        text-align: right;\n",
       "    }\n",
       "</style>\n",
       "<table border=\"1\" class=\"dataframe\">\n",
       "  <thead>\n",
       "    <tr style=\"text-align: right;\">\n",
       "      <th></th>\n",
       "      <th>case_id</th>\n",
       "      <th>date</th>\n",
       "      <th>YYYYMMDD</th>\n",
       "      <th>country</th>\n",
       "      <th>province</th>\n",
       "      <th>geo_subdivision</th>\n",
       "      <th>age</th>\n",
       "      <th>gender</th>\n",
       "      <th>transmission_type</th>\n",
       "      <th>type</th>\n",
       "      <th>newGender</th>\n",
       "    </tr>\n",
       "  </thead>\n",
       "  <tbody>\n",
       "    <tr>\n",
       "      <th>0</th>\n",
       "      <td>1</td>\n",
       "      <td>5/3/20</td>\n",
       "      <td>20200305</td>\n",
       "      <td>South Africa</td>\n",
       "      <td>KZN</td>\n",
       "      <td>ZA-KZN</td>\n",
       "      <td>38.0</td>\n",
       "      <td>male</td>\n",
       "      <td>Travelled to Italy</td>\n",
       "      <td>travel</td>\n",
       "      <td>1</td>\n",
       "    </tr>\n",
       "    <tr>\n",
       "      <th>1</th>\n",
       "      <td>2</td>\n",
       "      <td>7/3/20</td>\n",
       "      <td>20200307</td>\n",
       "      <td>South Africa</td>\n",
       "      <td>GP</td>\n",
       "      <td>ZA-GP</td>\n",
       "      <td>39.0</td>\n",
       "      <td>female</td>\n",
       "      <td>Travelled to Italy</td>\n",
       "      <td>travel</td>\n",
       "      <td>0</td>\n",
       "    </tr>\n",
       "    <tr>\n",
       "      <th>2</th>\n",
       "      <td>3</td>\n",
       "      <td>8/3/20</td>\n",
       "      <td>20200308</td>\n",
       "      <td>South Africa</td>\n",
       "      <td>KZN</td>\n",
       "      <td>ZA-KZN</td>\n",
       "      <td>38.0</td>\n",
       "      <td>female</td>\n",
       "      <td>Travelled to Italy</td>\n",
       "      <td>travel</td>\n",
       "      <td>0</td>\n",
       "    </tr>\n",
       "    <tr>\n",
       "      <th>3</th>\n",
       "      <td>4</td>\n",
       "      <td>9/3/20</td>\n",
       "      <td>20200309</td>\n",
       "      <td>South Africa</td>\n",
       "      <td>KZN</td>\n",
       "      <td>ZA-KZN</td>\n",
       "      <td>38.0</td>\n",
       "      <td>male</td>\n",
       "      <td>Travelled to Italy</td>\n",
       "      <td>travel</td>\n",
       "      <td>1</td>\n",
       "    </tr>\n",
       "    <tr>\n",
       "      <th>4</th>\n",
       "      <td>5</td>\n",
       "      <td>9/3/20</td>\n",
       "      <td>20200309</td>\n",
       "      <td>South Africa</td>\n",
       "      <td>KZN</td>\n",
       "      <td>ZA-KZN</td>\n",
       "      <td>38.0</td>\n",
       "      <td>female</td>\n",
       "      <td>Travelled to Italy</td>\n",
       "      <td>travel</td>\n",
       "      <td>0</td>\n",
       "    </tr>\n",
       "  </tbody>\n",
       "</table>\n",
       "</div>"
      ],
      "text/plain": [
       "   case_id    date  YYYYMMDD       country province geo_subdivision   age  \\\n",
       "0        1  5/3/20  20200305  South Africa      KZN          ZA-KZN  38.0   \n",
       "1        2  7/3/20  20200307  South Africa       GP           ZA-GP  39.0   \n",
       "2        3  8/3/20  20200308  South Africa      KZN          ZA-KZN  38.0   \n",
       "3        4  9/3/20  20200309  South Africa      KZN          ZA-KZN  38.0   \n",
       "4        5  9/3/20  20200309  South Africa      KZN          ZA-KZN  38.0   \n",
       "\n",
       "   gender   transmission_type    type  newGender  \n",
       "0    male  Travelled to Italy  travel          1  \n",
       "1  female  Travelled to Italy  travel          0  \n",
       "2  female  Travelled to Italy  travel          0  \n",
       "3    male  Travelled to Italy  travel          1  \n",
       "4  female  Travelled to Italy  travel          0  "
      ]
     },
     "execution_count": 42,
     "metadata": {},
     "output_type": "execute_result"
    }
   ],
   "source": [
    "c.head()"
   ]
  },
  {
   "cell_type": "code",
   "execution_count": 43,
   "metadata": {},
   "outputs": [
    {
     "data": {
      "text/html": [
       "<style  type=\"text/css\" >\n",
       "    #T_8785e0ae_3bfd_11ec_925b_357a79d0ed73row0_col0 {\n",
       "            background-color:  #b40426;\n",
       "            color:  #f1f1f1;\n",
       "        }    #T_8785e0ae_3bfd_11ec_925b_357a79d0ed73row0_col1 {\n",
       "            background-color:  #dc5d4a;\n",
       "            color:  #000000;\n",
       "        }    #T_8785e0ae_3bfd_11ec_925b_357a79d0ed73row0_col2 {\n",
       "            background-color:  #4055c8;\n",
       "            color:  #f1f1f1;\n",
       "        }    #T_8785e0ae_3bfd_11ec_925b_357a79d0ed73row0_col3 {\n",
       "            background-color:  #f59c7d;\n",
       "            color:  #000000;\n",
       "        }    #T_8785e0ae_3bfd_11ec_925b_357a79d0ed73row1_col0 {\n",
       "            background-color:  #dd5f4b;\n",
       "            color:  #000000;\n",
       "        }    #T_8785e0ae_3bfd_11ec_925b_357a79d0ed73row1_col1 {\n",
       "            background-color:  #b40426;\n",
       "            color:  #f1f1f1;\n",
       "        }    #T_8785e0ae_3bfd_11ec_925b_357a79d0ed73row1_col2 {\n",
       "            background-color:  #3b4cc0;\n",
       "            color:  #f1f1f1;\n",
       "        }    #T_8785e0ae_3bfd_11ec_925b_357a79d0ed73row1_col3 {\n",
       "            background-color:  #f7ac8e;\n",
       "            color:  #000000;\n",
       "        }    #T_8785e0ae_3bfd_11ec_925b_357a79d0ed73row2_col0 {\n",
       "            background-color:  #3b4cc0;\n",
       "            color:  #f1f1f1;\n",
       "        }    #T_8785e0ae_3bfd_11ec_925b_357a79d0ed73row2_col1 {\n",
       "            background-color:  #3b4cc0;\n",
       "            color:  #f1f1f1;\n",
       "        }    #T_8785e0ae_3bfd_11ec_925b_357a79d0ed73row2_col2 {\n",
       "            background-color:  #b40426;\n",
       "            color:  #f1f1f1;\n",
       "        }    #T_8785e0ae_3bfd_11ec_925b_357a79d0ed73row2_col3 {\n",
       "            background-color:  #3b4cc0;\n",
       "            color:  #f1f1f1;\n",
       "        }    #T_8785e0ae_3bfd_11ec_925b_357a79d0ed73row3_col0 {\n",
       "            background-color:  #f59c7d;\n",
       "            color:  #000000;\n",
       "        }    #T_8785e0ae_3bfd_11ec_925b_357a79d0ed73row3_col1 {\n",
       "            background-color:  #f7a98b;\n",
       "            color:  #000000;\n",
       "        }    #T_8785e0ae_3bfd_11ec_925b_357a79d0ed73row3_col2 {\n",
       "            background-color:  #4055c8;\n",
       "            color:  #f1f1f1;\n",
       "        }    #T_8785e0ae_3bfd_11ec_925b_357a79d0ed73row3_col3 {\n",
       "            background-color:  #b40426;\n",
       "            color:  #f1f1f1;\n",
       "        }</style><table id=\"T_8785e0ae_3bfd_11ec_925b_357a79d0ed73\" ><thead>    <tr>        <th class=\"blank level0\" ></th>        <th class=\"col_heading level0 col0\" >case_id</th>        <th class=\"col_heading level0 col1\" >YYYYMMDD</th>        <th class=\"col_heading level0 col2\" >age</th>        <th class=\"col_heading level0 col3\" >newGender</th>    </tr></thead><tbody>\n",
       "                <tr>\n",
       "                        <th id=\"T_8785e0ae_3bfd_11ec_925b_357a79d0ed73level0_row0\" class=\"row_heading level0 row0\" >case_id</th>\n",
       "                        <td id=\"T_8785e0ae_3bfd_11ec_925b_357a79d0ed73row0_col0\" class=\"data row0 col0\" >1.000000</td>\n",
       "                        <td id=\"T_8785e0ae_3bfd_11ec_925b_357a79d0ed73row0_col1\" class=\"data row0 col1\" >0.883711</td>\n",
       "                        <td id=\"T_8785e0ae_3bfd_11ec_925b_357a79d0ed73row0_col2\" class=\"data row0 col2\" >0.049141</td>\n",
       "                        <td id=\"T_8785e0ae_3bfd_11ec_925b_357a79d0ed73row0_col3\" class=\"data row0 col3\" >0.756980</td>\n",
       "            </tr>\n",
       "            <tr>\n",
       "                        <th id=\"T_8785e0ae_3bfd_11ec_925b_357a79d0ed73level0_row1\" class=\"row_heading level0 row1\" >YYYYMMDD</th>\n",
       "                        <td id=\"T_8785e0ae_3bfd_11ec_925b_357a79d0ed73row1_col0\" class=\"data row1 col0\" >0.883711</td>\n",
       "                        <td id=\"T_8785e0ae_3bfd_11ec_925b_357a79d0ed73row1_col1\" class=\"data row1 col1\" >1.000000</td>\n",
       "                        <td id=\"T_8785e0ae_3bfd_11ec_925b_357a79d0ed73row1_col2\" class=\"data row1 col2\" >0.028992</td>\n",
       "                        <td id=\"T_8785e0ae_3bfd_11ec_925b_357a79d0ed73row1_col3\" class=\"data row1 col3\" >0.716001</td>\n",
       "            </tr>\n",
       "            <tr>\n",
       "                        <th id=\"T_8785e0ae_3bfd_11ec_925b_357a79d0ed73level0_row2\" class=\"row_heading level0 row2\" >age</th>\n",
       "                        <td id=\"T_8785e0ae_3bfd_11ec_925b_357a79d0ed73row2_col0\" class=\"data row2 col0\" >0.049141</td>\n",
       "                        <td id=\"T_8785e0ae_3bfd_11ec_925b_357a79d0ed73row2_col1\" class=\"data row2 col1\" >0.028992</td>\n",
       "                        <td id=\"T_8785e0ae_3bfd_11ec_925b_357a79d0ed73row2_col2\" class=\"data row2 col2\" >1.000000</td>\n",
       "                        <td id=\"T_8785e0ae_3bfd_11ec_925b_357a79d0ed73row2_col3\" class=\"data row2 col3\" >0.050268</td>\n",
       "            </tr>\n",
       "            <tr>\n",
       "                        <th id=\"T_8785e0ae_3bfd_11ec_925b_357a79d0ed73level0_row3\" class=\"row_heading level0 row3\" >newGender</th>\n",
       "                        <td id=\"T_8785e0ae_3bfd_11ec_925b_357a79d0ed73row3_col0\" class=\"data row3 col0\" >0.756980</td>\n",
       "                        <td id=\"T_8785e0ae_3bfd_11ec_925b_357a79d0ed73row3_col1\" class=\"data row3 col1\" >0.716001</td>\n",
       "                        <td id=\"T_8785e0ae_3bfd_11ec_925b_357a79d0ed73row3_col2\" class=\"data row3 col2\" >0.050268</td>\n",
       "                        <td id=\"T_8785e0ae_3bfd_11ec_925b_357a79d0ed73row3_col3\" class=\"data row3 col3\" >1.000000</td>\n",
       "            </tr>\n",
       "    </tbody></table>"
      ],
      "text/plain": [
       "<pandas.io.formats.style.Styler at 0x7f4529ea0e10>"
      ]
     },
     "execution_count": 43,
     "metadata": {},
     "output_type": "execute_result"
    }
   ],
   "source": [
    "corl = c.corr()\n",
    "corl.style.background_gradient(cmap='coolwarm')\n",
    "\n"
   ]
  },
  {
   "cell_type": "code",
   "execution_count": 44,
   "metadata": {},
   "outputs": [
    {
     "data": {
      "text/plain": [
       "<AxesSubplot:>"
      ]
     },
     "execution_count": 44,
     "metadata": {},
     "output_type": "execute_result"
    },
    {
     "data": {
      "image/png": "[encoded data removed]",
      "text/plain": [
       "<Figure size 2160x1440 with 1 Axes>"
      ]
     },
     "metadata": {
      "needs_background": "light"
     },
     "output_type": "display_data"
    }
   ],
   "source": [
    "colors = ['lightgray', 'royalblue']\n",
    "pd.concat([death['EC'].rolling(12).mean(), confirmed2['EC'].rolling (12) .mean()], axis=1).plot(figsize=(30,20))\n"
   ]
  },
  {
   "cell_type": "code",
   "execution_count": 45,
   "metadata": {},
   "outputs": [
    {
     "data": {
      "text/html": [
       "<div>\n",
       "<style scoped>\n",
       "    .dataframe tbody tr th:only-of-type {\n",
       "        vertical-align: middle;\n",
       "    }\n",
       "\n",
       "    .dataframe tbody tr th {\n",
       "        vertical-align: top;\n",
       "    }\n",
       "\n",
       "    .dataframe thead th {\n",
       "        text-align: right;\n",
       "    }\n",
       "</style>\n",
       "<table border=\"1\" class=\"dataframe\">\n",
       "  <thead>\n",
       "    <tr style=\"text-align: right;\">\n",
       "      <th></th>\n",
       "      <th>date</th>\n",
       "      <th>YYYYMMDD</th>\n",
       "      <th>EC</th>\n",
       "      <th>FS</th>\n",
       "      <th>GP</th>\n",
       "      <th>KZN</th>\n",
       "      <th>LP</th>\n",
       "      <th>MP</th>\n",
       "      <th>NC</th>\n",
       "      <th>NW</th>\n",
       "      <th>WC</th>\n",
       "      <th>UNKNOWN</th>\n",
       "      <th>total</th>\n",
       "    </tr>\n",
       "  </thead>\n",
       "  <tbody>\n",
       "    <tr>\n",
       "      <th>0</th>\n",
       "      <td>27-03-2020</td>\n",
       "      <td>20200327</td>\n",
       "      <td>0</td>\n",
       "      <td>0</td>\n",
       "      <td>0</td>\n",
       "      <td>0</td>\n",
       "      <td>0</td>\n",
       "      <td>0</td>\n",
       "      <td>0</td>\n",
       "      <td>0</td>\n",
       "      <td>1</td>\n",
       "      <td>0</td>\n",
       "      <td>1</td>\n",
       "    </tr>\n",
       "    <tr>\n",
       "      <th>1</th>\n",
       "      <td>28-03-2020</td>\n",
       "      <td>20200328</td>\n",
       "      <td>0</td>\n",
       "      <td>0</td>\n",
       "      <td>0</td>\n",
       "      <td>1</td>\n",
       "      <td>0</td>\n",
       "      <td>0</td>\n",
       "      <td>0</td>\n",
       "      <td>0</td>\n",
       "      <td>1</td>\n",
       "      <td>0</td>\n",
       "      <td>2</td>\n",
       "    </tr>\n",
       "    <tr>\n",
       "      <th>2</th>\n",
       "      <td>30-03-2020</td>\n",
       "      <td>20200330</td>\n",
       "      <td>0</td>\n",
       "      <td>1</td>\n",
       "      <td>0</td>\n",
       "      <td>1</td>\n",
       "      <td>0</td>\n",
       "      <td>0</td>\n",
       "      <td>0</td>\n",
       "      <td>0</td>\n",
       "      <td>1</td>\n",
       "      <td>0</td>\n",
       "      <td>3</td>\n",
       "    </tr>\n",
       "    <tr>\n",
       "      <th>3</th>\n",
       "      <td>31-03-2020</td>\n",
       "      <td>20200331</td>\n",
       "      <td>0</td>\n",
       "      <td>1</td>\n",
       "      <td>1</td>\n",
       "      <td>2</td>\n",
       "      <td>0</td>\n",
       "      <td>0</td>\n",
       "      <td>0</td>\n",
       "      <td>0</td>\n",
       "      <td>1</td>\n",
       "      <td>0</td>\n",
       "      <td>5</td>\n",
       "    </tr>\n",
       "    <tr>\n",
       "      <th>4</th>\n",
       "      <td>03-04-2020</td>\n",
       "      <td>20200403</td>\n",
       "      <td>0</td>\n",
       "      <td>1</td>\n",
       "      <td>1</td>\n",
       "      <td>6</td>\n",
       "      <td>0</td>\n",
       "      <td>0</td>\n",
       "      <td>0</td>\n",
       "      <td>0</td>\n",
       "      <td>1</td>\n",
       "      <td>0</td>\n",
       "      <td>9</td>\n",
       "    </tr>\n",
       "  </tbody>\n",
       "</table>\n",
       "</div>"
      ],
      "text/plain": [
       "         date  YYYYMMDD  EC  FS  GP  KZN  LP  MP  NC  NW  WC  UNKNOWN  total\n",
       "0  27-03-2020  20200327   0   0   0    0   0   0   0   0   1        0      1\n",
       "1  28-03-2020  20200328   0   0   0    1   0   0   0   0   1        0      2\n",
       "2  30-03-2020  20200330   0   1   0    1   0   0   0   0   1        0      3\n",
       "3  31-03-2020  20200331   0   1   1    2   0   0   0   0   1        0      5\n",
       "4  03-04-2020  20200403   0   1   1    6   0   0   0   0   1        0      9"
      ]
     },
     "execution_count": 45,
     "metadata": {},
     "output_type": "execute_result"
    }
   ],
   "source": [
    "death.head()"
   ]
  },
  {
   "cell_type": "code",
   "execution_count": 46,
   "metadata": {},
   "outputs": [
    {
     "data": {
      "text/html": [
       "<div>\n",
       "<style scoped>\n",
       "    .dataframe tbody tr th:only-of-type {\n",
       "        vertical-align: middle;\n",
       "    }\n",
       "\n",
       "    .dataframe tbody tr th {\n",
       "        vertical-align: top;\n",
       "    }\n",
       "\n",
       "    .dataframe thead th {\n",
       "        text-align: right;\n",
       "    }\n",
       "</style>\n",
       "<table border=\"1\" class=\"dataframe\">\n",
       "  <thead>\n",
       "    <tr style=\"text-align: right;\">\n",
       "      <th></th>\n",
       "      <th>date</th>\n",
       "      <th>YYYYMMDD</th>\n",
       "      <th>EC</th>\n",
       "      <th>FS</th>\n",
       "      <th>GP</th>\n",
       "      <th>KZN</th>\n",
       "      <th>LP</th>\n",
       "      <th>MP</th>\n",
       "      <th>NC</th>\n",
       "      <th>NW</th>\n",
       "      <th>WC</th>\n",
       "      <th>UNKNOWN</th>\n",
       "      <th>total</th>\n",
       "    </tr>\n",
       "  </thead>\n",
       "  <tbody>\n",
       "    <tr>\n",
       "      <th>542</th>\n",
       "      <td>24-09-2021</td>\n",
       "      <td>20210924</td>\n",
       "      <td>14724</td>\n",
       "      <td>6630</td>\n",
       "      <td>19302</td>\n",
       "      <td>14505</td>\n",
       "      <td>3949</td>\n",
       "      <td>1957</td>\n",
       "      <td>2168</td>\n",
       "      <td>4085</td>\n",
       "      <td>19647</td>\n",
       "      <td>0</td>\n",
       "      <td>86967</td>\n",
       "    </tr>\n",
       "    <tr>\n",
       "      <th>543</th>\n",
       "      <td>25-09-2021</td>\n",
       "      <td>20210925</td>\n",
       "      <td>14733</td>\n",
       "      <td>6630</td>\n",
       "      <td>19302</td>\n",
       "      <td>14507</td>\n",
       "      <td>3949</td>\n",
       "      <td>1959</td>\n",
       "      <td>2170</td>\n",
       "      <td>4085</td>\n",
       "      <td>19666</td>\n",
       "      <td>0</td>\n",
       "      <td>87001</td>\n",
       "    </tr>\n",
       "    <tr>\n",
       "      <th>544</th>\n",
       "      <td>26-09-2021</td>\n",
       "      <td>20210926</td>\n",
       "      <td>14741</td>\n",
       "      <td>6657</td>\n",
       "      <td>19306</td>\n",
       "      <td>14512</td>\n",
       "      <td>3949</td>\n",
       "      <td>1959</td>\n",
       "      <td>2170</td>\n",
       "      <td>4085</td>\n",
       "      <td>19673</td>\n",
       "      <td>0</td>\n",
       "      <td>87052</td>\n",
       "    </tr>\n",
       "    <tr>\n",
       "      <th>545</th>\n",
       "      <td>27-09-2021</td>\n",
       "      <td>20210927</td>\n",
       "      <td>14765</td>\n",
       "      <td>6677</td>\n",
       "      <td>19340</td>\n",
       "      <td>14517</td>\n",
       "      <td>4004</td>\n",
       "      <td>1963</td>\n",
       "      <td>2176</td>\n",
       "      <td>4085</td>\n",
       "      <td>19689</td>\n",
       "      <td>0</td>\n",
       "      <td>87216</td>\n",
       "    </tr>\n",
       "    <tr>\n",
       "      <th>546</th>\n",
       "      <td>28-09-2021</td>\n",
       "      <td>20210928</td>\n",
       "      <td>14797</td>\n",
       "      <td>6688</td>\n",
       "      <td>19365</td>\n",
       "      <td>14551</td>\n",
       "      <td>4004</td>\n",
       "      <td>1966</td>\n",
       "      <td>2182</td>\n",
       "      <td>4144</td>\n",
       "      <td>19720</td>\n",
       "      <td>0</td>\n",
       "      <td>87417</td>\n",
       "    </tr>\n",
       "  </tbody>\n",
       "</table>\n",
       "</div>"
      ],
      "text/plain": [
       "           date  YYYYMMDD     EC    FS     GP    KZN    LP    MP    NC    NW  \\\n",
       "542  24-09-2021  20210924  14724  6630  19302  14505  3949  1957  2168  4085   \n",
       "543  25-09-2021  20210925  14733  6630  19302  14507  3949  1959  2170  4085   \n",
       "544  26-09-2021  20210926  14741  6657  19306  14512  3949  1959  2170  4085   \n",
       "545  27-09-2021  20210927  14765  6677  19340  14517  4004  1963  2176  4085   \n",
       "546  28-09-2021  20210928  14797  6688  19365  14551  4004  1966  2182  4144   \n",
       "\n",
       "        WC  UNKNOWN  total  \n",
       "542  19647        0  86967  \n",
       "543  19666        0  87001  \n",
       "544  19673        0  87052  \n",
       "545  19689        0  87216  \n",
       "546  19720        0  87417  "
      ]
     },
     "execution_count": 46,
     "metadata": {},
     "output_type": "execute_result"
    }
   ],
   "source": [
    "death.tail()"
   ]
  },
  {
   "cell_type": "markdown",
   "metadata": {},
   "source": [
    "# Predicting The deaths cases by state:"
   ]
  },
  {
   "cell_type": "code",
   "execution_count": 47,
   "metadata": {},
   "outputs": [
    {
     "data": {
      "text/plain": [
       "0.9150859394153104"
      ]
     },
     "execution_count": 47,
     "metadata": {},
     "output_type": "execute_result"
    }
   ],
   "source": [
    "X=death['YYYYMMDD'].values.reshape(-1, 1)\n",
    "y=death['EC'].values.reshape(-1, 1)\n",
    "from sklearn.linear_model import LinearRegression\n",
    "model= LinearRegression()\n",
    "model.fit(X=death['YYYYMMDD'].values.reshape(-1, 1),y=death['EC'].values.reshape(-1, 1))\n",
    "model.score(X,y)"
   ]
  },
  {
   "cell_type": "code",
   "execution_count": 48,
   "metadata": {},
   "outputs": [
    {
     "data": {
      "text/plain": [
       "array([[12383.08495767]])"
      ]
     },
     "execution_count": 48,
     "metadata": {},
     "output_type": "execute_result"
    }
   ],
   "source": [
    "model.predict([[20211019]])"
   ]
  },
  {
   "cell_type": "markdown",
   "metadata": {},
   "source": [
    "# Predicting deaths in the state (FS)"
   ]
  },
  {
   "cell_type": "code",
   "execution_count": 49,
   "metadata": {},
   "outputs": [
    {
     "data": {
      "text/plain": [
       "0.7862800665537859"
      ]
     },
     "execution_count": 49,
     "metadata": {},
     "output_type": "execute_result"
    }
   ],
   "source": [
    "X=death['YYYYMMDD'].values.reshape(-1, 1)\n",
    "y=death['FS'].values.reshape(-1, 1)\n",
    "from sklearn.linear_model import LinearRegression\n",
    "model= LinearRegression()\n",
    "model.fit(X=death['YYYYMMDD'].values.reshape(-1, 1),y=death['FS'].values.reshape(-1, 1))\n",
    "model.score(X,y)"
   ]
  },
  {
   "cell_type": "code",
   "execution_count": 50,
   "metadata": {},
   "outputs": [
    {
     "data": {
      "text/plain": [
       "array([[4612.78539461]])"
      ]
     },
     "execution_count": 50,
     "metadata": {},
     "output_type": "execute_result"
    }
   ],
   "source": [
    "model.predict([[20211019]])"
   ]
  },
  {
   "cell_type": "markdown",
   "metadata": {},
   "source": [
    "# "
   ]
  },
  {
   "cell_type": "markdown",
   "metadata": {},
   "source": [
    "\n",
    "\n",
    "# Predicting deaths in the state (GP)"
   ]
  },
  {
   "cell_type": "code",
   "execution_count": 51,
   "metadata": {},
   "outputs": [
    {
     "data": {
      "text/plain": [
       "0.7532577532693269"
      ]
     },
     "execution_count": 51,
     "metadata": {},
     "output_type": "execute_result"
    }
   ],
   "source": [
    "X=death['YYYYMMDD'].values.reshape(-1, 1)\n",
    "y=death['GP'].values.reshape(-1, 1)\n",
    "from sklearn.linear_model import LinearRegression\n",
    "model_GP_death= LinearRegression()\n",
    "model_GP_death.fit(X=death['YYYYMMDD'].values.reshape(-1, 1),y=death['GP'].values.reshape(-1, 1))\n",
    "model_GP_death.score(X,y)"
   ]
  },
  {
   "cell_type": "code",
   "execution_count": 52,
   "metadata": {},
   "outputs": [
    {
     "data": {
      "text/plain": [
       "array([[13030.23554728]])"
      ]
     },
     "execution_count": 52,
     "metadata": {},
     "output_type": "execute_result"
    }
   ],
   "source": [
    "model_GP_death.predict([[20211019]])"
   ]
  },
  {
   "cell_type": "markdown",
   "metadata": {},
   "source": [
    "# "
   ]
  },
  {
   "cell_type": "markdown",
   "metadata": {},
   "source": [
    "# Predicting deaths in the state (KZN)"
   ]
  },
  {
   "cell_type": "code",
   "execution_count": 53,
   "metadata": {},
   "outputs": [
    {
     "data": {
      "text/plain": [
       "0.891518119343215"
      ]
     },
     "execution_count": 53,
     "metadata": {},
     "output_type": "execute_result"
    }
   ],
   "source": [
    "X=death['YYYYMMDD'].values.reshape(-1, 1)\n",
    "y=death['KZN'].values.reshape(-1, 1)\n",
    "from sklearn.linear_model import LinearRegression\n",
    "model_KZN_death= LinearRegression()\n",
    "model_KZN_death.fit(X=death['YYYYMMDD'].values.reshape(-1, 1),y=death['KZN'].values.reshape(-1, 1))\n",
    "model_KZN_death.score(X,y)"
   ]
  },
  {
   "cell_type": "code",
   "execution_count": 54,
   "metadata": {},
   "outputs": [
    {
     "data": {
      "text/plain": [
       "array([[11026.9077299]])"
      ]
     },
     "execution_count": 54,
     "metadata": {},
     "output_type": "execute_result"
    }
   ],
   "source": [
    "model_KZN_death.predict([[20211019]])"
   ]
  },
  {
   "cell_type": "markdown",
   "metadata": {},
   "source": [
    "# "
   ]
  },
  {
   "cell_type": "markdown",
   "metadata": {},
   "source": [
    "# Predicting deaths in the state (LP)"
   ]
  },
  {
   "cell_type": "code",
   "execution_count": 55,
   "metadata": {},
   "outputs": [
    {
     "data": {
      "text/plain": [
       "0.7814682068197261"
      ]
     },
     "execution_count": 55,
     "metadata": {},
     "output_type": "execute_result"
    }
   ],
   "source": [
    "X=death['YYYYMMDD'].values.reshape(-1, 1)\n",
    "y=death['LP'].values.reshape(-1, 1)\n",
    "from sklearn.linear_model import LinearRegression\n",
    "model= LinearRegression()\n",
    "model.fit(X=death['YYYYMMDD'].values.reshape(-1, 1),y=death['LP'].values.reshape(-1, 1))\n",
    "model.score(X,y)"
   ]
  },
  {
   "cell_type": "code",
   "execution_count": 56,
   "metadata": {},
   "outputs": [
    {
     "data": {
      "text/plain": [
       "array([[2605.90866336]])"
      ]
     },
     "execution_count": 56,
     "metadata": {},
     "output_type": "execute_result"
    }
   ],
   "source": [
    "model.predict([[20211020]])"
   ]
  },
  {
   "cell_type": "markdown",
   "metadata": {},
   "source": [
    "# "
   ]
  },
  {
   "cell_type": "markdown",
   "metadata": {},
   "source": [
    "# Predicting deaths in the state (MP)"
   ]
  },
  {
   "cell_type": "code",
   "execution_count": 57,
   "metadata": {},
   "outputs": [
    {
     "data": {
      "text/plain": [
       "0.8258757791135342"
      ]
     },
     "execution_count": 57,
     "metadata": {},
     "output_type": "execute_result"
    }
   ],
   "source": [
    "X=death['YYYYMMDD'].values.reshape(-1, 1)\n",
    "y=death['MP'].values.reshape(-1, 1)\n",
    "from sklearn.linear_model import LinearRegression\n",
    "model= LinearRegression()\n",
    "model.fit(X=death['YYYYMMDD'].values.reshape(-1, 1),y=death['MP'].values.reshape(-1, 1))\n",
    "model.score(X,y)"
   ]
  },
  {
   "cell_type": "code",
   "execution_count": 58,
   "metadata": {},
   "outputs": [
    {
     "data": {
      "text/plain": [
       "array([[1497.11936491]])"
      ]
     },
     "execution_count": 58,
     "metadata": {},
     "output_type": "execute_result"
    }
   ],
   "source": [
    "model.predict([[20211019]])"
   ]
  },
  {
   "cell_type": "markdown",
   "metadata": {},
   "source": [
    "# "
   ]
  },
  {
   "cell_type": "markdown",
   "metadata": {},
   "source": [
    "# Predicting deaths in the state (NC)"
   ]
  },
  {
   "cell_type": "code",
   "execution_count": 59,
   "metadata": {},
   "outputs": [
    {
     "data": {
      "text/plain": [
       "0.6829141789295725"
      ]
     },
     "execution_count": 59,
     "metadata": {},
     "output_type": "execute_result"
    }
   ],
   "source": [
    "X=death['YYYYMMDD'].values.reshape(-1, 1)\n",
    "y=death['NC'].values.reshape(-1, 1)\n",
    "from sklearn.linear_model import LinearRegression\n",
    "model= LinearRegression()\n",
    "model.fit(X=death['YYYYMMDD'].values.reshape(-1, 1),y=death['NC'].values.reshape(-1, 1))\n",
    "model.score(X,y)"
   ]
  },
  {
   "cell_type": "code",
   "execution_count": 60,
   "metadata": {},
   "outputs": [
    {
     "data": {
      "text/plain": [
       "array([[1232.79311752]])"
      ]
     },
     "execution_count": 60,
     "metadata": {},
     "output_type": "execute_result"
    }
   ],
   "source": [
    "model.predict([[20211019]])"
   ]
  },
  {
   "cell_type": "markdown",
   "metadata": {},
   "source": [
    "# "
   ]
  },
  {
   "cell_type": "markdown",
   "metadata": {},
   "source": [
    "# Predicting deaths in the state (NW)"
   ]
  },
  {
   "cell_type": "code",
   "execution_count": 61,
   "metadata": {},
   "outputs": [
    {
     "data": {
      "text/plain": [
       "0.6549460703065058"
      ]
     },
     "execution_count": 61,
     "metadata": {},
     "output_type": "execute_result"
    }
   ],
   "source": [
    "X=death['YYYYMMDD'].values.reshape(-1, 1)\n",
    "y=death['NW'].values.reshape(-1, 1)\n",
    "from sklearn.linear_model import LinearRegression\n",
    "model= LinearRegression()\n",
    "model.fit(X=death['YYYYMMDD'].values.reshape(-1, 1),y=death['NW'].values.reshape(-1, 1))\n",
    "model.score(X,y)"
   ]
  },
  {
   "cell_type": "code",
   "execution_count": 62,
   "metadata": {},
   "outputs": [
    {
     "data": {
      "text/plain": [
       "array([[2199.49426342]])"
      ]
     },
     "execution_count": 62,
     "metadata": {},
     "output_type": "execute_result"
    }
   ],
   "source": [
    "model.predict([[20211019]])"
   ]
  },
  {
   "cell_type": "markdown",
   "metadata": {},
   "source": [
    "# "
   ]
  },
  {
   "cell_type": "markdown",
   "metadata": {},
   "source": [
    "# Predicting deaths in the state (WC)"
   ]
  },
  {
   "cell_type": "code",
   "execution_count": 63,
   "metadata": {},
   "outputs": [
    {
     "data": {
      "text/plain": [
       "0.8325902873208966"
      ]
     },
     "execution_count": 63,
     "metadata": {},
     "output_type": "execute_result"
    }
   ],
   "source": [
    "X=death['YYYYMMDD'].values.reshape(-1, 1)\n",
    "y=death['WC'].values.reshape(-1, 1)\n",
    "from sklearn.linear_model import LinearRegression\n",
    "model_WC_death= LinearRegression()\n",
    "model_WC_death.fit(X=death['YYYYMMDD'].values.reshape(-1, 1),y=death['WC'].values.reshape(-1, 1))\n",
    "model_WC_death.score(X,y)"
   ]
  },
  {
   "cell_type": "code",
   "execution_count": 64,
   "metadata": {},
   "outputs": [
    {
     "data": {
      "text/plain": [
       "array([[2199.49426342]])"
      ]
     },
     "execution_count": 64,
     "metadata": {},
     "output_type": "execute_result"
    }
   ],
   "source": [
    "model.predict([[20211019]])"
   ]
  },
  {
   "cell_type": "markdown",
   "metadata": {},
   "source": [
    "# "
   ]
  },
  {
   "cell_type": "code",
   "execution_count": 65,
   "metadata": {},
   "outputs": [
    {
     "data": {
      "text/html": [
       "<div>\n",
       "<style scoped>\n",
       "    .dataframe tbody tr th:only-of-type {\n",
       "        vertical-align: middle;\n",
       "    }\n",
       "\n",
       "    .dataframe tbody tr th {\n",
       "        vertical-align: top;\n",
       "    }\n",
       "\n",
       "    .dataframe thead th {\n",
       "        text-align: right;\n",
       "    }\n",
       "</style>\n",
       "<table border=\"1\" class=\"dataframe\">\n",
       "  <thead>\n",
       "    <tr style=\"text-align: right;\">\n",
       "      <th></th>\n",
       "      <th>date</th>\n",
       "      <th>YYYYMMDD</th>\n",
       "      <th>EC</th>\n",
       "      <th>FS</th>\n",
       "      <th>GP</th>\n",
       "      <th>KZN</th>\n",
       "      <th>LP</th>\n",
       "      <th>MP</th>\n",
       "      <th>NC</th>\n",
       "      <th>NW</th>\n",
       "      <th>WC</th>\n",
       "      <th>UNKNOWN</th>\n",
       "      <th>total</th>\n",
       "    </tr>\n",
       "  </thead>\n",
       "  <tbody>\n",
       "    <tr>\n",
       "      <th>0</th>\n",
       "      <td>5/3/20</td>\n",
       "      <td>20200305</td>\n",
       "      <td>0.0</td>\n",
       "      <td>0.0</td>\n",
       "      <td>0.0</td>\n",
       "      <td>1.0</td>\n",
       "      <td>0.0</td>\n",
       "      <td>0.0</td>\n",
       "      <td>0.0</td>\n",
       "      <td>0.0</td>\n",
       "      <td>0.0</td>\n",
       "      <td>0.0</td>\n",
       "      <td>1</td>\n",
       "    </tr>\n",
       "    <tr>\n",
       "      <th>1</th>\n",
       "      <td>7/3/20</td>\n",
       "      <td>20200307</td>\n",
       "      <td>0.0</td>\n",
       "      <td>0.0</td>\n",
       "      <td>1.0</td>\n",
       "      <td>1.0</td>\n",
       "      <td>0.0</td>\n",
       "      <td>0.0</td>\n",
       "      <td>0.0</td>\n",
       "      <td>0.0</td>\n",
       "      <td>0.0</td>\n",
       "      <td>0.0</td>\n",
       "      <td>2</td>\n",
       "    </tr>\n",
       "    <tr>\n",
       "      <th>2</th>\n",
       "      <td>8/3/20</td>\n",
       "      <td>20200308</td>\n",
       "      <td>0.0</td>\n",
       "      <td>0.0</td>\n",
       "      <td>1.0</td>\n",
       "      <td>2.0</td>\n",
       "      <td>0.0</td>\n",
       "      <td>0.0</td>\n",
       "      <td>0.0</td>\n",
       "      <td>0.0</td>\n",
       "      <td>0.0</td>\n",
       "      <td>0.0</td>\n",
       "      <td>3</td>\n",
       "    </tr>\n",
       "    <tr>\n",
       "      <th>3</th>\n",
       "      <td>9/3/20</td>\n",
       "      <td>20200309</td>\n",
       "      <td>0.0</td>\n",
       "      <td>0.0</td>\n",
       "      <td>1.0</td>\n",
       "      <td>6.0</td>\n",
       "      <td>0.0</td>\n",
       "      <td>0.0</td>\n",
       "      <td>0.0</td>\n",
       "      <td>0.0</td>\n",
       "      <td>0.0</td>\n",
       "      <td>0.0</td>\n",
       "      <td>7</td>\n",
       "    </tr>\n",
       "    <tr>\n",
       "      <th>4</th>\n",
       "      <td>11/3/20</td>\n",
       "      <td>20200311</td>\n",
       "      <td>0.0</td>\n",
       "      <td>0.0</td>\n",
       "      <td>5.0</td>\n",
       "      <td>7.0</td>\n",
       "      <td>0.0</td>\n",
       "      <td>0.0</td>\n",
       "      <td>0.0</td>\n",
       "      <td>0.0</td>\n",
       "      <td>1.0</td>\n",
       "      <td>0.0</td>\n",
       "      <td>13</td>\n",
       "    </tr>\n",
       "  </tbody>\n",
       "</table>\n",
       "</div>"
      ],
      "text/plain": [
       "      date  YYYYMMDD   EC   FS   GP  KZN   LP   MP   NC   NW   WC  UNKNOWN  \\\n",
       "0   5/3/20  20200305  0.0  0.0  0.0  1.0  0.0  0.0  0.0  0.0  0.0      0.0   \n",
       "1   7/3/20  20200307  0.0  0.0  1.0  1.0  0.0  0.0  0.0  0.0  0.0      0.0   \n",
       "2   8/3/20  20200308  0.0  0.0  1.0  2.0  0.0  0.0  0.0  0.0  0.0      0.0   \n",
       "3   9/3/20  20200309  0.0  0.0  1.0  6.0  0.0  0.0  0.0  0.0  0.0      0.0   \n",
       "4  11/3/20  20200311  0.0  0.0  5.0  7.0  0.0  0.0  0.0  0.0  1.0      0.0   \n",
       "\n",
       "   total  \n",
       "0      1  \n",
       "1      2  \n",
       "2      3  \n",
       "3      7  \n",
       "4     13  "
      ]
     },
     "execution_count": 65,
     "metadata": {},
     "output_type": "execute_result"
    }
   ],
   "source": [
    "confirmed2.head()"
   ]
  },
  {
   "cell_type": "code",
   "execution_count": 66,
   "metadata": {},
   "outputs": [
    {
     "data": {
      "text/html": [
       "<div>\n",
       "<style scoped>\n",
       "    .dataframe tbody tr th:only-of-type {\n",
       "        vertical-align: middle;\n",
       "    }\n",
       "\n",
       "    .dataframe tbody tr th {\n",
       "        vertical-align: top;\n",
       "    }\n",
       "\n",
       "    .dataframe thead th {\n",
       "        text-align: right;\n",
       "    }\n",
       "</style>\n",
       "<table border=\"1\" class=\"dataframe\">\n",
       "  <thead>\n",
       "    <tr style=\"text-align: right;\">\n",
       "      <th></th>\n",
       "      <th>date</th>\n",
       "      <th>YYYYMMDD</th>\n",
       "      <th>EC</th>\n",
       "      <th>FS</th>\n",
       "      <th>GP</th>\n",
       "      <th>KZN</th>\n",
       "      <th>LP</th>\n",
       "      <th>MP</th>\n",
       "      <th>NC</th>\n",
       "      <th>NW</th>\n",
       "      <th>WC</th>\n",
       "      <th>UNKNOWN</th>\n",
       "      <th>total</th>\n",
       "    </tr>\n",
       "  </thead>\n",
       "  <tbody>\n",
       "    <tr>\n",
       "      <th>566</th>\n",
       "      <td>24-09-2021</td>\n",
       "      <td>20210924</td>\n",
       "      <td>289351.0</td>\n",
       "      <td>160453.0</td>\n",
       "      <td>915326.0</td>\n",
       "      <td>509715.0</td>\n",
       "      <td>121729.0</td>\n",
       "      <td>150502.0</td>\n",
       "      <td>89938.0</td>\n",
       "      <td>149027.0</td>\n",
       "      <td>508302.0</td>\n",
       "      <td>0.0</td>\n",
       "      <td>2894343</td>\n",
       "    </tr>\n",
       "    <tr>\n",
       "      <th>567</th>\n",
       "      <td>25-09-2021</td>\n",
       "      <td>20210925</td>\n",
       "      <td>289583.0</td>\n",
       "      <td>160584.0</td>\n",
       "      <td>915527.0</td>\n",
       "      <td>510065.0</td>\n",
       "      <td>121742.0</td>\n",
       "      <td>150578.0</td>\n",
       "      <td>90198.0</td>\n",
       "      <td>149100.0</td>\n",
       "      <td>508600.0</td>\n",
       "      <td>0.0</td>\n",
       "      <td>2895977</td>\n",
       "    </tr>\n",
       "    <tr>\n",
       "      <th>568</th>\n",
       "      <td>26-09-2021</td>\n",
       "      <td>20210926</td>\n",
       "      <td>289752.0</td>\n",
       "      <td>160679.0</td>\n",
       "      <td>915609.0</td>\n",
       "      <td>510337.0</td>\n",
       "      <td>121752.0</td>\n",
       "      <td>150647.0</td>\n",
       "      <td>90272.0</td>\n",
       "      <td>149181.0</td>\n",
       "      <td>508715.0</td>\n",
       "      <td>0.0</td>\n",
       "      <td>2896944</td>\n",
       "    </tr>\n",
       "    <tr>\n",
       "      <th>569</th>\n",
       "      <td>27-09-2021</td>\n",
       "      <td>20210927</td>\n",
       "      <td>289801.0</td>\n",
       "      <td>160765.0</td>\n",
       "      <td>915716.0</td>\n",
       "      <td>510463.0</td>\n",
       "      <td>121761.0</td>\n",
       "      <td>150671.0</td>\n",
       "      <td>90307.0</td>\n",
       "      <td>149229.0</td>\n",
       "      <td>508808.0</td>\n",
       "      <td>0.0</td>\n",
       "      <td>2897522</td>\n",
       "    </tr>\n",
       "    <tr>\n",
       "      <th>570</th>\n",
       "      <td>28-09-2021</td>\n",
       "      <td>20210928</td>\n",
       "      <td>289987.0</td>\n",
       "      <td>160934.0</td>\n",
       "      <td>915906.0</td>\n",
       "      <td>510835.0</td>\n",
       "      <td>121785.0</td>\n",
       "      <td>150726.0</td>\n",
       "      <td>90382.0</td>\n",
       "      <td>149285.0</td>\n",
       "      <td>509049.0</td>\n",
       "      <td>0.0</td>\n",
       "      <td>2898889</td>\n",
       "    </tr>\n",
       "  </tbody>\n",
       "</table>\n",
       "</div>"
      ],
      "text/plain": [
       "           date  YYYYMMDD        EC        FS        GP       KZN        LP  \\\n",
       "566  24-09-2021  20210924  289351.0  160453.0  915326.0  509715.0  121729.0   \n",
       "567  25-09-2021  20210925  289583.0  160584.0  915527.0  510065.0  121742.0   \n",
       "568  26-09-2021  20210926  289752.0  160679.0  915609.0  510337.0  121752.0   \n",
       "569  27-09-2021  20210927  289801.0  160765.0  915716.0  510463.0  121761.0   \n",
       "570  28-09-2021  20210928  289987.0  160934.0  915906.0  510835.0  121785.0   \n",
       "\n",
       "           MP       NC        NW        WC  UNKNOWN    total  \n",
       "566  150502.0  89938.0  149027.0  508302.0      0.0  2894343  \n",
       "567  150578.0  90198.0  149100.0  508600.0      0.0  2895977  \n",
       "568  150647.0  90272.0  149181.0  508715.0      0.0  2896944  \n",
       "569  150671.0  90307.0  149229.0  508808.0      0.0  2897522  \n",
       "570  150726.0  90382.0  149285.0  509049.0      0.0  2898889  "
      ]
     },
     "execution_count": 66,
     "metadata": {},
     "output_type": "execute_result"
    }
   ],
   "source": [
    "confirmed2.tail()"
   ]
  },
  {
   "cell_type": "markdown",
   "metadata": {},
   "source": [
    "# confirmed cases of covid-19 in Sauth Arican by State:\n"
   ]
  },
  {
   "cell_type": "markdown",
   "metadata": {},
   "source": [
    "# Cases that will become confirmed cases of covid-19 in the state of (EC)"
   ]
  },
  {
   "cell_type": "code",
   "execution_count": 67,
   "metadata": {},
   "outputs": [
    {
     "data": {
      "text/plain": [
       "0.7980815432397507"
      ]
     },
     "execution_count": 67,
     "metadata": {},
     "output_type": "execute_result"
    }
   ],
   "source": [
    "X=confirmed2['YYYYMMDD'].values.reshape(-1, 1)\n",
    "y=confirmed2['EC'].values.reshape(-1, 1)\n",
    "from sklearn.linear_model import LinearRegression\n",
    "model= LinearRegression()\n",
    "model.fit(X=confirmed2['YYYYMMDD'].values.reshape(-1, 1),y=confirmed2['EC'].values.reshape(-1, 1))\n",
    "model.score(X,y)"
   ]
  },
  {
   "cell_type": "code",
   "execution_count": 68,
   "metadata": {},
   "outputs": [
    {
     "data": {
      "text/plain": [
       "array([[222136.94703537]])"
      ]
     },
     "execution_count": 68,
     "metadata": {},
     "output_type": "execute_result"
    }
   ],
   "source": [
    "model.predict([[20211019]])"
   ]
  },
  {
   "cell_type": "markdown",
   "metadata": {},
   "source": [
    "# "
   ]
  },
  {
   "cell_type": "markdown",
   "metadata": {},
   "source": [
    "# Cases that will become confirmed cases of covid-19 in the state of (FS)\n"
   ]
  },
  {
   "cell_type": "code",
   "execution_count": 69,
   "metadata": {},
   "outputs": [
    {
     "data": {
      "text/plain": [
       "0.7304392574846502"
      ]
     },
     "execution_count": 69,
     "metadata": {},
     "output_type": "execute_result"
    }
   ],
   "source": [
    "X=confirmed2['YYYYMMDD'].values.reshape(-1, 1)\n",
    "y=confirmed2['FS'].values.reshape(-1, 1)\n",
    "from sklearn.linear_model import LinearRegression\n",
    "model= LinearRegression()\n",
    "model.fit(X=confirmed2['YYYYMMDD'].values.reshape(-1, 1),y=confirmed2['FS'].values.reshape(-1, 1))\n",
    "model.score(X,y)"
   ]
  },
  {
   "cell_type": "code",
   "execution_count": 70,
   "metadata": {},
   "outputs": [
    {
     "data": {
      "text/plain": [
       "array([[109188.49435705]])"
      ]
     },
     "execution_count": 70,
     "metadata": {},
     "output_type": "execute_result"
    }
   ],
   "source": [
    "model.predict([[20211019]])"
   ]
  },
  {
   "cell_type": "markdown",
   "metadata": {},
   "source": [
    "# "
   ]
  },
  {
   "cell_type": "markdown",
   "metadata": {},
   "source": [
    "# Cases that will become confirm cases of covid-19 in the state of (GP)\n"
   ]
  },
  {
   "cell_type": "code",
   "execution_count": 71,
   "metadata": {},
   "outputs": [
    {
     "data": {
      "text/plain": [
       "0.6794497084510831"
      ]
     },
     "execution_count": 71,
     "metadata": {},
     "output_type": "execute_result"
    }
   ],
   "source": [
    "X=confirmed2['YYYYMMDD'].values.reshape(-1, 1)\n",
    "y=confirmed2['GP'].values.reshape(-1, 1)\n",
    "from sklearn.linear_model import LinearRegression\n",
    "model_GP_cofirmed2= LinearRegression()\n",
    "model_GP_cofirmed2.fit(X=confirmed2['YYYYMMDD'].values.reshape(-1, 1),y=confirmed2['GP'].values.reshape(-1, 1))\n",
    "model_GP_cofirmed2.score(X,y)"
   ]
  },
  {
   "cell_type": "code",
   "execution_count": 72,
   "metadata": {},
   "outputs": [
    {
     "data": {
      "text/plain": [
       "array([[600631.34735775]])"
      ]
     },
     "execution_count": 72,
     "metadata": {},
     "output_type": "execute_result"
    }
   ],
   "source": [
    "model_GP_cofirmed2.predict([[20211019]])"
   ]
  },
  {
   "cell_type": "markdown",
   "metadata": {},
   "source": [
    "# "
   ]
  },
  {
   "cell_type": "markdown",
   "metadata": {},
   "source": [
    "# Cases that will become confirmed cases of covid-19 in the state of (KNZ)\n"
   ]
  },
  {
   "cell_type": "code",
   "execution_count": 73,
   "metadata": {},
   "outputs": [
    {
     "data": {
      "text/plain": [
       "0.879159788141866"
      ]
     },
     "execution_count": 73,
     "metadata": {},
     "output_type": "execute_result"
    }
   ],
   "source": [
    "X=confirmed2['YYYYMMDD'].values.reshape(-1, 1)\n",
    "y=confirmed2['KZN'].values.reshape(-1, 1)\n",
    "from sklearn.linear_model import LinearRegression\n",
    "model_KZN_confirmed2= LinearRegression()\n",
    "model_KZN_confirmed2.fit(X=confirmed2['YYYYMMDD'].values.reshape(-1, 1),y=confirmed2['KZN'].values.reshape(-1, 1))\n",
    "model_KZN_confirmed2.score(X,y)"
   ]
  },
  {
   "cell_type": "code",
   "execution_count": 74,
   "metadata": {},
   "outputs": [
    {
     "data": {
      "text/plain": [
       "array([[379220.49933946]])"
      ]
     },
     "execution_count": 74,
     "metadata": {},
     "output_type": "execute_result"
    }
   ],
   "source": [
    "model_KZN_confirmed2.predict([[20211019]])"
   ]
  },
  {
   "cell_type": "markdown",
   "metadata": {},
   "source": [
    "# "
   ]
  },
  {
   "cell_type": "markdown",
   "metadata": {},
   "source": [
    "# Cases that will become confirmed cases of covid-19 in the state of (LP)\n"
   ]
  },
  {
   "cell_type": "code",
   "execution_count": 75,
   "metadata": {},
   "outputs": [
    {
     "data": {
      "text/plain": [
       "0.8033077584686594"
      ]
     },
     "execution_count": 75,
     "metadata": {},
     "output_type": "execute_result"
    }
   ],
   "source": [
    "X=confirmed2['YYYYMMDD'].values.reshape(-1, 1)\n",
    "y=confirmed2['LP'].values.reshape(-1, 1)\n",
    "from sklearn.linear_model import LinearRegression\n",
    "model= LinearRegression()\n",
    "model.fit(X=confirmed2['YYYYMMDD'].values.reshape(-1, 1),y=confirmed2['LP'].values.reshape(-1, 1))\n",
    "model.score(X,y)"
   ]
  },
  {
   "cell_type": "code",
   "execution_count": 76,
   "metadata": {},
   "outputs": [
    {
     "data": {
      "text/plain": [
       "array([[81862.99270421]])"
      ]
     },
     "execution_count": 76,
     "metadata": {},
     "output_type": "execute_result"
    }
   ],
   "source": [
    "model.predict([[20211019]])"
   ]
  },
  {
   "cell_type": "markdown",
   "metadata": {},
   "source": [
    "# "
   ]
  },
  {
   "cell_type": "markdown",
   "metadata": {},
   "source": [
    "# Cases that will become confirmed cases of covid-19 in the state of (MP)\n",
    "\n"
   ]
  },
  {
   "cell_type": "code",
   "execution_count": 77,
   "metadata": {},
   "outputs": [
    {
     "data": {
      "text/plain": [
       "0.7713950506107682"
      ]
     },
     "execution_count": 77,
     "metadata": {},
     "output_type": "execute_result"
    }
   ],
   "source": [
    "X=confirmed2['YYYYMMDD'].values.reshape(-1, 1)\n",
    "y=confirmed2['MP'].values.reshape(-1, 1)\n",
    "from sklearn.linear_model import LinearRegression\n",
    "model= LinearRegression()\n",
    "model.fit(X=confirmed2['YYYYMMDD'].values.reshape(-1, 1),y=confirmed2['MP'].values.reshape(-1, 1))\n",
    "model.score(X,y)"
   ]
  },
  {
   "cell_type": "code",
   "execution_count": 78,
   "metadata": {},
   "outputs": [
    {
     "data": {
      "text/plain": [
       "array([[97466.91273808]])"
      ]
     },
     "execution_count": 78,
     "metadata": {},
     "output_type": "execute_result"
    }
   ],
   "source": [
    "model.predict([[20211019]])"
   ]
  },
  {
   "cell_type": "markdown",
   "metadata": {},
   "source": [
    "# "
   ]
  },
  {
   "cell_type": "markdown",
   "metadata": {},
   "source": [
    "# Cases that will become confirmed cases of covid-19 in the state of (NC)\n",
    "\n",
    "\n"
   ]
  },
  {
   "cell_type": "code",
   "execution_count": 79,
   "metadata": {},
   "outputs": [
    {
     "data": {
      "text/plain": [
       "0.7069813817577333"
      ]
     },
     "execution_count": 79,
     "metadata": {},
     "output_type": "execute_result"
    }
   ],
   "source": [
    "X=confirmed2['YYYYMMDD'].values.reshape(-1, 1)\n",
    "y=confirmed2['NC'].values.reshape(-1, 1)\n",
    "from sklearn.linear_model import LinearRegression\n",
    "model= LinearRegression()\n",
    "model.fit(X=confirmed2['YYYYMMDD'].values.reshape(-1, 1),y=confirmed2['NC'].values.reshape(-1, 1))\n",
    "model.score(X,y)"
   ]
  },
  {
   "cell_type": "code",
   "execution_count": 80,
   "metadata": {},
   "outputs": [
    {
     "data": {
      "text/plain": [
       "array([[53780.50400716]])"
      ]
     },
     "execution_count": 80,
     "metadata": {},
     "output_type": "execute_result"
    }
   ],
   "source": [
    "model.predict([[20211019]])"
   ]
  },
  {
   "cell_type": "markdown",
   "metadata": {},
   "source": [
    "# "
   ]
  },
  {
   "cell_type": "markdown",
   "metadata": {},
   "source": [
    "# Cases that will become confirmed cases of covid-19 in the state of (NW)\n"
   ]
  },
  {
   "cell_type": "code",
   "execution_count": 81,
   "metadata": {},
   "outputs": [
    {
     "data": {
      "text/plain": [
       "0.6969013601697"
      ]
     },
     "execution_count": 81,
     "metadata": {},
     "output_type": "execute_result"
    }
   ],
   "source": [
    "X=confirmed2['YYYYMMDD'].values.reshape(-1, 1)\n",
    "y=confirmed2['NW'].values.reshape(-1, 1)\n",
    "from sklearn.linear_model import LinearRegression\n",
    "model= LinearRegression()\n",
    "model.fit(X=confirmed2['YYYYMMDD'].values.reshape(-1, 1),y=confirmed2['NW'].values.reshape(-1, 1))\n",
    "model.score(X,y)"
   ]
  },
  {
   "cell_type": "code",
   "execution_count": 82,
   "metadata": {},
   "outputs": [
    {
     "data": {
      "text/plain": [
       "array([[92557.0546619]])"
      ]
     },
     "execution_count": 82,
     "metadata": {},
     "output_type": "execute_result"
    }
   ],
   "source": [
    "model.predict([[20211019]])"
   ]
  },
  {
   "cell_type": "markdown",
   "metadata": {},
   "source": [
    "# "
   ]
  },
  {
   "cell_type": "markdown",
   "metadata": {},
   "source": [
    "# Cases that will become confirmed cases of covid-19 in the state of (WC)\n"
   ]
  },
  {
   "cell_type": "code",
   "execution_count": 83,
   "metadata": {},
   "outputs": [
    {
     "data": {
      "text/plain": [
       "0.8109535657304366"
      ]
     },
     "execution_count": 83,
     "metadata": {},
     "output_type": "execute_result"
    }
   ],
   "source": [
    "X=confirmed2['YYYYMMDD'].values.reshape(-1, 1)\n",
    "y=confirmed2['WC'].values.reshape(-1, 1)\n",
    "from sklearn.linear_model import LinearRegression\n",
    "model_WC_cofirmed2= LinearRegression()\n",
    "model_WC_cofirmed2.fit(X=confirmed2['YYYYMMDD'].values.reshape(-1, 1),y=confirmed2['WC'].values.reshape(-1, 1))\n",
    "model_WC_cofirmed2.score(X,y)"
   ]
  },
  {
   "cell_type": "code",
   "execution_count": 84,
   "metadata": {},
   "outputs": [
    {
     "data": {
      "text/plain": [
       "array([[348214.54220784]])"
      ]
     },
     "execution_count": 84,
     "metadata": {},
     "output_type": "execute_result"
    }
   ],
   "source": [
    "model_WC_cofirmed2.predict([[20211019]])"
   ]
  },
  {
   "cell_type": "markdown",
   "metadata": {},
   "source": [
    "# "
   ]
  },
  {
   "cell_type": "markdown",
   "metadata": {},
   "source": [
    "# predictive vaccination covid-19 in Sauth Arican by State:\n",
    "\n",
    "\n"
   ]
  },
  {
   "cell_type": "markdown",
   "metadata": {},
   "source": [
    "## predictive vaccination in (WC)"
   ]
  },
  {
   "cell_type": "code",
   "execution_count": 85,
   "metadata": {},
   "outputs": [
    {
     "data": {
      "text/plain": [
       "0.7831129244165536"
      ]
     },
     "execution_count": 85,
     "metadata": {},
     "output_type": "execute_result"
    }
   ],
   "source": [
    "X=vacc2['YYYYMMDD'].values.reshape(-1, 1)\n",
    "y=vacc2['WC'].values.reshape(-1, 1)\n",
    "from sklearn.linear_model import LinearRegression\n",
    "model_WC_vacc2= LinearRegression()\n",
    "model_WC_vacc2.fit(X=vacc2['YYYYMMDD'].values.reshape(-1, 1),y=vacc2['WC'].values.reshape(-1, 1))\n",
    "model_WC_vacc2.score(X,y)"
   ]
  },
  {
   "cell_type": "code",
   "execution_count": 86,
   "metadata": {},
   "outputs": [
    {
     "data": {
      "text/plain": [
       "array([[2425952.30079651]])"
      ]
     },
     "execution_count": 86,
     "metadata": {},
     "output_type": "execute_result"
    }
   ],
   "source": [
    "model_WC_vacc2.predict([[20211019]])"
   ]
  },
  {
   "cell_type": "markdown",
   "metadata": {},
   "source": [
    "# predictive vaccination in (MP)"
   ]
  },
  {
   "cell_type": "code",
   "execution_count": 87,
   "metadata": {},
   "outputs": [
    {
     "data": {
      "text/plain": [
       "0.7814289726199961"
      ]
     },
     "execution_count": 87,
     "metadata": {},
     "output_type": "execute_result"
    }
   ],
   "source": [
    "X=vacc2['YYYYMMDD'].values.reshape(-1, 1)\n",
    "y=vacc2['MP'].values.reshape(-1, 1)\n",
    "from sklearn.linear_model import LinearRegression\n",
    "model= LinearRegression()\n",
    "model.fit(X=vacc2['YYYYMMDD'].values.reshape(-1, 1),y=vacc2['MP'].values.reshape(-1, 1))\n",
    "model.score(X,y)"
   ]
  },
  {
   "cell_type": "code",
   "execution_count": 88,
   "metadata": {},
   "outputs": [
    {
     "data": {
      "text/plain": [
       "array([[809680.61668015]])"
      ]
     },
     "execution_count": 88,
     "metadata": {},
     "output_type": "execute_result"
    }
   ],
   "source": [
    "model.predict([[20211019]])"
   ]
  },
  {
   "cell_type": "markdown",
   "metadata": {},
   "source": [
    "# predictive vaccination in (EC)\n"
   ]
  },
  {
   "cell_type": "code",
   "execution_count": 89,
   "metadata": {},
   "outputs": [
    {
     "data": {
      "text/plain": [
       "0.802151334615098"
      ]
     },
     "execution_count": 89,
     "metadata": {},
     "output_type": "execute_result"
    }
   ],
   "source": [
    "X=vacc2['YYYYMMDD'].values.reshape(-1, 1)\n",
    "y=vacc2['EC'].values.reshape(-1, 1)\n",
    "from sklearn.linear_model import LinearRegression\n",
    "model= LinearRegression()\n",
    "model.fit(X=vacc2['YYYYMMDD'].values.reshape(-1, 1),y=vacc2['EC'].values.reshape(-1, 1))\n",
    "model.score(X,y)"
   ]
  },
  {
   "cell_type": "code",
   "execution_count": 90,
   "metadata": {},
   "outputs": [
    {
     "data": {
      "text/plain": [
       "array([[1872817.37644958]])"
      ]
     },
     "execution_count": 90,
     "metadata": {},
     "output_type": "execute_result"
    }
   ],
   "source": [
    "model.predict([[20211019]])"
   ]
  },
  {
   "cell_type": "markdown",
   "metadata": {},
   "source": [
    "## predictive vaccination in (FS)\n"
   ]
  },
  {
   "cell_type": "code",
   "execution_count": 91,
   "metadata": {},
   "outputs": [
    {
     "data": {
      "text/plain": [
       "0.7971441562493327"
      ]
     },
     "execution_count": 91,
     "metadata": {},
     "output_type": "execute_result"
    }
   ],
   "source": [
    "X=vacc2['YYYYMMDD'].values.reshape(-1, 1)\n",
    "y=vacc2['FS'].values.reshape(-1, 1)\n",
    "from sklearn.linear_model import LinearRegression\n",
    "model= LinearRegression()\n",
    "model.fit(X=vacc2['YYYYMMDD'].values.reshape(-1, 1),y=vacc2['FS'].values.reshape(-1, 1))\n",
    "model.score(X,y)"
   ]
  },
  {
   "cell_type": "code",
   "execution_count": 92,
   "metadata": {},
   "outputs": [
    {
     "data": {
      "text/plain": [
       "array([[795574.8078537]])"
      ]
     },
     "execution_count": 92,
     "metadata": {},
     "output_type": "execute_result"
    }
   ],
   "source": [
    "model.predict([[20211019]])"
   ]
  },
  {
   "cell_type": "markdown",
   "metadata": {},
   "source": [
    "## predictive vaccination in (KZN)\n"
   ]
  },
  {
   "cell_type": "code",
   "execution_count": 93,
   "metadata": {},
   "outputs": [
    {
     "data": {
      "text/plain": [
       "0.851734569058063"
      ]
     },
     "execution_count": 93,
     "metadata": {},
     "output_type": "execute_result"
    }
   ],
   "source": [
    "X=vacc2['YYYYMMDD'].values.reshape(-1, 1)\n",
    "y=vacc2['KZN'].values.reshape(-1, 1)\n",
    "from sklearn.linear_model import LinearRegression\n",
    "model_KZN_vacc2= LinearRegression()\n",
    "model_KZN_vacc2.fit(X=vacc2['YYYYMMDD'].values.reshape(-1, 1),y=vacc2['KZN'].values.reshape(-1, 1))\n",
    "model_KZN_vacc2.score(X,y)"
   ]
  },
  {
   "cell_type": "code",
   "execution_count": 94,
   "metadata": {},
   "outputs": [
    {
     "data": {
      "text/plain": [
       "array([[2649388.68452454]])"
      ]
     },
     "execution_count": 94,
     "metadata": {},
     "output_type": "execute_result"
    }
   ],
   "source": [
    "model_KZN_vacc2.predict([[20211019]])"
   ]
  },
  {
   "cell_type": "markdown",
   "metadata": {},
   "source": [
    "## predictive vaccination in (NC)\n",
    "\n"
   ]
  },
  {
   "cell_type": "code",
   "execution_count": 95,
   "metadata": {},
   "outputs": [
    {
     "data": {
      "text/plain": [
       "0.7900981054529451"
      ]
     },
     "execution_count": 95,
     "metadata": {},
     "output_type": "execute_result"
    }
   ],
   "source": [
    "X=vacc2['YYYYMMDD'].values.reshape(-1, 1)\n",
    "y=vacc2['GP'].values.reshape(-1, 1)\n",
    "from sklearn.linear_model import LinearRegression\n",
    "model_GP_vacc2= LinearRegression()\n",
    "model_GP_vacc2.fit(X=vacc2['YYYYMMDD'].values.reshape(-1, 1),y=vacc2['GP'].values.reshape(-1, 1))\n",
    "model_GP_vacc2.score(X,y)"
   ]
  },
  {
   "cell_type": "code",
   "execution_count": 96,
   "metadata": {},
   "outputs": [
    {
     "data": {
      "text/plain": [
       "array([[3880179.95065308]])"
      ]
     },
     "execution_count": 96,
     "metadata": {},
     "output_type": "execute_result"
    }
   ],
   "source": [
    "model_GP_vacc2.predict([[20211019]])"
   ]
  },
  {
   "cell_type": "markdown",
   "metadata": {},
   "source": [
    "## predictive vaccination in (LP)\n",
    "\n"
   ]
  },
  {
   "cell_type": "code",
   "execution_count": 97,
   "metadata": {},
   "outputs": [
    {
     "data": {
      "text/plain": [
       "0.8200941638107806"
      ]
     },
     "execution_count": 97,
     "metadata": {},
     "output_type": "execute_result"
    }
   ],
   "source": [
    "X=vacc2['YYYYMMDD'].values.reshape(-1, 1)\n",
    "y=vacc2['LP'].values.reshape(-1, 1)\n",
    "from sklearn.linear_model import LinearRegression\n",
    "model= LinearRegression()\n",
    "model.fit(X=vacc2['YYYYMMDD'].values.reshape(-1, 1),y=vacc2['LP'].values.reshape(-1, 1))\n",
    "model.score(X,y)"
   ]
  },
  {
   "cell_type": "code",
   "execution_count": 98,
   "metadata": {},
   "outputs": [
    {
     "data": {
      "text/plain": [
       "array([[1585209.96923828]])"
      ]
     },
     "execution_count": 98,
     "metadata": {},
     "output_type": "execute_result"
    }
   ],
   "source": [
    "model.predict([[20211019]])"
   ]
  },
  {
   "cell_type": "markdown",
   "metadata": {},
   "source": [
    "## predictive vaccination in (NC)\n",
    "\n"
   ]
  },
  {
   "cell_type": "code",
   "execution_count": 99,
   "metadata": {},
   "outputs": [
    {
     "data": {
      "text/plain": [
       "0.7573974852636586"
      ]
     },
     "execution_count": 99,
     "metadata": {},
     "output_type": "execute_result"
    }
   ],
   "source": [
    "X=vacc2['YYYYMMDD'].values.reshape(-1, 1)\n",
    "y=vacc2['NC'].values.reshape(-1, 1)\n",
    "from sklearn.linear_model import LinearRegression\n",
    "model= LinearRegression()\n",
    "model.fit(X=vacc2['YYYYMMDD'].values.reshape(-1, 1),y=vacc2['NC'].values.reshape(-1, 1))\n",
    "model.score(X,y)"
   ]
  },
  {
   "cell_type": "code",
   "execution_count": 100,
   "metadata": {},
   "outputs": [
    {
     "data": {
      "text/plain": [
       "array([[285909.84767723]])"
      ]
     },
     "execution_count": 100,
     "metadata": {},
     "output_type": "execute_result"
    }
   ],
   "source": [
    "model.predict([[20211019]])"
   ]
  },
  {
   "cell_type": "markdown",
   "metadata": {},
   "source": [
    "## predictive vaccination in (NW)\n",
    "\n"
   ]
  },
  {
   "cell_type": "code",
   "execution_count": 101,
   "metadata": {},
   "outputs": [
    {
     "data": {
      "text/plain": [
       "0.776956630171956"
      ]
     },
     "execution_count": 101,
     "metadata": {},
     "output_type": "execute_result"
    }
   ],
   "source": [
    "X=vacc2['YYYYMMDD'].values.reshape(-1, 1)\n",
    "y=vacc2['NW'].values.reshape(-1, 1)\n",
    "from sklearn.linear_model import LinearRegression\n",
    "model= LinearRegression()\n",
    "model.fit(X=vacc2['YYYYMMDD'].values.reshape(-1, 1),y=vacc2['NW'].values.reshape(-1, 1))\n",
    "model.score(X,y)"
   ]
  },
  {
   "cell_type": "code",
   "execution_count": 102,
   "metadata": {},
   "outputs": [
    {
     "data": {
      "text/plain": [
       "array([[-2.4900575e+10]])"
      ]
     },
     "execution_count": 102,
     "metadata": {},
     "output_type": "execute_result"
    }
   ],
   "source": [
    "model.predict([[20211019]])\n",
    "model.predict([[2022112]])"
   ]
  },
  {
   "cell_type": "code",
   "execution_count": 103,
   "metadata": {},
   "outputs": [],
   "source": [
    "import datetime"
   ]
  },
  {
   "cell_type": "markdown",
   "metadata": {},
   "source": [
    "# Predictive Confrimed cases on  covid-19 in Sauth Arican:\n",
    "\n",
    "\n"
   ]
  },
  {
   "cell_type": "markdown",
   "metadata": {},
   "source": [
    "# Using Machine learning model to predicate the Death cases on south africa for 09/29/2021 TO10/08/2021 "
   ]
  },
  {
   "cell_type": "code",
   "execution_count": 104,
   "metadata": {},
   "outputs": [],
   "source": [
    "corona_sorted_df=death"
   ]
  },
  {
   "cell_type": "code",
   "execution_count": 105,
   "metadata": {},
   "outputs": [],
   "source": [
    "corona_sorted_df['Date'] = pd.to_datetime(corona_sorted_df['YYYYMMDD'], format='%Y%m%d')"
   ]
  },
  {
   "cell_type": "code",
   "execution_count": 106,
   "metadata": {},
   "outputs": [],
   "source": [
    "\n",
    "corona_sorted_df = corona_sorted_df.sort_values(\n",
    "    'Date', ascending=False)"
   ]
  },
  {
   "cell_type": "code",
   "execution_count": 107,
   "metadata": {},
   "outputs": [
    {
     "data": {
      "text/html": [
       "<div>\n",
       "<style scoped>\n",
       "    .dataframe tbody tr th:only-of-type {\n",
       "        vertical-align: middle;\n",
       "    }\n",
       "\n",
       "    .dataframe tbody tr th {\n",
       "        vertical-align: top;\n",
       "    }\n",
       "\n",
       "    .dataframe thead th {\n",
       "        text-align: right;\n",
       "    }\n",
       "</style>\n",
       "<table border=\"1\" class=\"dataframe\">\n",
       "  <thead>\n",
       "    <tr style=\"text-align: right;\">\n",
       "      <th></th>\n",
       "      <th>date</th>\n",
       "      <th>YYYYMMDD</th>\n",
       "      <th>EC</th>\n",
       "      <th>FS</th>\n",
       "      <th>GP</th>\n",
       "      <th>KZN</th>\n",
       "      <th>LP</th>\n",
       "      <th>MP</th>\n",
       "      <th>NC</th>\n",
       "      <th>NW</th>\n",
       "      <th>WC</th>\n",
       "      <th>UNKNOWN</th>\n",
       "      <th>total</th>\n",
       "      <th>Date</th>\n",
       "    </tr>\n",
       "  </thead>\n",
       "  <tbody>\n",
       "    <tr>\n",
       "      <th>546</th>\n",
       "      <td>28-09-2021</td>\n",
       "      <td>20210928</td>\n",
       "      <td>14797</td>\n",
       "      <td>6688</td>\n",
       "      <td>19365</td>\n",
       "      <td>14551</td>\n",
       "      <td>4004</td>\n",
       "      <td>1966</td>\n",
       "      <td>2182</td>\n",
       "      <td>4144</td>\n",
       "      <td>19720</td>\n",
       "      <td>0</td>\n",
       "      <td>87417</td>\n",
       "      <td>2021-09-28</td>\n",
       "    </tr>\n",
       "    <tr>\n",
       "      <th>545</th>\n",
       "      <td>27-09-2021</td>\n",
       "      <td>20210927</td>\n",
       "      <td>14765</td>\n",
       "      <td>6677</td>\n",
       "      <td>19340</td>\n",
       "      <td>14517</td>\n",
       "      <td>4004</td>\n",
       "      <td>1963</td>\n",
       "      <td>2176</td>\n",
       "      <td>4085</td>\n",
       "      <td>19689</td>\n",
       "      <td>0</td>\n",
       "      <td>87216</td>\n",
       "      <td>2021-09-27</td>\n",
       "    </tr>\n",
       "    <tr>\n",
       "      <th>544</th>\n",
       "      <td>26-09-2021</td>\n",
       "      <td>20210926</td>\n",
       "      <td>14741</td>\n",
       "      <td>6657</td>\n",
       "      <td>19306</td>\n",
       "      <td>14512</td>\n",
       "      <td>3949</td>\n",
       "      <td>1959</td>\n",
       "      <td>2170</td>\n",
       "      <td>4085</td>\n",
       "      <td>19673</td>\n",
       "      <td>0</td>\n",
       "      <td>87052</td>\n",
       "      <td>2021-09-26</td>\n",
       "    </tr>\n",
       "    <tr>\n",
       "      <th>543</th>\n",
       "      <td>25-09-2021</td>\n",
       "      <td>20210925</td>\n",
       "      <td>14733</td>\n",
       "      <td>6630</td>\n",
       "      <td>19302</td>\n",
       "      <td>14507</td>\n",
       "      <td>3949</td>\n",
       "      <td>1959</td>\n",
       "      <td>2170</td>\n",
       "      <td>4085</td>\n",
       "      <td>19666</td>\n",
       "      <td>0</td>\n",
       "      <td>87001</td>\n",
       "      <td>2021-09-25</td>\n",
       "    </tr>\n",
       "    <tr>\n",
       "      <th>542</th>\n",
       "      <td>24-09-2021</td>\n",
       "      <td>20210924</td>\n",
       "      <td>14724</td>\n",
       "      <td>6630</td>\n",
       "      <td>19302</td>\n",
       "      <td>14505</td>\n",
       "      <td>3949</td>\n",
       "      <td>1957</td>\n",
       "      <td>2168</td>\n",
       "      <td>4085</td>\n",
       "      <td>19647</td>\n",
       "      <td>0</td>\n",
       "      <td>86967</td>\n",
       "      <td>2021-09-24</td>\n",
       "    </tr>\n",
       "  </tbody>\n",
       "</table>\n",
       "</div>"
      ],
      "text/plain": [
       "           date  YYYYMMDD     EC    FS     GP    KZN    LP    MP    NC    NW  \\\n",
       "546  28-09-2021  20210928  14797  6688  19365  14551  4004  1966  2182  4144   \n",
       "545  27-09-2021  20210927  14765  6677  19340  14517  4004  1963  2176  4085   \n",
       "544  26-09-2021  20210926  14741  6657  19306  14512  3949  1959  2170  4085   \n",
       "543  25-09-2021  20210925  14733  6630  19302  14507  3949  1959  2170  4085   \n",
       "542  24-09-2021  20210924  14724  6630  19302  14505  3949  1957  2168  4085   \n",
       "\n",
       "        WC  UNKNOWN  total       Date  \n",
       "546  19720        0  87417 2021-09-28  \n",
       "545  19689        0  87216 2021-09-27  \n",
       "544  19673        0  87052 2021-09-26  \n",
       "543  19666        0  87001 2021-09-25  \n",
       "542  19647        0  86967 2021-09-24  "
      ]
     },
     "execution_count": 107,
     "metadata": {},
     "output_type": "execute_result"
    }
   ],
   "source": [
    "corona_sorted_df.head()"
   ]
  },
  {
   "cell_type": "code",
   "execution_count": 108,
   "metadata": {},
   "outputs": [
    {
     "data": {
      "text/plain": [
       "(547, 14)"
      ]
     },
     "execution_count": 108,
     "metadata": {},
     "output_type": "execute_result"
    }
   ],
   "source": [
    "corona_sorted_df.shape"
   ]
  },
  {
   "cell_type": "code",
   "execution_count": 109,
   "metadata": {},
   "outputs": [
    {
     "data": {
      "text/plain": [
       "Int64Index([546, 545, 544, 543, 542, 541, 540, 539, 538, 537,\n",
       "            ...\n",
       "              9,   8,   7,   6,   5,   4,   3,   2,   1,   0],\n",
       "           dtype='int64', length=547)"
      ]
     },
     "execution_count": 109,
     "metadata": {},
     "output_type": "execute_result"
    }
   ],
   "source": [
    "corona_sorted_df.index"
   ]
  },
  {
   "cell_type": "code",
   "execution_count": 110,
   "metadata": {},
   "outputs": [],
   "source": [
    "corona_cases_per_day=corona_sorted_df"
   ]
  },
  {
   "cell_type": "code",
   "execution_count": 111,
   "metadata": {},
   "outputs": [
    {
     "data": {
      "text/html": [
       "<div>\n",
       "<style scoped>\n",
       "    .dataframe tbody tr th:only-of-type {\n",
       "        vertical-align: middle;\n",
       "    }\n",
       "\n",
       "    .dataframe tbody tr th {\n",
       "        vertical-align: top;\n",
       "    }\n",
       "\n",
       "    .dataframe thead th {\n",
       "        text-align: right;\n",
       "    }\n",
       "</style>\n",
       "<table border=\"1\" class=\"dataframe\">\n",
       "  <thead>\n",
       "    <tr style=\"text-align: right;\">\n",
       "      <th></th>\n",
       "      <th>count</th>\n",
       "      <th>mean</th>\n",
       "      <th>std</th>\n",
       "      <th>min</th>\n",
       "      <th>25%</th>\n",
       "      <th>50%</th>\n",
       "      <th>75%</th>\n",
       "      <th>max</th>\n",
       "    </tr>\n",
       "  </thead>\n",
       "  <tbody>\n",
       "    <tr>\n",
       "      <th>YYYYMMDD</th>\n",
       "      <td>547.0</td>\n",
       "      <td>2.020562e+07</td>\n",
       "      <td>4861.400035</td>\n",
       "      <td>20200327.0</td>\n",
       "      <td>20200814.5</td>\n",
       "      <td>20201229.0</td>\n",
       "      <td>20210514.5</td>\n",
       "      <td>20210928.0</td>\n",
       "    </tr>\n",
       "    <tr>\n",
       "      <th>EC</th>\n",
       "      <td>547.0</td>\n",
       "      <td>6.971931e+03</td>\n",
       "      <td>5093.272034</td>\n",
       "      <td>0.0</td>\n",
       "      <td>2444.5</td>\n",
       "      <td>7171.0</td>\n",
       "      <td>11615.0</td>\n",
       "      <td>14797.0</td>\n",
       "    </tr>\n",
       "    <tr>\n",
       "      <th>FS</th>\n",
       "      <td>547.0</td>\n",
       "      <td>2.524724e+03</td>\n",
       "      <td>2120.276633</td>\n",
       "      <td>0.0</td>\n",
       "      <td>504.5</td>\n",
       "      <td>2163.0</td>\n",
       "      <td>4013.5</td>\n",
       "      <td>6688.0</td>\n",
       "    </tr>\n",
       "    <tr>\n",
       "      <th>GP</th>\n",
       "      <td>547.0</td>\n",
       "      <td>7.386512e+03</td>\n",
       "      <td>5855.066356</td>\n",
       "      <td>0.0</td>\n",
       "      <td>2877.5</td>\n",
       "      <td>5424.0</td>\n",
       "      <td>10855.0</td>\n",
       "      <td>19365.0</td>\n",
       "    </tr>\n",
       "    <tr>\n",
       "      <th>KZN</th>\n",
       "      <td>547.0</td>\n",
       "      <td>6.007982e+03</td>\n",
       "      <td>4786.120094</td>\n",
       "      <td>0.0</td>\n",
       "      <td>1634.0</td>\n",
       "      <td>4134.0</td>\n",
       "      <td>10450.0</td>\n",
       "      <td>14551.0</td>\n",
       "    </tr>\n",
       "    <tr>\n",
       "      <th>LP</th>\n",
       "      <td>547.0</td>\n",
       "      <td>1.327150e+03</td>\n",
       "      <td>1302.238162</td>\n",
       "      <td>0.0</td>\n",
       "      <td>150.0</td>\n",
       "      <td>556.0</td>\n",
       "      <td>2336.0</td>\n",
       "      <td>4004.0</td>\n",
       "    </tr>\n",
       "    <tr>\n",
       "      <th>MP</th>\n",
       "      <td>547.0</td>\n",
       "      <td>8.462925e+02</td>\n",
       "      <td>644.831121</td>\n",
       "      <td>0.0</td>\n",
       "      <td>189.0</td>\n",
       "      <td>640.0</td>\n",
       "      <td>1414.0</td>\n",
       "      <td>1966.0</td>\n",
       "    </tr>\n",
       "    <tr>\n",
       "      <th>NC</th>\n",
       "      <td>547.0</td>\n",
       "      <td>6.410274e+02</td>\n",
       "      <td>644.769679</td>\n",
       "      <td>0.0</td>\n",
       "      <td>94.0</td>\n",
       "      <td>379.0</td>\n",
       "      <td>969.0</td>\n",
       "      <td>2182.0</td>\n",
       "    </tr>\n",
       "    <tr>\n",
       "      <th>NW</th>\n",
       "      <td>547.0</td>\n",
       "      <td>1.139366e+03</td>\n",
       "      <td>1179.488415</td>\n",
       "      <td>0.0</td>\n",
       "      <td>176.0</td>\n",
       "      <td>577.0</td>\n",
       "      <td>1798.0</td>\n",
       "      <td>4144.0</td>\n",
       "    </tr>\n",
       "    <tr>\n",
       "      <th>WC</th>\n",
       "      <td>547.0</td>\n",
       "      <td>7.808042e+03</td>\n",
       "      <td>5611.523552</td>\n",
       "      <td>1.0</td>\n",
       "      <td>3547.0</td>\n",
       "      <td>6524.0</td>\n",
       "      <td>11703.0</td>\n",
       "      <td>19720.0</td>\n",
       "    </tr>\n",
       "    <tr>\n",
       "      <th>UNKNOWN</th>\n",
       "      <td>547.0</td>\n",
       "      <td>0.000000e+00</td>\n",
       "      <td>0.000000</td>\n",
       "      <td>0.0</td>\n",
       "      <td>0.0</td>\n",
       "      <td>0.0</td>\n",
       "      <td>0.0</td>\n",
       "      <td>0.0</td>\n",
       "    </tr>\n",
       "    <tr>\n",
       "      <th>total</th>\n",
       "      <td>547.0</td>\n",
       "      <td>3.465335e+04</td>\n",
       "      <td>26898.674577</td>\n",
       "      <td>1.0</td>\n",
       "      <td>11616.5</td>\n",
       "      <td>27568.0</td>\n",
       "      <td>55153.5</td>\n",
       "      <td>87417.0</td>\n",
       "    </tr>\n",
       "  </tbody>\n",
       "</table>\n",
       "</div>"
      ],
      "text/plain": [
       "          count          mean           std         min         25%  \\\n",
       "YYYYMMDD  547.0  2.020562e+07   4861.400035  20200327.0  20200814.5   \n",
       "EC        547.0  6.971931e+03   5093.272034         0.0      2444.5   \n",
       "FS        547.0  2.524724e+03   2120.276633         0.0       504.5   \n",
       "GP        547.0  7.386512e+03   5855.066356         0.0      2877.5   \n",
       "KZN       547.0  6.007982e+03   4786.120094         0.0      1634.0   \n",
       "LP        547.0  1.327150e+03   1302.238162         0.0       150.0   \n",
       "MP        547.0  8.462925e+02    644.831121         0.0       189.0   \n",
       "NC        547.0  6.410274e+02    644.769679         0.0        94.0   \n",
       "NW        547.0  1.139366e+03   1179.488415         0.0       176.0   \n",
       "WC        547.0  7.808042e+03   5611.523552         1.0      3547.0   \n",
       "UNKNOWN   547.0  0.000000e+00      0.000000         0.0         0.0   \n",
       "total     547.0  3.465335e+04  26898.674577         1.0     11616.5   \n",
       "\n",
       "                 50%         75%         max  \n",
       "YYYYMMDD  20201229.0  20210514.5  20210928.0  \n",
       "EC            7171.0     11615.0     14797.0  \n",
       "FS            2163.0      4013.5      6688.0  \n",
       "GP            5424.0     10855.0     19365.0  \n",
       "KZN           4134.0     10450.0     14551.0  \n",
       "LP             556.0      2336.0      4004.0  \n",
       "MP             640.0      1414.0      1966.0  \n",
       "NC             379.0       969.0      2182.0  \n",
       "NW             577.0      1798.0      4144.0  \n",
       "WC            6524.0     11703.0     19720.0  \n",
       "UNKNOWN          0.0         0.0         0.0  \n",
       "total        27568.0     55153.5     87417.0  "
      ]
     },
     "execution_count": 111,
     "metadata": {},
     "output_type": "execute_result"
    }
   ],
   "source": [
    "corona_cases_per_day.describe().T"
   ]
  },
  {
   "cell_type": "code",
   "execution_count": 112,
   "metadata": {},
   "outputs": [
    {
     "data": {
      "text/html": [
       "<div>\n",
       "<style scoped>\n",
       "    .dataframe tbody tr th:only-of-type {\n",
       "        vertical-align: middle;\n",
       "    }\n",
       "\n",
       "    .dataframe tbody tr th {\n",
       "        vertical-align: top;\n",
       "    }\n",
       "\n",
       "    .dataframe thead th {\n",
       "        text-align: right;\n",
       "    }\n",
       "</style>\n",
       "<table border=\"1\" class=\"dataframe\">\n",
       "  <thead>\n",
       "    <tr style=\"text-align: right;\">\n",
       "      <th></th>\n",
       "      <th>date</th>\n",
       "      <th>YYYYMMDD</th>\n",
       "      <th>EC</th>\n",
       "      <th>FS</th>\n",
       "      <th>GP</th>\n",
       "      <th>KZN</th>\n",
       "      <th>LP</th>\n",
       "      <th>MP</th>\n",
       "      <th>NC</th>\n",
       "      <th>NW</th>\n",
       "      <th>WC</th>\n",
       "      <th>UNKNOWN</th>\n",
       "      <th>total</th>\n",
       "      <th>Date</th>\n",
       "    </tr>\n",
       "  </thead>\n",
       "  <tbody>\n",
       "    <tr>\n",
       "      <th>546</th>\n",
       "      <td>28-09-2021</td>\n",
       "      <td>20210928</td>\n",
       "      <td>14797</td>\n",
       "      <td>6688</td>\n",
       "      <td>19365</td>\n",
       "      <td>14551</td>\n",
       "      <td>4004</td>\n",
       "      <td>1966</td>\n",
       "      <td>2182</td>\n",
       "      <td>4144</td>\n",
       "      <td>19720</td>\n",
       "      <td>0</td>\n",
       "      <td>87417</td>\n",
       "      <td>2021-09-28</td>\n",
       "    </tr>\n",
       "    <tr>\n",
       "      <th>545</th>\n",
       "      <td>27-09-2021</td>\n",
       "      <td>20210927</td>\n",
       "      <td>14765</td>\n",
       "      <td>6677</td>\n",
       "      <td>19340</td>\n",
       "      <td>14517</td>\n",
       "      <td>4004</td>\n",
       "      <td>1963</td>\n",
       "      <td>2176</td>\n",
       "      <td>4085</td>\n",
       "      <td>19689</td>\n",
       "      <td>0</td>\n",
       "      <td>87216</td>\n",
       "      <td>2021-09-27</td>\n",
       "    </tr>\n",
       "    <tr>\n",
       "      <th>544</th>\n",
       "      <td>26-09-2021</td>\n",
       "      <td>20210926</td>\n",
       "      <td>14741</td>\n",
       "      <td>6657</td>\n",
       "      <td>19306</td>\n",
       "      <td>14512</td>\n",
       "      <td>3949</td>\n",
       "      <td>1959</td>\n",
       "      <td>2170</td>\n",
       "      <td>4085</td>\n",
       "      <td>19673</td>\n",
       "      <td>0</td>\n",
       "      <td>87052</td>\n",
       "      <td>2021-09-26</td>\n",
       "    </tr>\n",
       "    <tr>\n",
       "      <th>543</th>\n",
       "      <td>25-09-2021</td>\n",
       "      <td>20210925</td>\n",
       "      <td>14733</td>\n",
       "      <td>6630</td>\n",
       "      <td>19302</td>\n",
       "      <td>14507</td>\n",
       "      <td>3949</td>\n",
       "      <td>1959</td>\n",
       "      <td>2170</td>\n",
       "      <td>4085</td>\n",
       "      <td>19666</td>\n",
       "      <td>0</td>\n",
       "      <td>87001</td>\n",
       "      <td>2021-09-25</td>\n",
       "    </tr>\n",
       "    <tr>\n",
       "      <th>542</th>\n",
       "      <td>24-09-2021</td>\n",
       "      <td>20210924</td>\n",
       "      <td>14724</td>\n",
       "      <td>6630</td>\n",
       "      <td>19302</td>\n",
       "      <td>14505</td>\n",
       "      <td>3949</td>\n",
       "      <td>1957</td>\n",
       "      <td>2168</td>\n",
       "      <td>4085</td>\n",
       "      <td>19647</td>\n",
       "      <td>0</td>\n",
       "      <td>86967</td>\n",
       "      <td>2021-09-24</td>\n",
       "    </tr>\n",
       "  </tbody>\n",
       "</table>\n",
       "</div>"
      ],
      "text/plain": [
       "           date  YYYYMMDD     EC    FS     GP    KZN    LP    MP    NC    NW  \\\n",
       "546  28-09-2021  20210928  14797  6688  19365  14551  4004  1966  2182  4144   \n",
       "545  27-09-2021  20210927  14765  6677  19340  14517  4004  1963  2176  4085   \n",
       "544  26-09-2021  20210926  14741  6657  19306  14512  3949  1959  2170  4085   \n",
       "543  25-09-2021  20210925  14733  6630  19302  14507  3949  1959  2170  4085   \n",
       "542  24-09-2021  20210924  14724  6630  19302  14505  3949  1957  2168  4085   \n",
       "\n",
       "        WC  UNKNOWN  total       Date  \n",
       "546  19720        0  87417 2021-09-28  \n",
       "545  19689        0  87216 2021-09-27  \n",
       "544  19673        0  87052 2021-09-26  \n",
       "543  19666        0  87001 2021-09-25  \n",
       "542  19647        0  86967 2021-09-24  "
      ]
     },
     "execution_count": 112,
     "metadata": {},
     "output_type": "execute_result"
    }
   ],
   "source": [
    "corona_cases_per_day.head()"
   ]
  },
  {
   "cell_type": "code",
   "execution_count": 114,
   "metadata": {},
   "outputs": [
    {
     "name": "stdout",
     "output_type": "stream",
     "text": [
      "Blue : Confirmed Cases \n"
     ]
    },
    {
     "data": {
      "image/png": "[encoded data removed]",
      "text/plain": [
       "<Figure size 432x288 with 1 Axes>"
      ]
     },
     "metadata": {
      "needs_background": "light"
     },
     "output_type": "display_data"
    }
   ],
   "source": [
    "\n",
    "x = corona_cases_per_day.Date\n",
    "y = corona_cases_per_day.total\n",
    "\n",
    "ax = plt.gca()\n",
    "corona_cases_per_day.plot(kind='line', x='Date',\n",
    "                          y='total', color='blue', ax=ax)\n",
    "\n",
    "print(\"Blue : Death Cases \")\n",
    "\n",
    "plt.ylabel('Total cases(#)')\n",
    "plt.title('Total death case report per day.')\n",
    "plt.show()"
   ]
  },
  {
   "cell_type": "markdown",
   "metadata": {},
   "source": [
    "# Converting Date column of dataset to numeric for ensuring the independent variable "
   ]
  },
  {
   "cell_type": "code",
   "execution_count": 115,
   "metadata": {},
   "outputs": [],
   "source": [
    "\n",
    "corona_index_df = pd.DataFrame(corona_cases_per_day.index)\n",
    "corona_confirmed_df = pd.DataFrame(corona_cases_per_day.total)\n"
   ]
  },
  {
   "cell_type": "markdown",
   "metadata": {},
   "source": [
    "# Prepare dataset for model\n"
   ]
  },
  {
   "cell_type": "code",
   "execution_count": 117,
   "metadata": {},
   "outputs": [],
   "source": [
    "\n",
    "x_days_train = corona_index_df[0:]\n",
    "x_days_validate = corona_index_df[100:200]\n",
    "x_days_test = corona_index_df[200:]\n",
    "\n",
    "# Confirmed\n",
    "y_confirmed_train = corona_confirmed_df[0:]\n",
    "y_confirmed_validate = corona_confirmed_df[100:200]\n",
    "y_confirmed_test = corona_confirmed_df[200:]"
   ]
  },
  {
   "cell_type": "code",
   "execution_count": 118,
   "metadata": {},
   "outputs": [
    {
     "data": {
      "text/plain": [
       "(547, 1)"
      ]
     },
     "execution_count": 118,
     "metadata": {},
     "output_type": "execute_result"
    }
   ],
   "source": [
    "corona_index_df.shape"
   ]
  },
  {
   "cell_type": "markdown",
   "metadata": {},
   "source": [
    "# Bulid the Linear regression model "
   ]
  },
  {
   "cell_type": "code",
   "execution_count": 119,
   "metadata": {},
   "outputs": [
    {
     "data": {
      "image/png": "[encoded data removed]",
      "text/plain": [
       "<Figure size 432x288 with 1 Axes>"
      ]
     },
     "metadata": {
      "needs_background": "light"
     },
     "output_type": "display_data"
    }
   ],
   "source": [
    "\n",
    "ln_model = LinearRegression()\n",
    "ln_model.fit(x_days_train, y_confirmed_train)\n",
    "\n",
    "plt.scatter(x_days_train, y_confirmed_train, color='red')\n",
    "plt.plot(x_days_train, ln_model.predict(x_days_train), color='blue')\n",
    "plt.title('COVID-19 confimed cases of worldwide(Linear Regression)')\n",
    "plt.xlabel('Days')\n",
    "plt.ylabel('Confirmed(#)')\n",
    "plt.show()"
   ]
  },
  {
   "cell_type": "markdown",
   "metadata": {},
   "source": [
    "# Linear Regession  R2 Score"
   ]
  },
  {
   "cell_type": "code",
   "execution_count": 120,
   "metadata": {},
   "outputs": [
    {
     "name": "stdout",
     "output_type": "stream",
     "text": [
      "Linear Regession  R2 Score   :  0.9696980585340924\n",
      "RMSE of Linear regression is : 4678.092086454448\n"
     ]
    }
   ],
   "source": [
    "\n",
    "print('Linear Regession  R2 Score   : ',\n",
    "      r2_score(y_confirmed_train, ln_model.predict(x_days_train)))\n",
    "rmse = np.sqrt(mean_squared_error(\n",
    "    y_confirmed_train, ln_model.predict(x_days_train)))\n",
    "print('RMSE of Linear regression is :', rmse)"
   ]
  },
  {
   "cell_type": "markdown",
   "metadata": {},
   "source": [
    "# Predict the Death cases of the data."
   ]
  },
  {
   "cell_type": "code",
   "execution_count": 121,
   "metadata": {},
   "outputs": [
    {
     "name": "stdout",
     "output_type": "stream",
     "text": [
      "    Real Value  Predicted Value\n",
      "0        58702     63646.940281\n",
      "1        58590     63479.347301\n",
      "2        58441     63311.754320\n",
      "3        58323     63144.161340\n",
      "4        58223     62976.568359\n",
      "..         ...              ...\n",
      "95       51634     47725.607138\n",
      "96       51560     47558.014157\n",
      "97       51421     47390.421177\n",
      "98       51326     47222.828196\n",
      "99       51261     47055.235216\n",
      "\n",
      "[100 rows x 2 columns]\n"
     ]
    }
   ],
   "source": [
    "\n",
    "y_pred = ln_model.predict(x_days_validate)\n",
    "result = pd.DataFrame(y_pred)\n",
    "result['Real Value'] = y_confirmed_validate.iloc[:, :].values\n",
    "result['Predicted Value'] = pd.DataFrame(y_pred)\n",
    "result = result[['Real Value', 'Predicted Value']]\n",
    "print(result)"
   ]
  },
  {
   "cell_type": "code",
   "execution_count": 122,
   "metadata": {},
   "outputs": [],
   "source": [
    " DateTopred = pd.DataFrame()\n",
    "    "
   ]
  },
  {
   "cell_type": "markdown",
   "metadata": {},
   "source": [
    "# Predicate the Death cases on south africa for 09/29/2021 TO10/08/2021"
   ]
  },
  {
   "cell_type": "code",
   "execution_count": 123,
   "metadata": {},
   "outputs": [],
   "source": [
    "DateTopred['Dates']=pd.date_range(start='09/29/2021', end='10/08/2021')"
   ]
  },
  {
   "cell_type": "code",
   "execution_count": 124,
   "metadata": {},
   "outputs": [
    {
     "data": {
      "text/plain": [
       "RangeIndex(start=0, stop=10, step=1)"
      ]
     },
     "execution_count": 124,
     "metadata": {},
     "output_type": "execute_result"
    }
   ],
   "source": [
    "DateTopred.index"
   ]
  },
  {
   "cell_type": "code",
   "execution_count": 125,
   "metadata": {},
   "outputs": [],
   "source": [
    "corona_Predect_index_df = pd.DataFrame(DateTopred.index)"
   ]
  },
  {
   "cell_type": "code",
   "execution_count": 126,
   "metadata": {},
   "outputs": [
    {
     "data": {
      "text/plain": [
       "RangeIndex(start=200, stop=547, step=1)"
      ]
     },
     "execution_count": 126,
     "metadata": {},
     "output_type": "execute_result"
    }
   ],
   "source": [
    "x_days_test.index"
   ]
  },
  {
   "cell_type": "code",
   "execution_count": null,
   "metadata": {},
   "outputs": [],
   "source": []
  },
  {
   "cell_type": "code",
   "execution_count": 127,
   "metadata": {},
   "outputs": [
    {
     "data": {
      "text/html": [
       "<div>\n",
       "<style scoped>\n",
       "    .dataframe tbody tr th:only-of-type {\n",
       "        vertical-align: middle;\n",
       "    }\n",
       "\n",
       "    .dataframe tbody tr th {\n",
       "        vertical-align: top;\n",
       "    }\n",
       "\n",
       "    .dataframe thead th {\n",
       "        text-align: right;\n",
       "    }\n",
       "</style>\n",
       "<table border=\"1\" class=\"dataframe\">\n",
       "  <thead>\n",
       "    <tr style=\"text-align: right;\">\n",
       "      <th></th>\n",
       "      <th>Dates</th>\n",
       "    </tr>\n",
       "  </thead>\n",
       "  <tbody>\n",
       "    <tr>\n",
       "      <th>0</th>\n",
       "      <td>2021-09-29</td>\n",
       "    </tr>\n",
       "    <tr>\n",
       "      <th>1</th>\n",
       "      <td>2021-09-30</td>\n",
       "    </tr>\n",
       "    <tr>\n",
       "      <th>2</th>\n",
       "      <td>2021-10-01</td>\n",
       "    </tr>\n",
       "    <tr>\n",
       "      <th>3</th>\n",
       "      <td>2021-10-02</td>\n",
       "    </tr>\n",
       "    <tr>\n",
       "      <th>4</th>\n",
       "      <td>2021-10-03</td>\n",
       "    </tr>\n",
       "    <tr>\n",
       "      <th>5</th>\n",
       "      <td>2021-10-04</td>\n",
       "    </tr>\n",
       "    <tr>\n",
       "      <th>6</th>\n",
       "      <td>2021-10-05</td>\n",
       "    </tr>\n",
       "    <tr>\n",
       "      <th>7</th>\n",
       "      <td>2021-10-06</td>\n",
       "    </tr>\n",
       "    <tr>\n",
       "      <th>8</th>\n",
       "      <td>2021-10-07</td>\n",
       "    </tr>\n",
       "    <tr>\n",
       "      <th>9</th>\n",
       "      <td>2021-10-08</td>\n",
       "    </tr>\n",
       "  </tbody>\n",
       "</table>\n",
       "</div>"
      ],
      "text/plain": [
       "       Dates\n",
       "0 2021-09-29\n",
       "1 2021-09-30\n",
       "2 2021-10-01\n",
       "3 2021-10-02\n",
       "4 2021-10-03\n",
       "5 2021-10-04\n",
       "6 2021-10-05\n",
       "7 2021-10-06\n",
       "8 2021-10-07\n",
       "9 2021-10-08"
      ]
     },
     "execution_count": 127,
     "metadata": {},
     "output_type": "execute_result"
    }
   ],
   "source": [
    "DateTopred.head(10)"
   ]
  },
  {
   "cell_type": "code",
   "execution_count": 130,
   "metadata": {},
   "outputs": [
    {
     "name": "stdout",
     "output_type": "stream",
     "text": [
      "        Date  Predicted Value\n",
      "0 2021-09-29          11100.0\n",
      "1 2021-09-30          10932.0\n",
      "2 2021-10-01          10764.0\n",
      "3 2021-10-02          10597.0\n",
      "4 2021-10-03          10429.0\n",
      "5 2021-10-04          10262.0\n",
      "6 2021-10-05          10094.0\n",
      "7 2021-10-06           9926.0\n",
      "8 2021-10-07           9759.0\n",
      "9 2021-10-08           9591.0\n"
     ]
    }
   ],
   "source": [
    "y_confirmed_test_pred1 = ln_model.predict(corona_Predect_index_df)\n",
    "predicted_result = pd.DataFrame(y_confirmed_test_pred1)\n",
    "predicted_result['Date'] = DateTopred.iloc[:, :]\n",
    "predicted_result['Predicted Value'] = pd.DataFrame(y_confirmed_test_pred1).abs().round(0)\n",
    "predicted_result = predicted_result[[\n",
    "    'Date', 'Predicted Value']]\n",
    "print(predicted_result)"
   ]
  },
  {
   "cell_type": "code",
   "execution_count": 131,
   "metadata": {},
   "outputs": [],
   "source": [
    "predicted_result.to_csv('predected_values/predicted_death_result.csv',index=False)"
   ]
  },
  {
   "cell_type": "code",
   "execution_count": null,
   "metadata": {},
   "outputs": [],
   "source": []
  },
  {
   "cell_type": "code",
   "execution_count": null,
   "metadata": {},
   "outputs": [],
   "source": []
  },
  {
   "cell_type": "code",
   "execution_count": null,
   "metadata": {},
   "outputs": [],
   "source": []
  },
  {
   "cell_type": "code",
   "execution_count": null,
   "metadata": {},
   "outputs": [],
   "source": []
  },
  {
   "cell_type": "code",
   "execution_count": null,
   "metadata": {},
   "outputs": [],
   "source": []
  }
 ],
 "metadata": {
  "kernelspec": {
   "display_name": "Python 3 (ipykernel)",
   "language": "python",
   "name": "python3"
  },
  "language_info": {
   "codemirror_mode": {
    "name": "ipython",
    "version": 3
   },
   "file_extension": ".py",
   "mimetype": "text/x-python",
   "name": "python",
   "nbconvert_exporter": "python",
   "pygments_lexer": "ipython3",
   "version": "3.7.11"
  }
 },
 "nbformat": 4,
 "nbformat_minor": 2
}
